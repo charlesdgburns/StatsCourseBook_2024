{
 "cells": [
  {
   "cell_type": "markdown",
   "id": "b0a1ef8a-e6ce-49ce-9dbf-51bcaee7b47d",
   "metadata": {},
   "source": [
    "# ChatGPT\n",
    "\n",
    "You may well have heard of ChatGPT, an AI tool that can be used to draft text (please don't hand in essays written by ChatGPT!).\n",
    "\n",
    "ChatGPT is actually really good at writing code. Basically it reproduces things people have posted on the internet, and there is a lot of code on the internet, especially in Python.\n",
    "\n",
    "You can use ChatGPT to help you write code, as you will see in the example below. \n",
    "\n",
    "**The existance of ChatGPT does *not* mean it is pointless to learn Python! Quite the opposite!**\n",
    "\n",
    "Chat GPT means that if you learn a *little* coding - enough coding concepts and syntax to *read* code, you will be able to *write* code easily with help of ChatGPT. \n",
    "\n",
    "In other words:\n",
    "* In days gone by, if you took a basic coding course (like this one) you could write basic code\n",
    "* Now, with help of AI, if you take a basic coding course like this one you can write advanced and efficient code\n",
    "\n",
    "## Is it cheating?\n",
    "\n",
    "No. \n",
    "\n",
    "Coders have always worked by taking existing code (traditionally, written by other humans) and modifying it. This is how you learn to code, and how most code for practical applications is developed. For example, many research labs share all their code via an online site called GitHub; new lab members will develop their data analysis code based on what other lab members have done in the past.\n",
    "\n",
    "In this course, I encourage you to use the code snippets in my worked examples to help you complete the exercises and assignments. You need to understand them so you can modify them as needed, but you don't need to write them fromm scratch.\n",
    "\n",
    "Using code generated (or basically, found on the internet) by ChatGPT is no different from the above examples really and is an acceptable way to procede, bbut you should (in all cases where you are modifying existing code), try to understand what the code, otherwise you will end up with your code not doing what was intended.\n",
    "\n",
    "One caveat to be aware of is that at present it is forbidden to use ChatGPT in university exams, which would include the exam for this course. It is however permitted to use your own notes and the course notes in exams.\n",
    "\n",
    "## Example \n",
    "\n",
    "I decided to see what ChatGPT would make of the coin-toss example.\n",
    "\n",
    "If you have a ChatGPT account (you can make one for free) you can try this for yourself.\n",
    "\n",
    "We are going to want to copy the code into the Jupyter Notebbook and run it, so let's set up our Python libraries as usual:\n"
   ]
  },
  {
   "cell_type": "code",
   "execution_count": null,
   "id": "dbf300a3-32c8-4ec0-8dbf-2d187092c41b",
   "metadata": {},
   "outputs": [],
   "source": [
    "# Set-up Python libraries - you need to run this but you don't need to change it\n",
    "import numpy as np\n",
    "import matplotlib.pyplot as plt\n",
    "import scipy.stats as stats\n",
    "import pandas as pd\n",
    "import seaborn as sns\n",
    "sns.set_theme(style='white')\n",
    "import statsmodels.api as sm\n",
    "import statsmodels.formula.api as smf"
   ]
  },
  {
   "cell_type": "markdown",
   "id": "27594494-3ffe-4fef-b9ae-4a115f48b5b8",
   "metadata": {},
   "source": [
    "I started by asking ChatGPT for some code:\n",
    "\n",
    "<img src=\"https://raw.githubusercontent.com/jillxoreilly/StatsCourseBook_2024/main/images/MT_wk0_ChatGPT1.png\" width=80% />\n"
   ]
  },
  {
   "cell_type": "code",
   "execution_count": null,
   "id": "4061b635-d268-4d67-a889-6f748be354a8",
   "metadata": {},
   "outputs": [],
   "source": []
  }
 ],
 "metadata": {
  "kernelspec": {
   "display_name": "Python 3 (ipykernel)",
   "language": "python",
   "name": "python3"
  },
  "language_info": {
   "codemirror_mode": {
    "name": "ipython",
    "version": 3
   },
   "file_extension": ".py",
   "mimetype": "text/x-python",
   "name": "python",
   "nbconvert_exporter": "python",
   "pygments_lexer": "ipython3",
   "version": "3.9.18"
  }
 },
 "nbformat": 4,
 "nbformat_minor": 5
}
