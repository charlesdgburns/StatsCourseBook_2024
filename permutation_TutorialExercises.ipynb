{
  "cells": [
    {
      "cell_type": "markdown",
      "id": "f038cfcb",
      "metadata": {
        "id": "f038cfcb"
      },
      "source": [
        "# Tutorial exercises\n",
        "\n",
        "We again use the wellbeing dataset, to practice running permutation tests.\n",
        "\n",
        "### Set up Python libraries\n",
        "\n",
        "As usual, run the code cell below to import the relevant Python libraries"
      ]
    },
    {
      "cell_type": "code",
      "execution_count": 1,
      "id": "e89735f8",
      "metadata": {
        "id": "e89735f8"
      },
      "outputs": [],
      "source": [
        "# Set-up Python libraries - you need to run this but you don't need to change it\n",
        "import numpy as np\n",
        "import matplotlib.pyplot as plt\n",
        "import scipy.stats as stats\n",
        "import pandas\n",
        "import seaborn as sns"
      ]
    },
    {
      "cell_type": "markdown",
      "id": "661b65c2",
      "metadata": {
        "id": "661b65c2"
      },
      "source": [
        "## Colab users\n",
        "\n",
        "You need to use a more recent version of scipy.stats than the default. To do this run the following code block and *after* it has run, go to the menus at the top of colab and click `runtime-->Restart Runtime`"
      ]
    },
    {
      "cell_type": "code",
      "execution_count": 2,
      "id": "2fec5a73",
      "metadata": {
        "id": "2fec5a73",
        "outputId": "e69ee67f-b4a4-41f0-f6e0-b5bf7d0bf682",
        "colab": {
          "base_uri": "https://localhost:8080/"
        }
      },
      "outputs": [
        {
          "output_type": "stream",
          "name": "stdout",
          "text": [
            "Collecting scipy==1.10.0\n",
            "  Downloading scipy-1.10.0-cp310-cp310-manylinux_2_17_x86_64.manylinux2014_x86_64.whl (34.4 MB)\n",
            "\u001b[2K     \u001b[90m━━━━━━━━━━━━━━━━━━━━━━━━━━━━━━━━━━━━━━━━\u001b[0m \u001b[32m34.4/34.4 MB\u001b[0m \u001b[31m42.8 MB/s\u001b[0m eta \u001b[36m0:00:00\u001b[0m\n",
            "\u001b[?25hRequirement already satisfied: numpy<1.27.0,>=1.19.5 in /usr/local/lib/python3.10/dist-packages (from scipy==1.10.0) (1.23.5)\n",
            "Installing collected packages: scipy\n",
            "  Attempting uninstall: scipy\n",
            "    Found existing installation: scipy 1.11.3\n",
            "    Uninstalling scipy-1.11.3:\n",
            "      Successfully uninstalled scipy-1.11.3\n",
            "\u001b[31mERROR: pip's dependency resolver does not currently take into account all the packages that are installed. This behaviour is the source of the following dependency conflicts.\n",
            "lida 0.0.10 requires fastapi, which is not installed.\n",
            "lida 0.0.10 requires kaleido, which is not installed.\n",
            "lida 0.0.10 requires python-multipart, which is not installed.\n",
            "lida 0.0.10 requires uvicorn, which is not installed.\u001b[0m\u001b[31m\n",
            "\u001b[0mSuccessfully installed scipy-1.10.0\n"
          ]
        }
      ],
      "source": [
        "# Set-up Python libraries - you need to run this but you don't need to change it\n",
        "!pip install scipy==1.10.0\n",
        "import numpy as np\n",
        "import matplotlib.pyplot as plt\n",
        "import scipy.stats as stats\n",
        "import pandas\n",
        "import seaborn as sns"
      ]
    },
    {
      "cell_type": "markdown",
      "id": "81aad7c0",
      "metadata": {
        "id": "81aad7c0"
      },
      "source": [
        "### Import and view the data"
      ]
    },
    {
      "cell_type": "code",
      "execution_count": 3,
      "id": "741e30af",
      "metadata": {
        "id": "741e30af",
        "outputId": "690e0723-10e5-40f3-fbb1-57679d5079d8",
        "colab": {
          "base_uri": "https://localhost:8080/",
          "height": 424
        }
      },
      "outputs": [
        {
          "output_type": "execute_result",
          "data": {
            "text/plain": [
              "     ID_code   College      Subject  Score_preVac  Score_postVac\n",
              "0     247610  Lonsdale          PPE            60             35\n",
              "1     448590  Lonsdale          PPE            43             44\n",
              "2     491100  Lonsdale  engineering            79             69\n",
              "3     316150  Lonsdale          PPE            55             61\n",
              "4     251870  Lonsdale  engineering            62             65\n",
              "..       ...       ...          ...           ...            ...\n",
              "296   440570  Beaufort      history            75             70\n",
              "297   826030  Beaufort        maths            52             49\n",
              "298   856260  Beaufort      Biology            83             84\n",
              "299   947060  Beaufort  engineering            62             65\n",
              "300   165780  Beaufort          PPE            48             56\n",
              "\n",
              "[301 rows x 5 columns]"
            ],
            "text/html": [
              "\n",
              "  <div id=\"df-d07c655b-8508-4b08-a0f6-01fee1ed83c2\" class=\"colab-df-container\">\n",
              "    <div>\n",
              "<style scoped>\n",
              "    .dataframe tbody tr th:only-of-type {\n",
              "        vertical-align: middle;\n",
              "    }\n",
              "\n",
              "    .dataframe tbody tr th {\n",
              "        vertical-align: top;\n",
              "    }\n",
              "\n",
              "    .dataframe thead th {\n",
              "        text-align: right;\n",
              "    }\n",
              "</style>\n",
              "<table border=\"1\" class=\"dataframe\">\n",
              "  <thead>\n",
              "    <tr style=\"text-align: right;\">\n",
              "      <th></th>\n",
              "      <th>ID_code</th>\n",
              "      <th>College</th>\n",
              "      <th>Subject</th>\n",
              "      <th>Score_preVac</th>\n",
              "      <th>Score_postVac</th>\n",
              "    </tr>\n",
              "  </thead>\n",
              "  <tbody>\n",
              "    <tr>\n",
              "      <th>0</th>\n",
              "      <td>247610</td>\n",
              "      <td>Lonsdale</td>\n",
              "      <td>PPE</td>\n",
              "      <td>60</td>\n",
              "      <td>35</td>\n",
              "    </tr>\n",
              "    <tr>\n",
              "      <th>1</th>\n",
              "      <td>448590</td>\n",
              "      <td>Lonsdale</td>\n",
              "      <td>PPE</td>\n",
              "      <td>43</td>\n",
              "      <td>44</td>\n",
              "    </tr>\n",
              "    <tr>\n",
              "      <th>2</th>\n",
              "      <td>491100</td>\n",
              "      <td>Lonsdale</td>\n",
              "      <td>engineering</td>\n",
              "      <td>79</td>\n",
              "      <td>69</td>\n",
              "    </tr>\n",
              "    <tr>\n",
              "      <th>3</th>\n",
              "      <td>316150</td>\n",
              "      <td>Lonsdale</td>\n",
              "      <td>PPE</td>\n",
              "      <td>55</td>\n",
              "      <td>61</td>\n",
              "    </tr>\n",
              "    <tr>\n",
              "      <th>4</th>\n",
              "      <td>251870</td>\n",
              "      <td>Lonsdale</td>\n",
              "      <td>engineering</td>\n",
              "      <td>62</td>\n",
              "      <td>65</td>\n",
              "    </tr>\n",
              "    <tr>\n",
              "      <th>...</th>\n",
              "      <td>...</td>\n",
              "      <td>...</td>\n",
              "      <td>...</td>\n",
              "      <td>...</td>\n",
              "      <td>...</td>\n",
              "    </tr>\n",
              "    <tr>\n",
              "      <th>296</th>\n",
              "      <td>440570</td>\n",
              "      <td>Beaufort</td>\n",
              "      <td>history</td>\n",
              "      <td>75</td>\n",
              "      <td>70</td>\n",
              "    </tr>\n",
              "    <tr>\n",
              "      <th>297</th>\n",
              "      <td>826030</td>\n",
              "      <td>Beaufort</td>\n",
              "      <td>maths</td>\n",
              "      <td>52</td>\n",
              "      <td>49</td>\n",
              "    </tr>\n",
              "    <tr>\n",
              "      <th>298</th>\n",
              "      <td>856260</td>\n",
              "      <td>Beaufort</td>\n",
              "      <td>Biology</td>\n",
              "      <td>83</td>\n",
              "      <td>84</td>\n",
              "    </tr>\n",
              "    <tr>\n",
              "      <th>299</th>\n",
              "      <td>947060</td>\n",
              "      <td>Beaufort</td>\n",
              "      <td>engineering</td>\n",
              "      <td>62</td>\n",
              "      <td>65</td>\n",
              "    </tr>\n",
              "    <tr>\n",
              "      <th>300</th>\n",
              "      <td>165780</td>\n",
              "      <td>Beaufort</td>\n",
              "      <td>PPE</td>\n",
              "      <td>48</td>\n",
              "      <td>56</td>\n",
              "    </tr>\n",
              "  </tbody>\n",
              "</table>\n",
              "<p>301 rows × 5 columns</p>\n",
              "</div>\n",
              "    <div class=\"colab-df-buttons\">\n",
              "\n",
              "  <div class=\"colab-df-container\">\n",
              "    <button class=\"colab-df-convert\" onclick=\"convertToInteractive('df-d07c655b-8508-4b08-a0f6-01fee1ed83c2')\"\n",
              "            title=\"Convert this dataframe to an interactive table.\"\n",
              "            style=\"display:none;\">\n",
              "\n",
              "  <svg xmlns=\"http://www.w3.org/2000/svg\" height=\"24px\" viewBox=\"0 -960 960 960\">\n",
              "    <path d=\"M120-120v-720h720v720H120Zm60-500h600v-160H180v160Zm220 220h160v-160H400v160Zm0 220h160v-160H400v160ZM180-400h160v-160H180v160Zm440 0h160v-160H620v160ZM180-180h160v-160H180v160Zm440 0h160v-160H620v160Z\"/>\n",
              "  </svg>\n",
              "    </button>\n",
              "\n",
              "  <style>\n",
              "    .colab-df-container {\n",
              "      display:flex;\n",
              "      gap: 12px;\n",
              "    }\n",
              "\n",
              "    .colab-df-convert {\n",
              "      background-color: #E8F0FE;\n",
              "      border: none;\n",
              "      border-radius: 50%;\n",
              "      cursor: pointer;\n",
              "      display: none;\n",
              "      fill: #1967D2;\n",
              "      height: 32px;\n",
              "      padding: 0 0 0 0;\n",
              "      width: 32px;\n",
              "    }\n",
              "\n",
              "    .colab-df-convert:hover {\n",
              "      background-color: #E2EBFA;\n",
              "      box-shadow: 0px 1px 2px rgba(60, 64, 67, 0.3), 0px 1px 3px 1px rgba(60, 64, 67, 0.15);\n",
              "      fill: #174EA6;\n",
              "    }\n",
              "\n",
              "    .colab-df-buttons div {\n",
              "      margin-bottom: 4px;\n",
              "    }\n",
              "\n",
              "    [theme=dark] .colab-df-convert {\n",
              "      background-color: #3B4455;\n",
              "      fill: #D2E3FC;\n",
              "    }\n",
              "\n",
              "    [theme=dark] .colab-df-convert:hover {\n",
              "      background-color: #434B5C;\n",
              "      box-shadow: 0px 1px 3px 1px rgba(0, 0, 0, 0.15);\n",
              "      filter: drop-shadow(0px 1px 2px rgba(0, 0, 0, 0.3));\n",
              "      fill: #FFFFFF;\n",
              "    }\n",
              "  </style>\n",
              "\n",
              "    <script>\n",
              "      const buttonEl =\n",
              "        document.querySelector('#df-d07c655b-8508-4b08-a0f6-01fee1ed83c2 button.colab-df-convert');\n",
              "      buttonEl.style.display =\n",
              "        google.colab.kernel.accessAllowed ? 'block' : 'none';\n",
              "\n",
              "      async function convertToInteractive(key) {\n",
              "        const element = document.querySelector('#df-d07c655b-8508-4b08-a0f6-01fee1ed83c2');\n",
              "        const dataTable =\n",
              "          await google.colab.kernel.invokeFunction('convertToInteractive',\n",
              "                                                    [key], {});\n",
              "        if (!dataTable) return;\n",
              "\n",
              "        const docLinkHtml = 'Like what you see? Visit the ' +\n",
              "          '<a target=\"_blank\" href=https://colab.research.google.com/notebooks/data_table.ipynb>data table notebook</a>'\n",
              "          + ' to learn more about interactive tables.';\n",
              "        element.innerHTML = '';\n",
              "        dataTable['output_type'] = 'display_data';\n",
              "        await google.colab.output.renderOutput(dataTable, element);\n",
              "        const docLink = document.createElement('div');\n",
              "        docLink.innerHTML = docLinkHtml;\n",
              "        element.appendChild(docLink);\n",
              "      }\n",
              "    </script>\n",
              "  </div>\n",
              "\n",
              "\n",
              "<div id=\"df-886f671b-64af-4a97-abc0-26e04cce3c6e\">\n",
              "  <button class=\"colab-df-quickchart\" onclick=\"quickchart('df-886f671b-64af-4a97-abc0-26e04cce3c6e')\"\n",
              "            title=\"Suggest charts.\"\n",
              "            style=\"display:none;\">\n",
              "\n",
              "<svg xmlns=\"http://www.w3.org/2000/svg\" height=\"24px\"viewBox=\"0 0 24 24\"\n",
              "     width=\"24px\">\n",
              "    <g>\n",
              "        <path d=\"M19 3H5c-1.1 0-2 .9-2 2v14c0 1.1.9 2 2 2h14c1.1 0 2-.9 2-2V5c0-1.1-.9-2-2-2zM9 17H7v-7h2v7zm4 0h-2V7h2v10zm4 0h-2v-4h2v4z\"/>\n",
              "    </g>\n",
              "</svg>\n",
              "  </button>\n",
              "\n",
              "<style>\n",
              "  .colab-df-quickchart {\n",
              "      --bg-color: #E8F0FE;\n",
              "      --fill-color: #1967D2;\n",
              "      --hover-bg-color: #E2EBFA;\n",
              "      --hover-fill-color: #174EA6;\n",
              "      --disabled-fill-color: #AAA;\n",
              "      --disabled-bg-color: #DDD;\n",
              "  }\n",
              "\n",
              "  [theme=dark] .colab-df-quickchart {\n",
              "      --bg-color: #3B4455;\n",
              "      --fill-color: #D2E3FC;\n",
              "      --hover-bg-color: #434B5C;\n",
              "      --hover-fill-color: #FFFFFF;\n",
              "      --disabled-bg-color: #3B4455;\n",
              "      --disabled-fill-color: #666;\n",
              "  }\n",
              "\n",
              "  .colab-df-quickchart {\n",
              "    background-color: var(--bg-color);\n",
              "    border: none;\n",
              "    border-radius: 50%;\n",
              "    cursor: pointer;\n",
              "    display: none;\n",
              "    fill: var(--fill-color);\n",
              "    height: 32px;\n",
              "    padding: 0;\n",
              "    width: 32px;\n",
              "  }\n",
              "\n",
              "  .colab-df-quickchart:hover {\n",
              "    background-color: var(--hover-bg-color);\n",
              "    box-shadow: 0 1px 2px rgba(60, 64, 67, 0.3), 0 1px 3px 1px rgba(60, 64, 67, 0.15);\n",
              "    fill: var(--button-hover-fill-color);\n",
              "  }\n",
              "\n",
              "  .colab-df-quickchart-complete:disabled,\n",
              "  .colab-df-quickchart-complete:disabled:hover {\n",
              "    background-color: var(--disabled-bg-color);\n",
              "    fill: var(--disabled-fill-color);\n",
              "    box-shadow: none;\n",
              "  }\n",
              "\n",
              "  .colab-df-spinner {\n",
              "    border: 2px solid var(--fill-color);\n",
              "    border-color: transparent;\n",
              "    border-bottom-color: var(--fill-color);\n",
              "    animation:\n",
              "      spin 1s steps(1) infinite;\n",
              "  }\n",
              "\n",
              "  @keyframes spin {\n",
              "    0% {\n",
              "      border-color: transparent;\n",
              "      border-bottom-color: var(--fill-color);\n",
              "      border-left-color: var(--fill-color);\n",
              "    }\n",
              "    20% {\n",
              "      border-color: transparent;\n",
              "      border-left-color: var(--fill-color);\n",
              "      border-top-color: var(--fill-color);\n",
              "    }\n",
              "    30% {\n",
              "      border-color: transparent;\n",
              "      border-left-color: var(--fill-color);\n",
              "      border-top-color: var(--fill-color);\n",
              "      border-right-color: var(--fill-color);\n",
              "    }\n",
              "    40% {\n",
              "      border-color: transparent;\n",
              "      border-right-color: var(--fill-color);\n",
              "      border-top-color: var(--fill-color);\n",
              "    }\n",
              "    60% {\n",
              "      border-color: transparent;\n",
              "      border-right-color: var(--fill-color);\n",
              "    }\n",
              "    80% {\n",
              "      border-color: transparent;\n",
              "      border-right-color: var(--fill-color);\n",
              "      border-bottom-color: var(--fill-color);\n",
              "    }\n",
              "    90% {\n",
              "      border-color: transparent;\n",
              "      border-bottom-color: var(--fill-color);\n",
              "    }\n",
              "  }\n",
              "</style>\n",
              "\n",
              "  <script>\n",
              "    async function quickchart(key) {\n",
              "      const quickchartButtonEl =\n",
              "        document.querySelector('#' + key + ' button');\n",
              "      quickchartButtonEl.disabled = true;  // To prevent multiple clicks.\n",
              "      quickchartButtonEl.classList.add('colab-df-spinner');\n",
              "      try {\n",
              "        const charts = await google.colab.kernel.invokeFunction(\n",
              "            'suggestCharts', [key], {});\n",
              "      } catch (error) {\n",
              "        console.error('Error during call to suggestCharts:', error);\n",
              "      }\n",
              "      quickchartButtonEl.classList.remove('colab-df-spinner');\n",
              "      quickchartButtonEl.classList.add('colab-df-quickchart-complete');\n",
              "    }\n",
              "    (() => {\n",
              "      let quickchartButtonEl =\n",
              "        document.querySelector('#df-886f671b-64af-4a97-abc0-26e04cce3c6e button');\n",
              "      quickchartButtonEl.style.display =\n",
              "        google.colab.kernel.accessAllowed ? 'block' : 'none';\n",
              "    })();\n",
              "  </script>\n",
              "</div>\n",
              "    </div>\n",
              "  </div>\n"
            ]
          },
          "metadata": {},
          "execution_count": 3
        }
      ],
      "source": [
        "wb = pandas.read_csv('https://raw.githubusercontent.com/jillxoreilly/StatsCourseBook/main/data/WellbeingSample.csv')\n",
        "wb"
      ]
    },
    {
      "cell_type": "markdown",
      "id": "58d05f94",
      "metadata": {
        "id": "58d05f94"
      },
      "source": [
        "### Questions\n",
        "\n",
        "In each case, you will need to decide:\n",
        "    \n",
        "* what is our null hypothesis\n",
        "* what is our alternative hypothesis?\n",
        "\n",
        "Is it a paired or unpaired test for difference of means, or a correlation test?\n",
        "* therefore which `permutation_type` is needed, `samples`, `pairings` or `independent`?\n",
        "        \n",
        "Is it a one- or two-tailed test?\n",
        "* therefore which `alternative` hypothesis type is needed, `two-sided`, `greater` or `less`?\n",
        "\n",
        "What $\\alpha$ value will you use?\n",
        "* what value must $p$ be smaller than, to reject the null hypothesis?\n",
        "* this is the experimenter's choice but usually 0.05 is used (sometimes 0.001 or 0.001)\n",
        "\n",
        "\n",
        "#### Test the following hypotheses:\n",
        "    \n",
        "1. Wellbeing scores pre- and post-vac are correlated in engineering students\n",
        "2. There is a difference in the wellbeing scores of PPE students between Beaufort or Lonsdale (before the vacation)?\n",
        "3. Wellbeing over all students increases across the vacation\n",
        "\n",
        "#### Slightly harder one:\n",
        "\n",
        "4. Wellbeing increases more across the vacation for Beaufort students than Lonsdale students"
      ]
    },
    {
      "cell_type": "markdown",
      "source": [
        "# Answers"
      ],
      "metadata": {
        "id": "jeFCdtP_QSJx"
      },
      "id": "jeFCdtP_QSJx"
    },
    {
      "cell_type": "markdown",
      "source": [
        "## 1. Wellbeing scores pre- and post-vac are correlated in engineering students"
      ],
      "metadata": {
        "id": "_d0D0YBDQVM_"
      },
      "id": "_d0D0YBDQVM_"
    },
    {
      "cell_type": "markdown",
      "source": [
        "1.\n",
        "\n",
        "Ho: pre- and post vacation scores are not correlated in engineering students.\n",
        "\n",
        "Ha: pre- and post vacation scores are correlated in engineering students.\n",
        "\n",
        "This is two-tailed correlation test (paired). Since we are testing 4 hypoteheses in total we perform bonferroni correction for multiple comparisons and test for significance at alpha = 0.05/4=0.0125."
      ],
      "metadata": {
        "id": "myGIi4y1LFYa"
      },
      "id": "myGIi4y1LFYa"
    },
    {
      "cell_type": "code",
      "source": [
        "#To simplify our function later, we separate the two arrays of data we want to correlate:\n",
        "\n",
        "EngineerPre = wb.query('Subject==\"engineering\"')['Score_preVac']\n",
        "EngineerPost = wb.query('Subject==\"engineering\"')['Score_postVac']\n",
        "\n",
        "#We need to define a function for the permutation test\n",
        "def correlate(x,y):\n",
        "  tmp=np.corrcoef(x,y)\n",
        "  c=tmp[0][1]\n",
        "  return c\n",
        "\n",
        "#We can then run the permutation test as below\n",
        "stats.permutation_test((EngineerPost, EngineerPre), correlate,\n",
        "                       permutation_type='pairings', alternative='two-sided',n_resamples=10000)\n"
      ],
      "metadata": {
        "id": "Eh-8M_rsLE2b",
        "outputId": "db2dd675-05c0-495b-b905-1169b12472c9",
        "colab": {
          "base_uri": "https://localhost:8080/"
        }
      },
      "id": "Eh-8M_rsLE2b",
      "execution_count": 72,
      "outputs": [
        {
          "output_type": "execute_result",
          "data": {
            "text/plain": [
              "PermutationTestResult(statistic=0.7812255461336072, pvalue=0.00019998000199980003, null_distribution=array([ 0.23137171, -0.03256442,  0.01375394, ...,  0.07993423,\n",
              "        0.11384869,  0.02686439]))"
            ]
          },
          "metadata": {},
          "execution_count": 72
        }
      ]
    },
    {
      "cell_type": "markdown",
      "source": [
        "Conclusion: we may reject the null hypothesis with p<0.0125, suggesting that pre- and post-vacation scores are correlated for engineering students. With a statistic being a pearson r=0.781, this would suggest a positive correlation."
      ],
      "metadata": {
        "id": "kr4FpQMGPrq5"
      },
      "id": "kr4FpQMGPrq5"
    },
    {
      "cell_type": "code",
      "execution_count": 72,
      "id": "0e3ac3e2",
      "metadata": {
        "id": "0e3ac3e2"
      },
      "outputs": [],
      "source": []
    },
    {
      "cell_type": "markdown",
      "source": [
        "##2. There is a difference in the wellbeing scores of PPE students between Beaufort or Lonsdale (before the vacation)?"
      ],
      "metadata": {
        "id": "ejKZxlVdQfZB"
      },
      "id": "ejKZxlVdQfZB"
    },
    {
      "cell_type": "markdown",
      "source": [
        "Ho: there is no difference in mean pre-vac wellbeing scores of PPE students between Beaufort or Lonsdale.\n",
        "\n",
        "Ha: there is a difference in mean pre-vac wellbeing scores of PPE students between Beaufort or Lonsdale.\n",
        "\n",
        "This is a two-tailed test with independent samples, where we test for significance using alpha = 0.05/4 = 0.0125."
      ],
      "metadata": {
        "id": "Qs8cBcPQSu9l"
      },
      "id": "Qs8cBcPQSu9l"
    },
    {
      "cell_type": "code",
      "source": [
        "#Specifying data:\n",
        "ppeBeaufort = wb.query('Subject==\"PPE\"' and 'College == \"Beaufort\"')['Score_preVac']\n",
        "ppeLonsdale = wb.query('Subject==\"PPE\"' and 'College == \"Lonsdale\"')['Score_preVac']\n",
        "\n",
        "#defining a function we want for our permutation test. Here we assume normality of scores and test for mean difference.\n",
        "def mDiff(x,y):\n",
        "  mDiff=np.mean(x)-np.mean(y)\n",
        "  return mDiff\n",
        "\n",
        "#perform permutation test\n",
        "stats.permutation_test((ppeBeaufort,ppeLonsdale), mDiff,\n",
        "                       permutation_type='independent', alternative='two-sided', n_resamples=10000)\n"
      ],
      "metadata": {
        "id": "uWgwb9mXQ2o5",
        "outputId": "7ebeff16-29ff-40a8-e3cd-df5a94196831",
        "colab": {
          "base_uri": "https://localhost:8080/"
        }
      },
      "id": "uWgwb9mXQ2o5",
      "execution_count": 73,
      "outputs": [
        {
          "output_type": "execute_result",
          "data": {
            "text/plain": [
              "PermutationTestResult(statistic=1.075831120065942, pvalue=0.43515648435156484, null_distribution=array([-1.22598223,  1.59959703,  1.17231431, ..., -1.07436578,\n",
              "       -1.0881491 ,  1.29636414]))"
            ]
          },
          "metadata": {},
          "execution_count": 73
        }
      ]
    },
    {
      "cell_type": "markdown",
      "source": [
        "Given our permutation test we can not reject the null-hypothesis (p=0.44>0.0125), suggesting that there is no significant difference in mean scores before the vacation for PPE students between Beaufort and Lonsdale."
      ],
      "metadata": {
        "id": "faBBl3ilSsIH"
      },
      "id": "faBBl3ilSsIH"
    },
    {
      "cell_type": "code",
      "source": [
        "sns.kdeplot(ppeBeaufort)\n",
        "sns.kdeplot(ppeLonsdale)"
      ],
      "metadata": {
        "id": "7BQLcpdzTfEf",
        "outputId": "899ddcaf-6189-4fa1-9a89-7fa16663dab3",
        "colab": {
          "base_uri": "https://localhost:8080/",
          "height": 0
        }
      },
      "id": "7BQLcpdzTfEf",
      "execution_count": 74,
      "outputs": [
        {
          "output_type": "execute_result",
          "data": {
            "text/plain": [
              "<Axes: xlabel='Score_preVac', ylabel='Density'>"
            ]
          },
          "metadata": {},
          "execution_count": 74
        },
        {
          "output_type": "display_data",
          "data": {
            "text/plain": [
              "<Figure size 640x480 with 1 Axes>"
            ],
            "image/png": "[encoded data removed]"
          },
          "metadata": {}
        }
      ]
    },
    {
      "cell_type": "markdown",
      "source": [
        "## 3. Wellbeing over all students increases across the vacation"
      ],
      "metadata": {
        "id": "ISxICQuXQnpS"
      },
      "id": "ISxICQuXQnpS"
    },
    {
      "cell_type": "markdown",
      "source": [
        "Ho: there is no increase in mean wellbeing scores after the vacation.\n",
        "\n",
        "Ha: there is an increase in mean wellbeing scores after the vacation.\n",
        "\n",
        "This is a one-sided paired permutation test, requiring type 'samples'."
      ],
      "metadata": {
        "id": "0wZhVOPAT5R2"
      },
      "id": "0wZhVOPAT5R2"
    },
    {
      "cell_type": "code",
      "source": [
        "#We skip data specification as this is straightforward\n",
        "\n",
        "#define function\n",
        "\n",
        "def mDiff(x,y):\n",
        "  return np.mean(x)-np.mean(y)\n",
        "\n",
        " #perform permutation test\n",
        "\n",
        "stats.permutation_test((wb['Score_postVac'],wb['Score_preVac']), mDiff,\n",
        "                       permutation_type='samples', alternative='greater', n_resamples=10000)"
      ],
      "metadata": {
        "id": "5ar9Myp6T4xn",
        "outputId": "f1c2e1be-7cfd-43e4-f376-443b11aee34a",
        "colab": {
          "base_uri": "https://localhost:8080/"
        }
      },
      "id": "5ar9Myp6T4xn",
      "execution_count": 75,
      "outputs": [
        {
          "output_type": "execute_result",
          "data": {
            "text/plain": [
              "PermutationTestResult(statistic=2.584717607973417, pvalue=9.999000099990002e-05, null_distribution=array([-0.51162791, -0.5448505 , -0.1461794 , ..., -0.33887043,\n",
              "       -0.62458472, -0.37209302]))"
            ]
          },
          "metadata": {},
          "execution_count": 75
        }
      ]
    },
    {
      "cell_type": "markdown",
      "source": [
        "Conclusion: we reject our null-hypothesis with p<0.0125, suggesting that there is an increase in mean wellbeing scores after the vacation."
      ],
      "metadata": {
        "id": "8_uwqK8uVdzk"
      },
      "id": "8_uwqK8uVdzk"
    },
    {
      "cell_type": "markdown",
      "source": [
        "## 4. Wellbeing increases more across the vacation for Beaufort students than Lonsdale students"
      ],
      "metadata": {
        "id": "2gNoybF8Qxeq"
      },
      "id": "2gNoybF8Qxeq"
    },
    {
      "cell_type": "markdown",
      "source": [
        "This one is 'tricky' because we need to define a new data-column and compare across the two colleges.\n",
        "\n",
        "Ho: Wellbeing does not increase more on average across the vacation for Beaufort students than Lonsdale students.\n",
        "\n",
        "Ha: Wellbeing does increase more on average\n",
        "\n",
        "```\n",
        "# This is formatted as code\n",
        "```\n",
        "\n",
        " across the vacation for Beaufort students than Lonsdale students.\n",
        "\n",
        "This is a one-sided independent samples permutation test."
      ],
      "metadata": {
        "id": "CIfGwzRsVoTO"
      },
      "id": "CIfGwzRsVoTO"
    },
    {
      "cell_type": "code",
      "source": [
        "#Use difference as a measure of wellbeing increase:\n",
        "\n",
        "wb['diff']=wb['Score_postVac']-wb['Score_preVac']\n",
        "\n",
        "#Specify data\n",
        "\n",
        "incBeaufort = wb.query('College==\"Beaufort\"')['diff']\n",
        "incLonsdale = wb.query('College==\"Lonsdale\"')['diff']\n",
        "\n",
        "#Define a function to compare mean differences.\n",
        "def mDiff(x,y):\n",
        "  return np.mean(x)-np.mean(y)\n",
        "\n",
        "#Perform permutation test\n",
        "stats.permutation_test((incBeaufort,incLonsdale), mDiff,\n",
        "                       permutation_type='independent', alternative='greater', n_resamples=10000 )\n"
      ],
      "metadata": {
        "id": "-xbApegaVn50",
        "outputId": "d46f36b9-a4ca-4361-b947-c99dc6afd185",
        "colab": {
          "base_uri": "https://localhost:8080/"
        }
      },
      "id": "-xbApegaVn50",
      "execution_count": 76,
      "outputs": [
        {
          "output_type": "execute_result",
          "data": {
            "text/plain": [
              "PermutationTestResult(statistic=0.8040571480904846, pvalue=0.24117588241175883, null_distribution=array([ 0.83162378,  0.80405715, -1.95260555, ..., -0.43644107,\n",
              "        1.38295631, -0.58805751]))"
            ]
          },
          "metadata": {},
          "execution_count": 76
        }
      ]
    },
    {
      "cell_type": "markdown",
      "source": [
        "Conclusion: we can not reject our null-hypothesis (p=0.239>0.0125), suggesting that there is no difference on average in the increased wellbeing between Beaufort and Lonsdale."
      ],
      "metadata": {
        "id": "vth3K0c3YPNd"
      },
      "id": "vth3K0c3YPNd"
    },
    {
      "cell_type": "code",
      "source": [
        "sns.kdeplot(incBeaufort)\n",
        "sns.kdeplot(incLonsdale)"
      ],
      "metadata": {
        "id": "5LCN1UOvYc-N",
        "outputId": "ee25ede1-6bfe-4888-8e83-c0215659c1d9",
        "colab": {
          "base_uri": "https://localhost:8080/",
          "height": 0
        }
      },
      "id": "5LCN1UOvYc-N",
      "execution_count": 77,
      "outputs": [
        {
          "output_type": "execute_result",
          "data": {
            "text/plain": [
              "<Axes: xlabel='diff', ylabel='Density'>"
            ]
          },
          "metadata": {},
          "execution_count": 77
        },
        {
          "output_type": "display_data",
          "data": {
            "text/plain": [
              "<Figure size 640x480 with 1 Axes>"
            ],
            "image/png": "[encoded data removed]"
          },
          "metadata": {}
        }
      ]
    }
  ],
  "metadata": {
    "kernelspec": {
      "display_name": "Python 3 (ipykernel)",
      "language": "python",
      "name": "python3"
    },
    "language_info": {
      "codemirror_mode": {
        "name": "ipython",
        "version": 3
      },
      "file_extension": ".py",
      "mimetype": "text/x-python",
      "name": "python",
      "nbconvert_exporter": "python",
      "pygments_lexer": "ipython3",
      "version": "3.9.13"
    },
    "colab": {
      "provenance": []
    }
  },
  "nbformat": 4,
  "nbformat_minor": 5
}