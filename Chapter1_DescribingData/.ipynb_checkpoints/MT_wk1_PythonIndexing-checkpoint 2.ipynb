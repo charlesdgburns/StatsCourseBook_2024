{
  "cells": [
    {
      "cell_type": "markdown",
      "id": "69252ce6",
      "metadata": {
        "id": "69252ce6"
      },
      "source": [
        "# Python: Descriptives and Indexing\n",
        "\n",
        "In this notebook we cover some key <tt>Pandas</tt> syntax and functions:\n",
        "\n",
        "* Syntax for getting various descriptive statistics from a `Pandas` dataframe\n",
        "* Syntax for **indexing** a dataframe - finding the rows and columns that you need\n",
        "    * this allows you to get descriptives for specific rows and columns\n",
        "\n",
        "Here we meet **indexing** in the context of descriptive statistics, but indexing is something you will do every single time you write code for data analysis. Incorrect syntax in indexing is the number one biggest source of bugs for student on this course, so it is well worth spending the time to get to grips with it.\n",
        "\n",
        "You absolutely should work through all the exercises in this notebook in advance of the tutorial.\n",
        "\n",
        "## Set up Python Libraries\n",
        "\n",
        "As usual you will need to run this code block to import the relevant Python libraries"
      ]
    },
    {
      "cell_type": "code",
      "execution_count": 1,
      "id": "7420037e",
      "metadata": {
        "id": "7420037e"
      },
      "outputs": [],
      "source": [
        "# Set-up Python libraries - you need to run this but you don't need to change it\n",
        "import numpy as np\n",
        "import matplotlib.pyplot as plt\n",
        "import scipy.stats as stats\n",
        "import pandas as pd\n",
        "import seaborn as sns\n",
        "sns.set_theme(style='white')\n",
        "import statsmodels.api as sm\n",
        "import statsmodels.formula.api as smf"
      ]
    },
    {
      "cell_type": "markdown",
      "id": "14d3d992",
      "metadata": {
        "id": "14d3d992"
      },
      "source": [
        "## Import a dataset to work with\n",
        "\n",
        "You will need to download the file OxfordWeather.csv from Canvas to your computer, then import it"
      ]
    },
    {
      "cell_type": "code",
      "execution_count": 2,
      "id": "53648053",
      "metadata": {
        "id": "53648053",
        "outputId": "a0cf82c2-6243-49bc-ec32-d3774b0569a6",
        "colab": {
          "base_uri": "https://localhost:8080/",
          "height": 424
        }
      },
      "outputs": [
        {
          "output_type": "display_data",
          "data": {
            "text/plain": [
              "       YYYY Month  MM  DD  DD365  Tmax  Tmin  Tmean  Trange  Rainfall_mm\n",
              "0      1827   Jan   1   1      1   8.3   5.6    7.0     2.7          0.0\n",
              "1      1827   Jan   1   2      2   2.2   0.0    1.1     2.2          0.0\n",
              "2      1827   Jan   1   3      3  -2.2  -8.3   -5.3     6.1          9.7\n",
              "3      1827   Jan   1   4      4  -1.7  -7.8   -4.8     6.1          0.0\n",
              "4      1827   Jan   1   5      5   0.0 -10.6   -5.3    10.6          0.0\n",
              "...     ...   ...  ..  ..    ...   ...   ...    ...     ...          ...\n",
              "71338  2022   Apr   4  26    116  15.2   4.1    9.7    11.1          0.0\n",
              "71339  2022   Apr   4  27    117  10.7   2.6    6.7     8.1          0.0\n",
              "71340  2022   Apr   4  28    118  12.7   3.9    8.3     8.8          0.0\n",
              "71341  2022   Apr   4  29    119  11.7   6.7    9.2     5.0          0.0\n",
              "71342  2022   Apr   4  30    120  17.6   1.0    9.3    16.6          0.0\n",
              "\n",
              "[71343 rows x 10 columns]"
            ],
            "text/html": [
              "\n",
              "  <div id=\"df-e3820d76-8fa8-4079-9a61-c62d55aaf2af\" class=\"colab-df-container\">\n",
              "    <div>\n",
              "<style scoped>\n",
              "    .dataframe tbody tr th:only-of-type {\n",
              "        vertical-align: middle;\n",
              "    }\n",
              "\n",
              "    .dataframe tbody tr th {\n",
              "        vertical-align: top;\n",
              "    }\n",
              "\n",
              "    .dataframe thead th {\n",
              "        text-align: right;\n",
              "    }\n",
              "</style>\n",
              "<table border=\"1\" class=\"dataframe\">\n",
              "  <thead>\n",
              "    <tr style=\"text-align: right;\">\n",
              "      <th></th>\n",
              "      <th>YYYY</th>\n",
              "      <th>Month</th>\n",
              "      <th>MM</th>\n",
              "      <th>DD</th>\n",
              "      <th>DD365</th>\n",
              "      <th>Tmax</th>\n",
              "      <th>Tmin</th>\n",
              "      <th>Tmean</th>\n",
              "      <th>Trange</th>\n",
              "      <th>Rainfall_mm</th>\n",
              "    </tr>\n",
              "  </thead>\n",
              "  <tbody>\n",
              "    <tr>\n",
              "      <th>0</th>\n",
              "      <td>1827</td>\n",
              "      <td>Jan</td>\n",
              "      <td>1</td>\n",
              "      <td>1</td>\n",
              "      <td>1</td>\n",
              "      <td>8.3</td>\n",
              "      <td>5.6</td>\n",
              "      <td>7.0</td>\n",
              "      <td>2.7</td>\n",
              "      <td>0.0</td>\n",
              "    </tr>\n",
              "    <tr>\n",
              "      <th>1</th>\n",
              "      <td>1827</td>\n",
              "      <td>Jan</td>\n",
              "      <td>1</td>\n",
              "      <td>2</td>\n",
              "      <td>2</td>\n",
              "      <td>2.2</td>\n",
              "      <td>0.0</td>\n",
              "      <td>1.1</td>\n",
              "      <td>2.2</td>\n",
              "      <td>0.0</td>\n",
              "    </tr>\n",
              "    <tr>\n",
              "      <th>2</th>\n",
              "      <td>1827</td>\n",
              "      <td>Jan</td>\n",
              "      <td>1</td>\n",
              "      <td>3</td>\n",
              "      <td>3</td>\n",
              "      <td>-2.2</td>\n",
              "      <td>-8.3</td>\n",
              "      <td>-5.3</td>\n",
              "      <td>6.1</td>\n",
              "      <td>9.7</td>\n",
              "    </tr>\n",
              "    <tr>\n",
              "      <th>3</th>\n",
              "      <td>1827</td>\n",
              "      <td>Jan</td>\n",
              "      <td>1</td>\n",
              "      <td>4</td>\n",
              "      <td>4</td>\n",
              "      <td>-1.7</td>\n",
              "      <td>-7.8</td>\n",
              "      <td>-4.8</td>\n",
              "      <td>6.1</td>\n",
              "      <td>0.0</td>\n",
              "    </tr>\n",
              "    <tr>\n",
              "      <th>4</th>\n",
              "      <td>1827</td>\n",
              "      <td>Jan</td>\n",
              "      <td>1</td>\n",
              "      <td>5</td>\n",
              "      <td>5</td>\n",
              "      <td>0.0</td>\n",
              "      <td>-10.6</td>\n",
              "      <td>-5.3</td>\n",
              "      <td>10.6</td>\n",
              "      <td>0.0</td>\n",
              "    </tr>\n",
              "    <tr>\n",
              "      <th>...</th>\n",
              "      <td>...</td>\n",
              "      <td>...</td>\n",
              "      <td>...</td>\n",
              "      <td>...</td>\n",
              "      <td>...</td>\n",
              "      <td>...</td>\n",
              "      <td>...</td>\n",
              "      <td>...</td>\n",
              "      <td>...</td>\n",
              "      <td>...</td>\n",
              "    </tr>\n",
              "    <tr>\n",
              "      <th>71338</th>\n",
              "      <td>2022</td>\n",
              "      <td>Apr</td>\n",
              "      <td>4</td>\n",
              "      <td>26</td>\n",
              "      <td>116</td>\n",
              "      <td>15.2</td>\n",
              "      <td>4.1</td>\n",
              "      <td>9.7</td>\n",
              "      <td>11.1</td>\n",
              "      <td>0.0</td>\n",
              "    </tr>\n",
              "    <tr>\n",
              "      <th>71339</th>\n",
              "      <td>2022</td>\n",
              "      <td>Apr</td>\n",
              "      <td>4</td>\n",
              "      <td>27</td>\n",
              "      <td>117</td>\n",
              "      <td>10.7</td>\n",
              "      <td>2.6</td>\n",
              "      <td>6.7</td>\n",
              "      <td>8.1</td>\n",
              "      <td>0.0</td>\n",
              "    </tr>\n",
              "    <tr>\n",
              "      <th>71340</th>\n",
              "      <td>2022</td>\n",
              "      <td>Apr</td>\n",
              "      <td>4</td>\n",
              "      <td>28</td>\n",
              "      <td>118</td>\n",
              "      <td>12.7</td>\n",
              "      <td>3.9</td>\n",
              "      <td>8.3</td>\n",
              "      <td>8.8</td>\n",
              "      <td>0.0</td>\n",
              "    </tr>\n",
              "    <tr>\n",
              "      <th>71341</th>\n",
              "      <td>2022</td>\n",
              "      <td>Apr</td>\n",
              "      <td>4</td>\n",
              "      <td>29</td>\n",
              "      <td>119</td>\n",
              "      <td>11.7</td>\n",
              "      <td>6.7</td>\n",
              "      <td>9.2</td>\n",
              "      <td>5.0</td>\n",
              "      <td>0.0</td>\n",
              "    </tr>\n",
              "    <tr>\n",
              "      <th>71342</th>\n",
              "      <td>2022</td>\n",
              "      <td>Apr</td>\n",
              "      <td>4</td>\n",
              "      <td>30</td>\n",
              "      <td>120</td>\n",
              "      <td>17.6</td>\n",
              "      <td>1.0</td>\n",
              "      <td>9.3</td>\n",
              "      <td>16.6</td>\n",
              "      <td>0.0</td>\n",
              "    </tr>\n",
              "  </tbody>\n",
              "</table>\n",
              "<p>71343 rows × 10 columns</p>\n",
              "</div>\n",
              "    <div class=\"colab-df-buttons\">\n",
              "\n",
              "  <div class=\"colab-df-container\">\n",
              "    <button class=\"colab-df-convert\" onclick=\"convertToInteractive('df-e3820d76-8fa8-4079-9a61-c62d55aaf2af')\"\n",
              "            title=\"Convert this dataframe to an interactive table.\"\n",
              "            style=\"display:none;\">\n",
              "\n",
              "  <svg xmlns=\"http://www.w3.org/2000/svg\" height=\"24px\" viewBox=\"0 -960 960 960\">\n",
              "    <path d=\"M120-120v-720h720v720H120Zm60-500h600v-160H180v160Zm220 220h160v-160H400v160Zm0 220h160v-160H400v160ZM180-400h160v-160H180v160Zm440 0h160v-160H620v160ZM180-180h160v-160H180v160Zm440 0h160v-160H620v160Z\"/>\n",
              "  </svg>\n",
              "    </button>\n",
              "\n",
              "  <style>\n",
              "    .colab-df-container {\n",
              "      display:flex;\n",
              "      gap: 12px;\n",
              "    }\n",
              "\n",
              "    .colab-df-convert {\n",
              "      background-color: #E8F0FE;\n",
              "      border: none;\n",
              "      border-radius: 50%;\n",
              "      cursor: pointer;\n",
              "      display: none;\n",
              "      fill: #1967D2;\n",
              "      height: 32px;\n",
              "      padding: 0 0 0 0;\n",
              "      width: 32px;\n",
              "    }\n",
              "\n",
              "    .colab-df-convert:hover {\n",
              "      background-color: #E2EBFA;\n",
              "      box-shadow: 0px 1px 2px rgba(60, 64, 67, 0.3), 0px 1px 3px 1px rgba(60, 64, 67, 0.15);\n",
              "      fill: #174EA6;\n",
              "    }\n",
              "\n",
              "    .colab-df-buttons div {\n",
              "      margin-bottom: 4px;\n",
              "    }\n",
              "\n",
              "    [theme=dark] .colab-df-convert {\n",
              "      background-color: #3B4455;\n",
              "      fill: #D2E3FC;\n",
              "    }\n",
              "\n",
              "    [theme=dark] .colab-df-convert:hover {\n",
              "      background-color: #434B5C;\n",
              "      box-shadow: 0px 1px 3px 1px rgba(0, 0, 0, 0.15);\n",
              "      filter: drop-shadow(0px 1px 2px rgba(0, 0, 0, 0.3));\n",
              "      fill: #FFFFFF;\n",
              "    }\n",
              "  </style>\n",
              "\n",
              "    <script>\n",
              "      const buttonEl =\n",
              "        document.querySelector('#df-e3820d76-8fa8-4079-9a61-c62d55aaf2af button.colab-df-convert');\n",
              "      buttonEl.style.display =\n",
              "        google.colab.kernel.accessAllowed ? 'block' : 'none';\n",
              "\n",
              "      async function convertToInteractive(key) {\n",
              "        const element = document.querySelector('#df-e3820d76-8fa8-4079-9a61-c62d55aaf2af');\n",
              "        const dataTable =\n",
              "          await google.colab.kernel.invokeFunction('convertToInteractive',\n",
              "                                                    [key], {});\n",
              "        if (!dataTable) return;\n",
              "\n",
              "        const docLinkHtml = 'Like what you see? Visit the ' +\n",
              "          '<a target=\"_blank\" href=https://colab.research.google.com/notebooks/data_table.ipynb>data table notebook</a>'\n",
              "          + ' to learn more about interactive tables.';\n",
              "        element.innerHTML = '';\n",
              "        dataTable['output_type'] = 'display_data';\n",
              "        await google.colab.output.renderOutput(dataTable, element);\n",
              "        const docLink = document.createElement('div');\n",
              "        docLink.innerHTML = docLinkHtml;\n",
              "        element.appendChild(docLink);\n",
              "      }\n",
              "    </script>\n",
              "  </div>\n",
              "\n",
              "\n",
              "<div id=\"df-3d20abaa-ca9f-472e-aed2-2598dea36579\">\n",
              "  <button class=\"colab-df-quickchart\" onclick=\"quickchart('df-3d20abaa-ca9f-472e-aed2-2598dea36579')\"\n",
              "            title=\"Suggest charts.\"\n",
              "            style=\"display:none;\">\n",
              "\n",
              "<svg xmlns=\"http://www.w3.org/2000/svg\" height=\"24px\"viewBox=\"0 0 24 24\"\n",
              "     width=\"24px\">\n",
              "    <g>\n",
              "        <path d=\"M19 3H5c-1.1 0-2 .9-2 2v14c0 1.1.9 2 2 2h14c1.1 0 2-.9 2-2V5c0-1.1-.9-2-2-2zM9 17H7v-7h2v7zm4 0h-2V7h2v10zm4 0h-2v-4h2v4z\"/>\n",
              "    </g>\n",
              "</svg>\n",
              "  </button>\n",
              "\n",
              "<style>\n",
              "  .colab-df-quickchart {\n",
              "      --bg-color: #E8F0FE;\n",
              "      --fill-color: #1967D2;\n",
              "      --hover-bg-color: #E2EBFA;\n",
              "      --hover-fill-color: #174EA6;\n",
              "      --disabled-fill-color: #AAA;\n",
              "      --disabled-bg-color: #DDD;\n",
              "  }\n",
              "\n",
              "  [theme=dark] .colab-df-quickchart {\n",
              "      --bg-color: #3B4455;\n",
              "      --fill-color: #D2E3FC;\n",
              "      --hover-bg-color: #434B5C;\n",
              "      --hover-fill-color: #FFFFFF;\n",
              "      --disabled-bg-color: #3B4455;\n",
              "      --disabled-fill-color: #666;\n",
              "  }\n",
              "\n",
              "  .colab-df-quickchart {\n",
              "    background-color: var(--bg-color);\n",
              "    border: none;\n",
              "    border-radius: 50%;\n",
              "    cursor: pointer;\n",
              "    display: none;\n",
              "    fill: var(--fill-color);\n",
              "    height: 32px;\n",
              "    padding: 0;\n",
              "    width: 32px;\n",
              "  }\n",
              "\n",
              "  .colab-df-quickchart:hover {\n",
              "    background-color: var(--hover-bg-color);\n",
              "    box-shadow: 0 1px 2px rgba(60, 64, 67, 0.3), 0 1px 3px 1px rgba(60, 64, 67, 0.15);\n",
              "    fill: var(--button-hover-fill-color);\n",
              "  }\n",
              "\n",
              "  .colab-df-quickchart-complete:disabled,\n",
              "  .colab-df-quickchart-complete:disabled:hover {\n",
              "    background-color: var(--disabled-bg-color);\n",
              "    fill: var(--disabled-fill-color);\n",
              "    box-shadow: none;\n",
              "  }\n",
              "\n",
              "  .colab-df-spinner {\n",
              "    border: 2px solid var(--fill-color);\n",
              "    border-color: transparent;\n",
              "    border-bottom-color: var(--fill-color);\n",
              "    animation:\n",
              "      spin 1s steps(1) infinite;\n",
              "  }\n",
              "\n",
              "  @keyframes spin {\n",
              "    0% {\n",
              "      border-color: transparent;\n",
              "      border-bottom-color: var(--fill-color);\n",
              "      border-left-color: var(--fill-color);\n",
              "    }\n",
              "    20% {\n",
              "      border-color: transparent;\n",
              "      border-left-color: var(--fill-color);\n",
              "      border-top-color: var(--fill-color);\n",
              "    }\n",
              "    30% {\n",
              "      border-color: transparent;\n",
              "      border-left-color: var(--fill-color);\n",
              "      border-top-color: var(--fill-color);\n",
              "      border-right-color: var(--fill-color);\n",
              "    }\n",
              "    40% {\n",
              "      border-color: transparent;\n",
              "      border-right-color: var(--fill-color);\n",
              "      border-top-color: var(--fill-color);\n",
              "    }\n",
              "    60% {\n",
              "      border-color: transparent;\n",
              "      border-right-color: var(--fill-color);\n",
              "    }\n",
              "    80% {\n",
              "      border-color: transparent;\n",
              "      border-right-color: var(--fill-color);\n",
              "      border-bottom-color: var(--fill-color);\n",
              "    }\n",
              "    90% {\n",
              "      border-color: transparent;\n",
              "      border-bottom-color: var(--fill-color);\n",
              "    }\n",
              "  }\n",
              "</style>\n",
              "\n",
              "  <script>\n",
              "    async function quickchart(key) {\n",
              "      const quickchartButtonEl =\n",
              "        document.querySelector('#' + key + ' button');\n",
              "      quickchartButtonEl.disabled = true;  // To prevent multiple clicks.\n",
              "      quickchartButtonEl.classList.add('colab-df-spinner');\n",
              "      try {\n",
              "        const charts = await google.colab.kernel.invokeFunction(\n",
              "            'suggestCharts', [key], {});\n",
              "      } catch (error) {\n",
              "        console.error('Error during call to suggestCharts:', error);\n",
              "      }\n",
              "      quickchartButtonEl.classList.remove('colab-df-spinner');\n",
              "      quickchartButtonEl.classList.add('colab-df-quickchart-complete');\n",
              "    }\n",
              "    (() => {\n",
              "      let quickchartButtonEl =\n",
              "        document.querySelector('#df-3d20abaa-ca9f-472e-aed2-2598dea36579 button');\n",
              "      quickchartButtonEl.style.display =\n",
              "        google.colab.kernel.accessAllowed ? 'block' : 'none';\n",
              "    })();\n",
              "  </script>\n",
              "</div>\n",
              "    </div>\n",
              "  </div>\n"
            ]
          },
          "metadata": {}
        }
      ],
      "source": [
        "weather = pd.read_csv(\"https://raw.githubusercontent.com/jillxoreilly/StatsCourseBook_2024/main/data/OxfordWeather.csv\")\n",
        "display(weather)"
      ]
    },
    {
      "cell_type": "markdown",
      "id": "af6131ce",
      "metadata": {
        "id": "af6131ce"
      },
      "source": [
        "## Get descriptive statistics\n",
        "\n",
        "We will look at indexing in the context of getting descriptive statistics for the different variables in a dataframe, and/or for a selection of rows.\n",
        "\n",
        "Pandas has a number of built-in functions to get descriptive statistics:\n",
        "    \n",
        "- `df.mean()`   -  gets the mean\n",
        "- `df.median()` - gets the median\n",
        "- `df.var()` - gets the variance\n",
        "- `df.std()` - gets the standard deviation\n",
        "- `df.min()` - gets the minimum value\n",
        "- `df.max()` - gets the maximum value\n",
        "- `df.corr()` - gets the correlation coefficient (Pearson or Spearman)\n",
        "\n",
        "in the function names above, `df` is just a placeholder for \"dataframe\"\n",
        "\n",
        "You can replace `df` with the name of your dataframe (in which case you will get a table with the descriptive statistic you asked for, for every column containing numerical data)\n"
      ]
    },
    {
      "cell_type": "code",
      "execution_count": 10,
      "id": "0e4c6baf",
      "metadata": {
        "id": "0e4c6baf",
        "outputId": "bf3dbf07-228a-4442-8788-fe96fa8b551b",
        "colab": {
          "base_uri": "https://localhost:8080/"
        }
      },
      "outputs": [
        {
          "output_type": "stream",
          "name": "stderr",
          "text": [
            "<ipython-input-10-9d3f393035b7>:1: FutureWarning: The default value of numeric_only in DataFrame.mean is deprecated. In a future version, it will default to False. In addition, specifying 'numeric_only=None' is deprecated. Select only valid columns or specify the value of numeric_only to silence this warning.\n",
            "  weather.mean()\n"
          ]
        },
        {
          "output_type": "execute_result",
          "data": {
            "text/plain": [
              "YYYY           1924.165174\n",
              "MM                6.516210\n",
              "DD               15.729154\n",
              "DD365           182.917077\n",
              "Tmax             13.890153\n",
              "Tmin              6.156018\n",
              "Tmean            10.046208\n",
              "Trange            7.734244\n",
              "Rainfall_mm       1.786964\n",
              "dtype: float64"
            ]
          },
          "metadata": {},
          "execution_count": 10
        }
      ],
      "source": [
        "weather.mean()"
      ]
    },
    {
      "cell_type": "code",
      "source": [],
      "metadata": {
        "id": "AAiaZwsDbHCO",
        "outputId": "0af96c4c-00e9-4dac-fd86-a62c51354cf6",
        "colab": {
          "base_uri": "https://localhost:8080/",
          "height": 140
        }
      },
      "id": "AAiaZwsDbHCO",
      "execution_count": 15,
      "outputs": [
        {
          "output_type": "error",
          "ename": "SyntaxError",
          "evalue": "ignored",
          "traceback": [
            "\u001b[0;36m  File \u001b[0;32m\"<ipython-input-15-1c0733938e1b>\"\u001b[0;36m, line \u001b[0;32m1\u001b[0m\n\u001b[0;31m    weather.mean()?\u001b[0m\n\u001b[0m                  ^\u001b[0m\n\u001b[0;31mSyntaxError\u001b[0m\u001b[0;31m:\u001b[0m invalid syntax\n"
          ]
        }
      ]
    },
    {
      "cell_type": "markdown",
      "id": "ddd45678",
      "metadata": {
        "id": "ddd45678"
      },
      "source": [
        "Which columns from the dataframe are missing from the table of means?\n",
        "* Month is missing because the values are strings (words); we only get the mean for numerical columns\n",
        "\n",
        "## Decriptives for a single column\n",
        "\n",
        "Format:\n",
        "- `df.column.mean()`\n",
        "\n",
        "You might just want the mean for one column, in which case you can include the column name as follows:"
      ]
    },
    {
      "cell_type": "code",
      "execution_count": null,
      "id": "60351416",
      "metadata": {
        "id": "60351416",
        "outputId": "dbdb87cc-7af1-498c-ca2e-245b67c40b1a"
      },
      "outputs": [
        {
          "data": {
            "text/plain": [
              "13.890153065515065"
            ]
          },
          "execution_count": 4,
          "metadata": {},
          "output_type": "execute_result"
        }
      ],
      "source": [
        "weather.Tmax.mean()"
      ]
    },
    {
      "cell_type": "markdown",
      "id": "772ff0e0",
      "metadata": {
        "id": "772ff0e0"
      },
      "source": [
        "Instead of a whole table of means, many of which were irrelevant, we now just have the single number we wanted - the mean of <tt>Tmax</tt>\n",
        "\n",
        "* *Think* check that the value obtained this way matches the one in the table above.\n",
        "\n",
        "#### Why does it work?\n",
        "\n",
        "The commmand `weather.Tmax.mean()` has two steps.\n",
        "\n",
        "**Step 1:**\n",
        "\n",
        "The syntax `weather.Tmax` (or more generally, `df.column`) returns just the one column of the dataframe as a <tt>series</tt> (essentially a one-column table).\n",
        "\n",
        "Look:"
      ]
    },
    {
      "cell_type": "code",
      "execution_count": null,
      "id": "ca537aa1",
      "metadata": {
        "id": "ca537aa1",
        "outputId": "8fa0d37a-be5e-415b-bf9d-2dedc224df02"
      },
      "outputs": [
        {
          "data": {
            "text/plain": [
              "0         8.3\n",
              "1         2.2\n",
              "2        -2.2\n",
              "3        -1.7\n",
              "4         0.0\n",
              "         ... \n",
              "71338    15.2\n",
              "71339    10.7\n",
              "71340    12.7\n",
              "71341    11.7\n",
              "71342    17.6\n",
              "Name: Tmax, Length: 71343, dtype: float64"
            ]
          },
          "execution_count": 5,
          "metadata": {},
          "output_type": "execute_result"
        }
      ],
      "source": [
        "weather.Tmax"
      ]
    },
    {
      "cell_type": "markdown",
      "id": "73fdc0b4",
      "metadata": {
        "id": "73fdc0b4"
      },
      "source": [
        "If we liked, we could give this single-column series a name a 'save' it:"
      ]
    },
    {
      "cell_type": "code",
      "execution_count": null,
      "id": "a85759d0",
      "metadata": {
        "id": "a85759d0",
        "outputId": "27a2518d-daf8-41b8-e5a2-1fa1bb91abf2"
      },
      "outputs": [
        {
          "name": "stdout",
          "output_type": "stream",
          "text": [
            "0         8.3\n",
            "1         2.2\n",
            "2        -2.2\n",
            "3        -1.7\n",
            "4         0.0\n",
            "         ... \n",
            "71338    15.2\n",
            "71339    10.7\n",
            "71340    12.7\n",
            "71341    11.7\n",
            "71342    17.6\n",
            "Name: Tmax, Length: 71343, dtype: float64\n"
          ]
        }
      ],
      "source": [
        "DailyMaxima  = weather.Tmax\n",
        "print(DailyMaxima)"
      ]
    },
    {
      "cell_type": "markdown",
      "id": "0ccb6bb4",
      "metadata": {
        "id": "0ccb6bb4"
      },
      "source": [
        "However, we don't need to do that as we can just tack the `.mean()` function onto it directly as follows:"
      ]
    },
    {
      "cell_type": "markdown",
      "id": "b9672939",
      "metadata": {
        "id": "b9672939"
      },
      "source": [
        "**Step 2:**\n",
        "\n",
        "The syntax `.mean()` gets the mean of the thing before the dot (i.e. the series you created with the command `weather.Tmax`)"
      ]
    },
    {
      "cell_type": "code",
      "execution_count": null,
      "id": "2eb628aa",
      "metadata": {
        "id": "2eb628aa",
        "outputId": "7aaff869-9a00-4f4c-82c2-776916def84b"
      },
      "outputs": [
        {
          "data": {
            "text/plain": [
              "13.890153065515065"
            ]
          },
          "execution_count": 7,
          "metadata": {},
          "output_type": "execute_result"
        }
      ],
      "source": [
        "weather.Tmax.mean()"
      ]
    },
    {
      "cell_type": "markdown",
      "id": "3b115731",
      "metadata": {
        "id": "3b115731"
      },
      "source": [
        "### Exercises\n",
        "\n",
        "Complete the following quick practice questions:"
      ]
    },
    {
      "cell_type": "code",
      "execution_count": 17,
      "id": "6bccd623",
      "metadata": {
        "id": "6bccd623",
        "outputId": "5427d2d9-40dc-48f0-c2d6-09f467495f39",
        "colab": {
          "base_uri": "https://localhost:8080/"
        }
      },
      "outputs": [
        {
          "output_type": "execute_result",
          "data": {
            "text/plain": [
              "1.7869643833312312"
            ]
          },
          "metadata": {},
          "execution_count": 17
        }
      ],
      "source": [
        "# get the mean daily rainfall\n",
        "weather.Rainfall_mm.mean()"
      ]
    },
    {
      "cell_type": "code",
      "execution_count": 18,
      "id": "9ac0f7eb",
      "metadata": {
        "id": "9ac0f7eb",
        "outputId": "71221f14-91b3-44ba-b6b7-93b60b6415f0",
        "colab": {
          "base_uri": "https://localhost:8080/"
        }
      },
      "outputs": [
        {
          "output_type": "execute_result",
          "data": {
            "text/plain": [
              "0.0"
            ]
          },
          "metadata": {},
          "execution_count": 18
        }
      ],
      "source": [
        "# get the median daily rainfall\n",
        "weather.Rainfall_mm.median()"
      ]
    },
    {
      "cell_type": "code",
      "execution_count": 20,
      "id": "403db34f",
      "metadata": {
        "id": "403db34f",
        "outputId": "9851a8a5-8ec2-411f-c5bf-f7af4f870ebd",
        "colab": {
          "base_uri": "https://localhost:8080/"
        }
      },
      "outputs": [
        {
          "output_type": "execute_result",
          "data": {
            "text/plain": [
              "6.490257961217074"
            ]
          },
          "metadata": {},
          "execution_count": 20
        }
      ],
      "source": [
        "# get the standard deviation of the maximum daily temperature\n",
        "weather.Tmax.std()"
      ]
    },
    {
      "cell_type": "code",
      "execution_count": 25,
      "id": "d93cc437",
      "metadata": {
        "id": "d93cc437",
        "outputId": "6d086386-9566-4dd1-d0b4-b120e0f85661",
        "colab": {
          "base_uri": "https://localhost:8080/"
        }
      },
      "outputs": [
        {
          "output_type": "execute_result",
          "data": {
            "text/plain": [
              "1827"
            ]
          },
          "metadata": {},
          "execution_count": 25
        }
      ],
      "source": [
        "# find the minimum value of \"year\" (you will need two separate commands)\n",
        "weather.YYYY.min()"
      ]
    },
    {
      "cell_type": "markdown",
      "id": "62d816dc",
      "metadata": {
        "id": "62d816dc"
      },
      "source": [
        "## Get descriptives for a subset of rows\n",
        "\n",
        "- `df.query('columnname == number')`\n",
        "- `df.query('columnname == \"string\"')`\n",
        "- `df.query('columnname1 == value1 and columnname2 == value2')`\n",
        "\n",
        "\n",
        "Say I want to know the mean daily maximum temperatures for the year 1921.\n",
        "\n",
        "#### Step 1: find the relevant rows\n",
        "\n",
        "I first need to somehow pull out the rows of the table where the value for <tt>YYYY</tt> is <tt>1921</tt>\n",
        "    \n",
        "I can do this using the function `df.query`, for example <tt>weather.query('YYYY == 1921')</tt>\n",
        "   * **note** the quote marks surrounding the whole query\n",
        "   * **note** the double equals sign `==`, which is used for *checking* if two bvalues are equal (as opposed to setting a value)"
      ]
    },
    {
      "cell_type": "code",
      "execution_count": null,
      "id": "98393d39",
      "metadata": {
        "id": "98393d39",
        "outputId": "67745d13-77a2-47b4-bb80-6bc4ab50dad5"
      },
      "outputs": [
        {
          "data": {
            "text/html": [
              "<div>\n",
              "<style scoped>\n",
              "    .dataframe tbody tr th:only-of-type {\n",
              "        vertical-align: middle;\n",
              "    }\n",
              "\n",
              "    .dataframe tbody tr th {\n",
              "        vertical-align: top;\n",
              "    }\n",
              "\n",
              "    .dataframe thead th {\n",
              "        text-align: right;\n",
              "    }\n",
              "</style>\n",
              "<table border=\"1\" class=\"dataframe\">\n",
              "  <thead>\n",
              "    <tr style=\"text-align: right;\">\n",
              "      <th></th>\n",
              "      <th>YYYY</th>\n",
              "      <th>MM</th>\n",
              "      <th>DD</th>\n",
              "      <th>Tmax</th>\n",
              "      <th>Tmin</th>\n",
              "      <th>Tmean</th>\n",
              "      <th>Trange</th>\n",
              "      <th>Rainfall_mm</th>\n",
              "    </tr>\n",
              "  </thead>\n",
              "  <tbody>\n",
              "    <tr>\n",
              "      <th>34333</th>\n",
              "      <td>1921</td>\n",
              "      <td>1</td>\n",
              "      <td>1</td>\n",
              "      <td>12.2</td>\n",
              "      <td>7.1</td>\n",
              "      <td>9.7</td>\n",
              "      <td>5.1</td>\n",
              "      <td>9.7</td>\n",
              "    </tr>\n",
              "    <tr>\n",
              "      <th>34334</th>\n",
              "      <td>1921</td>\n",
              "      <td>1</td>\n",
              "      <td>2</td>\n",
              "      <td>11.9</td>\n",
              "      <td>8.7</td>\n",
              "      <td>10.3</td>\n",
              "      <td>3.2</td>\n",
              "      <td>6.1</td>\n",
              "    </tr>\n",
              "    <tr>\n",
              "      <th>34335</th>\n",
              "      <td>1921</td>\n",
              "      <td>1</td>\n",
              "      <td>3</td>\n",
              "      <td>9.9</td>\n",
              "      <td>5.9</td>\n",
              "      <td>7.9</td>\n",
              "      <td>4.0</td>\n",
              "      <td>0.0</td>\n",
              "    </tr>\n",
              "    <tr>\n",
              "      <th>34336</th>\n",
              "      <td>1921</td>\n",
              "      <td>1</td>\n",
              "      <td>4</td>\n",
              "      <td>12.3</td>\n",
              "      <td>9.8</td>\n",
              "      <td>11.1</td>\n",
              "      <td>2.5</td>\n",
              "      <td>5.5</td>\n",
              "    </tr>\n",
              "    <tr>\n",
              "      <th>34337</th>\n",
              "      <td>1921</td>\n",
              "      <td>1</td>\n",
              "      <td>5</td>\n",
              "      <td>11.4</td>\n",
              "      <td>6.5</td>\n",
              "      <td>9.0</td>\n",
              "      <td>4.9</td>\n",
              "      <td>0.0</td>\n",
              "    </tr>\n",
              "    <tr>\n",
              "      <th>...</th>\n",
              "      <td>...</td>\n",
              "      <td>...</td>\n",
              "      <td>...</td>\n",
              "      <td>...</td>\n",
              "      <td>...</td>\n",
              "      <td>...</td>\n",
              "      <td>...</td>\n",
              "      <td>...</td>\n",
              "    </tr>\n",
              "    <tr>\n",
              "      <th>34693</th>\n",
              "      <td>1921</td>\n",
              "      <td>12</td>\n",
              "      <td>27</td>\n",
              "      <td>11.2</td>\n",
              "      <td>5.4</td>\n",
              "      <td>8.3</td>\n",
              "      <td>5.8</td>\n",
              "      <td>1.3</td>\n",
              "    </tr>\n",
              "    <tr>\n",
              "      <th>34694</th>\n",
              "      <td>1921</td>\n",
              "      <td>12</td>\n",
              "      <td>28</td>\n",
              "      <td>13.9</td>\n",
              "      <td>3.9</td>\n",
              "      <td>8.9</td>\n",
              "      <td>10.0</td>\n",
              "      <td>0.0</td>\n",
              "    </tr>\n",
              "    <tr>\n",
              "      <th>34695</th>\n",
              "      <td>1921</td>\n",
              "      <td>12</td>\n",
              "      <td>29</td>\n",
              "      <td>7.6</td>\n",
              "      <td>1.7</td>\n",
              "      <td>4.7</td>\n",
              "      <td>5.9</td>\n",
              "      <td>0.8</td>\n",
              "    </tr>\n",
              "    <tr>\n",
              "      <th>34696</th>\n",
              "      <td>1921</td>\n",
              "      <td>12</td>\n",
              "      <td>30</td>\n",
              "      <td>11.7</td>\n",
              "      <td>1.9</td>\n",
              "      <td>6.8</td>\n",
              "      <td>9.8</td>\n",
              "      <td>4.5</td>\n",
              "    </tr>\n",
              "    <tr>\n",
              "      <th>34697</th>\n",
              "      <td>1921</td>\n",
              "      <td>12</td>\n",
              "      <td>31</td>\n",
              "      <td>9.1</td>\n",
              "      <td>3.3</td>\n",
              "      <td>6.2</td>\n",
              "      <td>5.8</td>\n",
              "      <td>0.0</td>\n",
              "    </tr>\n",
              "  </tbody>\n",
              "</table>\n",
              "<p>365 rows × 8 columns</p>\n",
              "</div>"
            ],
            "text/plain": [
              "       YYYY  MM  DD  Tmax  Tmin  Tmean  Trange  Rainfall_mm\n",
              "34333  1921   1   1  12.2   7.1    9.7     5.1          9.7\n",
              "34334  1921   1   2  11.9   8.7   10.3     3.2          6.1\n",
              "34335  1921   1   3   9.9   5.9    7.9     4.0          0.0\n",
              "34336  1921   1   4  12.3   9.8   11.1     2.5          5.5\n",
              "34337  1921   1   5  11.4   6.5    9.0     4.9          0.0\n",
              "...     ...  ..  ..   ...   ...    ...     ...          ...\n",
              "34693  1921  12  27  11.2   5.4    8.3     5.8          1.3\n",
              "34694  1921  12  28  13.9   3.9    8.9    10.0          0.0\n",
              "34695  1921  12  29   7.6   1.7    4.7     5.9          0.8\n",
              "34696  1921  12  30  11.7   1.9    6.8     9.8          4.5\n",
              "34697  1921  12  31   9.1   3.3    6.2     5.8          0.0\n",
              "\n",
              "[365 rows x 8 columns]"
            ]
          },
          "execution_count": 12,
          "metadata": {},
          "output_type": "execute_result"
        }
      ],
      "source": [
        "# get all the rows where year is 1921\n",
        "weather.loc[weather.YYYY == 1921]"
      ]
    },
    {
      "cell_type": "markdown",
      "id": "c1e00495",
      "metadata": {
        "id": "c1e00495"
      },
      "source": [
        "Note the size of this table - there are 365 rows. Why?\n",
        "* In the original table `weather`, there is one row per day\n",
        "* 365 of those rows (days) match the criterion 'YYYY = 1921' because there are 365 days in a year.\n",
        "\n",
        "If I wanted to, I could give this table a name and 'save' it for later use:\n"
      ]
    },
    {
      "cell_type": "code",
      "execution_count": null,
      "id": "ee284f7a",
      "metadata": {
        "id": "ee284f7a",
        "outputId": "061d6573-0119-4061-aa05-6cdf8d8d980d"
      },
      "outputs": [
        {
          "data": {
            "text/html": [
              "<div>\n",
              "<style scoped>\n",
              "    .dataframe tbody tr th:only-of-type {\n",
              "        vertical-align: middle;\n",
              "    }\n",
              "\n",
              "    .dataframe tbody tr th {\n",
              "        vertical-align: top;\n",
              "    }\n",
              "\n",
              "    .dataframe thead th {\n",
              "        text-align: right;\n",
              "    }\n",
              "</style>\n",
              "<table border=\"1\" class=\"dataframe\">\n",
              "  <thead>\n",
              "    <tr style=\"text-align: right;\">\n",
              "      <th></th>\n",
              "      <th>YYYY</th>\n",
              "      <th>MM</th>\n",
              "      <th>DD</th>\n",
              "      <th>Tmax</th>\n",
              "      <th>Tmin</th>\n",
              "      <th>Tmean</th>\n",
              "      <th>Trange</th>\n",
              "      <th>Rainfall_mm</th>\n",
              "    </tr>\n",
              "  </thead>\n",
              "  <tbody>\n",
              "    <tr>\n",
              "      <th>34333</th>\n",
              "      <td>1921</td>\n",
              "      <td>1</td>\n",
              "      <td>1</td>\n",
              "      <td>12.2</td>\n",
              "      <td>7.1</td>\n",
              "      <td>9.7</td>\n",
              "      <td>5.1</td>\n",
              "      <td>9.7</td>\n",
              "    </tr>\n",
              "    <tr>\n",
              "      <th>34334</th>\n",
              "      <td>1921</td>\n",
              "      <td>1</td>\n",
              "      <td>2</td>\n",
              "      <td>11.9</td>\n",
              "      <td>8.7</td>\n",
              "      <td>10.3</td>\n",
              "      <td>3.2</td>\n",
              "      <td>6.1</td>\n",
              "    </tr>\n",
              "    <tr>\n",
              "      <th>34335</th>\n",
              "      <td>1921</td>\n",
              "      <td>1</td>\n",
              "      <td>3</td>\n",
              "      <td>9.9</td>\n",
              "      <td>5.9</td>\n",
              "      <td>7.9</td>\n",
              "      <td>4.0</td>\n",
              "      <td>0.0</td>\n",
              "    </tr>\n",
              "    <tr>\n",
              "      <th>34336</th>\n",
              "      <td>1921</td>\n",
              "      <td>1</td>\n",
              "      <td>4</td>\n",
              "      <td>12.3</td>\n",
              "      <td>9.8</td>\n",
              "      <td>11.1</td>\n",
              "      <td>2.5</td>\n",
              "      <td>5.5</td>\n",
              "    </tr>\n",
              "    <tr>\n",
              "      <th>34337</th>\n",
              "      <td>1921</td>\n",
              "      <td>1</td>\n",
              "      <td>5</td>\n",
              "      <td>11.4</td>\n",
              "      <td>6.5</td>\n",
              "      <td>9.0</td>\n",
              "      <td>4.9</td>\n",
              "      <td>0.0</td>\n",
              "    </tr>\n",
              "    <tr>\n",
              "      <th>...</th>\n",
              "      <td>...</td>\n",
              "      <td>...</td>\n",
              "      <td>...</td>\n",
              "      <td>...</td>\n",
              "      <td>...</td>\n",
              "      <td>...</td>\n",
              "      <td>...</td>\n",
              "      <td>...</td>\n",
              "    </tr>\n",
              "    <tr>\n",
              "      <th>34693</th>\n",
              "      <td>1921</td>\n",
              "      <td>12</td>\n",
              "      <td>27</td>\n",
              "      <td>11.2</td>\n",
              "      <td>5.4</td>\n",
              "      <td>8.3</td>\n",
              "      <td>5.8</td>\n",
              "      <td>1.3</td>\n",
              "    </tr>\n",
              "    <tr>\n",
              "      <th>34694</th>\n",
              "      <td>1921</td>\n",
              "      <td>12</td>\n",
              "      <td>28</td>\n",
              "      <td>13.9</td>\n",
              "      <td>3.9</td>\n",
              "      <td>8.9</td>\n",
              "      <td>10.0</td>\n",
              "      <td>0.0</td>\n",
              "    </tr>\n",
              "    <tr>\n",
              "      <th>34695</th>\n",
              "      <td>1921</td>\n",
              "      <td>12</td>\n",
              "      <td>29</td>\n",
              "      <td>7.6</td>\n",
              "      <td>1.7</td>\n",
              "      <td>4.7</td>\n",
              "      <td>5.9</td>\n",
              "      <td>0.8</td>\n",
              "    </tr>\n",
              "    <tr>\n",
              "      <th>34696</th>\n",
              "      <td>1921</td>\n",
              "      <td>12</td>\n",
              "      <td>30</td>\n",
              "      <td>11.7</td>\n",
              "      <td>1.9</td>\n",
              "      <td>6.8</td>\n",
              "      <td>9.8</td>\n",
              "      <td>4.5</td>\n",
              "    </tr>\n",
              "    <tr>\n",
              "      <th>34697</th>\n",
              "      <td>1921</td>\n",
              "      <td>12</td>\n",
              "      <td>31</td>\n",
              "      <td>9.1</td>\n",
              "      <td>3.3</td>\n",
              "      <td>6.2</td>\n",
              "      <td>5.8</td>\n",
              "      <td>0.0</td>\n",
              "    </tr>\n",
              "  </tbody>\n",
              "</table>\n",
              "<p>365 rows × 8 columns</p>\n",
              "</div>"
            ],
            "text/plain": [
              "       YYYY  MM  DD  Tmax  Tmin  Tmean  Trange  Rainfall_mm\n",
              "34333  1921   1   1  12.2   7.1    9.7     5.1          9.7\n",
              "34334  1921   1   2  11.9   8.7   10.3     3.2          6.1\n",
              "34335  1921   1   3   9.9   5.9    7.9     4.0          0.0\n",
              "34336  1921   1   4  12.3   9.8   11.1     2.5          5.5\n",
              "34337  1921   1   5  11.4   6.5    9.0     4.9          0.0\n",
              "...     ...  ..  ..   ...   ...    ...     ...          ...\n",
              "34693  1921  12  27  11.2   5.4    8.3     5.8          1.3\n",
              "34694  1921  12  28  13.9   3.9    8.9    10.0          0.0\n",
              "34695  1921  12  29   7.6   1.7    4.7     5.9          0.8\n",
              "34696  1921  12  30  11.7   1.9    6.8     9.8          4.5\n",
              "34697  1921  12  31   9.1   3.3    6.2     5.8          0.0\n",
              "\n",
              "[365 rows x 8 columns]"
            ]
          },
          "execution_count": 13,
          "metadata": {},
          "output_type": "execute_result"
        }
      ],
      "source": [
        "weather1921 = weather.query('YYYY == 1921') # create a new dataframe for just 1921\n",
        "weather1921 # look at my new dataframe"
      ]
    },
    {
      "cell_type": "markdown",
      "id": "a9e16c44",
      "metadata": {
        "id": "a9e16c44"
      },
      "source": [
        "... but I don't need to do this as I can tack on more commands to complete my goal in a single line of code.\n",
        "\n",
        "#### Step 2: find the relevant column\n",
        "\n",
        "Now that I have grabbed the relevant rows, I narrow it down to column <tt>Tmax</tt>"
      ]
    },
    {
      "cell_type": "code",
      "execution_count": null,
      "id": "9582155a",
      "metadata": {
        "id": "9582155a",
        "outputId": "e6a63626-c441-45b1-c124-364b804e0216"
      },
      "outputs": [
        {
          "data": {
            "text/plain": [
              "33967     3.2\n",
              "33968     4.5\n",
              "33969     3.7\n",
              "33970     3.7\n",
              "33971     4.5\n",
              "         ... \n",
              "34328    11.9\n",
              "34329    12.3\n",
              "34330    12.4\n",
              "34331    12.1\n",
              "34332    13.2\n",
              "Name: Tmax, Length: 366, dtype: float64"
            ]
          },
          "execution_count": 14,
          "metadata": {},
          "output_type": "execute_result"
        }
      ],
      "source": [
        "weather.query('YYYY == 1920').Tmax"
      ]
    },
    {
      "cell_type": "markdown",
      "id": "ef1a7e64",
      "metadata": {
        "id": "ef1a7e64"
      },
      "source": [
        "#### Step 4: add in the actual function\n",
        "\n",
        "FInally, I can tack on teh function I want to run on my selected rows and column: `mean()`:"
      ]
    },
    {
      "cell_type": "code",
      "execution_count": null,
      "id": "a2547cbb",
      "metadata": {
        "id": "a2547cbb",
        "outputId": "20a8bd7b-1936-4ea9-eda2-b491530645f0"
      },
      "outputs": [
        {
          "data": {
            "text/plain": [
              "13.701092896174865"
            ]
          },
          "execution_count": 15,
          "metadata": {},
          "output_type": "execute_result"
        }
      ],
      "source": [
        "weather.query('YYYY == 1920').Tmax.mean()"
      ]
    },
    {
      "cell_type": "markdown",
      "id": "88c44d08",
      "metadata": {
        "id": "88c44d08"
      },
      "source": [
        "### Exercises\n",
        "\n",
        "Complete the following quick practice questions:"
      ]
    },
    {
      "cell_type": "code",
      "execution_count": 27,
      "id": "5dba672e",
      "metadata": {
        "id": "5dba672e",
        "outputId": "300c677d-ce7c-4bf3-e18b-d286646173da",
        "colab": {
          "base_uri": "https://localhost:8080/"
        }
      },
      "outputs": [
        {
          "output_type": "execute_result",
          "data": {
            "text/plain": [
              "15.66027397260274"
            ]
          },
          "metadata": {},
          "execution_count": 27
        }
      ],
      "source": [
        "# Get the mean daily maximum temperature in 2006\n",
        "weather.query('YYYY==2006').Tmax.mean()"
      ]
    },
    {
      "cell_type": "code",
      "execution_count": 29,
      "id": "6eabd979",
      "metadata": {
        "id": "6eabd979",
        "outputId": "45a1cd8f-c50d-4dde-d3af-3b3be2321457",
        "colab": {
          "base_uri": "https://localhost:8080/"
        }
      },
      "outputs": [
        {
          "output_type": "execute_result",
          "data": {
            "text/plain": [
              "6.1627397260273975"
            ]
          },
          "metadata": {},
          "execution_count": 29
        }
      ],
      "source": [
        "# Get the mean daily minimum temperature in 1947\n",
        "\n",
        "weather.query('YYYY==1947').Tmin.mean()"
      ]
    },
    {
      "cell_type": "markdown",
      "id": "23a2ac8e",
      "metadata": {
        "id": "23a2ac8e"
      },
      "source": [
        "## Get descriptives for one category\n",
        "\n",
        "What about getting the mean daily maximum temperatures for, say, October? So I need to pull out all the rows in which <tt>'MM'</tt> matches <tt>'October'</tt>\n",
        "\n",
        "The syntax is very similar, but now I am matching a string `\"October\"`, so it needs to be in quotes:\n",
        "    "
      ]
    },
    {
      "cell_type": "code",
      "execution_count": 33,
      "id": "28646cb0",
      "metadata": {
        "id": "28646cb0",
        "outputId": "a95746f7-a966-4ead-9dd6-570a6904583b",
        "colab": {
          "base_uri": "https://localhost:8080/"
        }
      },
      "outputs": [
        {
          "output_type": "execute_result",
          "data": {
            "text/plain": [
              "14.112638544251446"
            ]
          },
          "metadata": {},
          "execution_count": 33
        }
      ],
      "source": [
        "weather.query('MM == 10').Tmax.mean()"
      ]
    },
    {
      "cell_type": "markdown",
      "id": "0404bdd3",
      "metadata": {
        "id": "0404bdd3"
      },
      "source": [
        "* **note** you can actually use single and double quotes interchangeably in Python, but in cases like this where you have quotes within quotes, it is better to use both types to avoid the computer getting confused about which opening and closing quotes to pair up.\n",
        "\n",
        "so you could do either of these\n",
        "\n",
        "- weather.query('MM == \"October\"').Tmax.mean()\n",
        "- weather.query(\"MM == 'October'\").Tmax.mean()\n",
        "\n",
        "but not these\n",
        "\n",
        "- weather.query('MM == 'October'').Tmax.mean()\n",
        "- weather.query(\"MM == 'October'\").Tmax.mean()"
      ]
    },
    {
      "cell_type": "markdown",
      "id": "10985313",
      "metadata": {
        "id": "10985313"
      },
      "source": [
        "### Exercises\n",
        "\n",
        "Complete the following quick practice questions:"
      ]
    },
    {
      "cell_type": "code",
      "execution_count": 34,
      "id": "30a4ed22",
      "metadata": {
        "id": "30a4ed22",
        "outputId": "95c2db54-ae66-468a-9b5e-9827a97a5ae6",
        "colab": {
          "base_uri": "https://localhost:8080/"
        }
      },
      "outputs": [
        {
          "output_type": "execute_result",
          "data": {
            "text/plain": [
              "1.7681863067807768"
            ]
          },
          "metadata": {},
          "execution_count": 34
        }
      ],
      "source": [
        "# Get the mean daily rainfall in January\n",
        "\n",
        "weather.query('MM==1').Rainfall_mm.mean()"
      ]
    },
    {
      "cell_type": "code",
      "execution_count": 35,
      "id": "a6cfbcdd",
      "metadata": {
        "id": "a6cfbcdd",
        "outputId": "a75a23ff-0117-4412-e9c5-7b73ad6eabc0",
        "colab": {
          "base_uri": "https://localhost:8080/"
        }
      },
      "outputs": [
        {
          "output_type": "execute_result",
          "data": {
            "text/plain": [
              "1.8136068376068377"
            ]
          },
          "metadata": {},
          "execution_count": 35
        }
      ],
      "source": [
        "# Get the mean daily rainfall in June\n",
        "\n",
        "weather.query('MM==6').Rainfall_mm.mean()"
      ]
    },
    {
      "cell_type": "markdown",
      "id": "ce908842",
      "metadata": {
        "id": "ce908842"
      },
      "source": [
        "## Match multiple conditions\n",
        "\n",
        "What if I want to know the mean daily maximum temperature in 1920 for June only?\n",
        "\n",
        "We can simply use `and` or `&` to pass `df.query()` multiple conditions:"
      ]
    },
    {
      "cell_type": "code",
      "execution_count": 36,
      "id": "22cd5fd6",
      "metadata": {
        "id": "22cd5fd6",
        "outputId": "75af035e-7b89-4444-f76e-1a3131da03d1",
        "colab": {
          "base_uri": "https://localhost:8080/"
        }
      },
      "outputs": [
        {
          "output_type": "execute_result",
          "data": {
            "text/plain": [
              "19.553333333333335"
            ]
          },
          "metadata": {},
          "execution_count": 36
        }
      ],
      "source": [
        "# mean daily maximum temperature in 1920\n",
        "weather.query('YYYY == 1920').Tmax.mean()"
      ]
    },
    {
      "cell_type": "code",
      "execution_count": null,
      "id": "2ba8f15b",
      "metadata": {
        "id": "2ba8f15b",
        "outputId": "06f0b699-5ea4-4619-eea2-c18cea5f80ff"
      },
      "outputs": [
        {
          "data": {
            "text/plain": [
              "19.553333333333335"
            ]
          },
          "execution_count": 22,
          "metadata": {},
          "output_type": "execute_result"
        }
      ],
      "source": [
        "# mean daily maximumm temperature in 1920\n",
        "weather.query('YYYY == 1920 & MM == 6').Tmax.mean()"
      ]
    },
    {
      "cell_type": "markdown",
      "id": "1bb36dd2",
      "metadata": {
        "id": "1bb36dd2"
      },
      "source": [
        "* **Think** hopefully the value for June is higher than the average for the whole year? If not something has gone wrong!"
      ]
    },
    {
      "cell_type": "markdown",
      "id": "a61d8b31",
      "metadata": {
        "id": "a61d8b31"
      },
      "source": [
        "### Exercises\n",
        "\n",
        "Complete the following quick practice questions:"
      ]
    },
    {
      "cell_type": "code",
      "execution_count": 37,
      "id": "e61f9992",
      "metadata": {
        "id": "e61f9992",
        "outputId": "350fe085-4c46-49f3-a6d0-091b3c29deb7",
        "colab": {
          "base_uri": "https://localhost:8080/"
        }
      },
      "outputs": [
        {
          "output_type": "execute_result",
          "data": {
            "text/plain": [
              "2.6166666666666663"
            ]
          },
          "metadata": {},
          "execution_count": 37
        }
      ],
      "source": [
        "# Get the mean daily rainfall in June 2007\n",
        "\n",
        "weather.query(\"YYYY==2007 & MM==6\").Rainfall_mm.mean()"
      ]
    },
    {
      "cell_type": "code",
      "execution_count": 40,
      "id": "73d2f3c9",
      "metadata": {
        "id": "73d2f3c9",
        "outputId": "d4882967-b7e7-4802-97d5-5a4e74a864a7",
        "colab": {
          "base_uri": "https://localhost:8080/"
        }
      },
      "outputs": [
        {
          "output_type": "execute_result",
          "data": {
            "text/plain": [
              "-12.4"
            ]
          },
          "metadata": {},
          "execution_count": 40
        }
      ],
      "source": [
        "# Get the minimum temperature in January 1947\n",
        "\n",
        "weather.query(\"YYYY==1947 & MM==1\").Tmin.min()"
      ]
    },
    {
      "cell_type": "markdown",
      "id": "a2938b77",
      "metadata": {
        "id": "a2938b77"
      },
      "source": [
        "## Syntax for correlation\n",
        "\n",
        "When we run a correlation, we need to index *two* columns - the two we are correlating.\n",
        "\n",
        "Using the `pandas` function `df.corr()` we can do so as follows:"
      ]
    },
    {
      "cell_type": "code",
      "execution_count": null,
      "id": "39e65c71",
      "metadata": {
        "id": "39e65c71",
        "outputId": "edb7d1d1-6233-43a5-f824-2a6af731c89b"
      },
      "outputs": [
        {
          "data": {
            "text/plain": [
              "0.8414800914062084"
            ]
          },
          "execution_count": 28,
          "metadata": {},
          "output_type": "execute_result"
        }
      ],
      "source": [
        "# get the correlation between columns Tmin and Tmax of dataframe weather\n",
        "weather.Tmin.corr(weather.Tmax)"
      ]
    },
    {
      "cell_type": "markdown",
      "id": "65b086ce",
      "metadata": {
        "id": "65b086ce"
      },
      "source": [
        "We can set the type of correlation to Pearson or Spearman as appropriate (the default is Pearson's $r$):"
      ]
    },
    {
      "cell_type": "code",
      "execution_count": null,
      "id": "7ec28f45",
      "metadata": {
        "id": "7ec28f45",
        "outputId": "42902bbf-0737-421a-e4cd-c9d889dada93"
      },
      "outputs": [
        {
          "data": {
            "text/plain": [
              "0.8438796074978867"
            ]
          },
          "execution_count": 30,
          "metadata": {},
          "output_type": "execute_result"
        }
      ],
      "source": [
        "# get the correlation between columns Tmin and Tmax of dataframe weather\n",
        "weather.Tmin.corr(weather.Tmax, method='spearman')"
      ]
    },
    {
      "cell_type": "markdown",
      "id": "71036f0c",
      "metadata": {
        "id": "71036f0c"
      },
      "source": [
        "#### Exercises\n",
        "\n",
        "Complete the following practice questions to help you get to grips with the syntax for correlation:"
      ]
    },
    {
      "cell_type": "code",
      "execution_count": 88,
      "id": "071284d5",
      "metadata": {
        "id": "071284d5",
        "outputId": "71011634-7d88-4f99-8825-cf9500cb2317",
        "colab": {
          "base_uri": "https://localhost:8080/"
        }
      },
      "outputs": [
        {
          "output_type": "execute_result",
          "data": {
            "text/plain": [
              "-0.019287092574398337"
            ]
          },
          "metadata": {},
          "execution_count": 88
        }
      ],
      "source": [
        "# Find the Spearman correlation between daily mean temperature Tmean, and rainfall\n",
        "weather.Tmean.corr(weather.Rainfall_mm, method='spearman')"
      ]
    },
    {
      "cell_type": "code",
      "execution_count": 85,
      "id": "7eac1df4",
      "metadata": {
        "id": "7eac1df4",
        "outputId": "34f52e09-4597-45b5-c0f0-b4b0bae75920",
        "colab": {
          "base_uri": "https://localhost:8080/"
        }
      },
      "outputs": [
        {
          "output_type": "execute_result",
          "data": {
            "text/plain": [
              "0.08304423160159406"
            ]
          },
          "metadata": {},
          "execution_count": 85
        }
      ],
      "source": [
        "# Find the correlation between year and daily mean temperature\n",
        "weather.Tmean.corr(weather.YYYY)"
      ]
    },
    {
      "cell_type": "markdown",
      "id": "d68d7c61",
      "metadata": {
        "id": "d68d7c61"
      },
      "source": [
        "#### All-by-all correlation matrix\n",
        "\n",
        "We can also quickly output all the correlations between all possible pairs of columns in a dataframe by simply not giving any column index:"
      ]
    },
    {
      "cell_type": "code",
      "execution_count": 84,
      "id": "d04b1b96",
      "metadata": {
        "id": "d04b1b96",
        "outputId": "96423c3b-29ef-4fc4-f0f7-e2cf61dd953a",
        "colab": {
          "base_uri": "https://localhost:8080/",
          "height": 386
        }
      },
      "outputs": [
        {
          "output_type": "stream",
          "name": "stderr",
          "text": [
            "<ipython-input-84-7abb8bc3d4be>:1: FutureWarning: The default value of numeric_only in DataFrame.corr is deprecated. In a future version, it will default to False. Select only valid columns or specify the value of numeric_only to silence this warning.\n",
            "  weather.corr()\n"
          ]
        },
        {
          "output_type": "execute_result",
          "data": {
            "text/plain": [
              "                 YYYY        MM        DD     DD365      Tmax      Tmin  \\\n",
              "YYYY         1.000000 -0.003411 -0.000059 -0.003372  0.071631  0.089683   \n",
              "MM          -0.003411  1.000000  0.010567  0.995580  0.179681  0.235401   \n",
              "DD          -0.000059  0.010567  1.000000  0.092771  0.001217  0.002876   \n",
              "DD365       -0.003372  0.995580  0.092771  1.000000  0.177016  0.233248   \n",
              "Tmax         0.071631  0.179681  0.001217  0.177016  1.000000  0.841480   \n",
              "Tmin         0.089683  0.235401  0.002876  0.233248  0.841480  1.000000   \n",
              "Tmean        0.083044  0.213082  0.002035  0.210545  0.967881  0.950248   \n",
              "Trange      -0.001257 -0.018820 -0.002055 -0.020536  0.593339  0.064379   \n",
              "Rainfall_mm  0.008117  0.043672  0.005315  0.043925 -0.008807  0.086181   \n",
              "\n",
              "                Tmean    Trange  Rainfall_mm  \n",
              "YYYY         0.083044 -0.001257     0.008117  \n",
              "MM           0.213082 -0.018820     0.043672  \n",
              "DD           0.002035 -0.002055     0.005315  \n",
              "DD365        0.210545 -0.020536     0.043925  \n",
              "Tmax         0.967881  0.593339    -0.008807  \n",
              "Tmin         0.950248  0.064379     0.086181  \n",
              "Tmean        1.000000  0.371965     0.035037  \n",
              "Trange       0.371965  1.000000    -0.144654  \n",
              "Rainfall_mm  0.035037 -0.144654     1.000000  "
            ],
            "text/html": [
              "\n",
              "  <div id=\"df-c363c382-8199-457f-b28f-80c60dcd7a31\" class=\"colab-df-container\">\n",
              "    <div>\n",
              "<style scoped>\n",
              "    .dataframe tbody tr th:only-of-type {\n",
              "        vertical-align: middle;\n",
              "    }\n",
              "\n",
              "    .dataframe tbody tr th {\n",
              "        vertical-align: top;\n",
              "    }\n",
              "\n",
              "    .dataframe thead th {\n",
              "        text-align: right;\n",
              "    }\n",
              "</style>\n",
              "<table border=\"1\" class=\"dataframe\">\n",
              "  <thead>\n",
              "    <tr style=\"text-align: right;\">\n",
              "      <th></th>\n",
              "      <th>YYYY</th>\n",
              "      <th>MM</th>\n",
              "      <th>DD</th>\n",
              "      <th>DD365</th>\n",
              "      <th>Tmax</th>\n",
              "      <th>Tmin</th>\n",
              "      <th>Tmean</th>\n",
              "      <th>Trange</th>\n",
              "      <th>Rainfall_mm</th>\n",
              "    </tr>\n",
              "  </thead>\n",
              "  <tbody>\n",
              "    <tr>\n",
              "      <th>YYYY</th>\n",
              "      <td>1.000000</td>\n",
              "      <td>-0.003411</td>\n",
              "      <td>-0.000059</td>\n",
              "      <td>-0.003372</td>\n",
              "      <td>0.071631</td>\n",
              "      <td>0.089683</td>\n",
              "      <td>0.083044</td>\n",
              "      <td>-0.001257</td>\n",
              "      <td>0.008117</td>\n",
              "    </tr>\n",
              "    <tr>\n",
              "      <th>MM</th>\n",
              "      <td>-0.003411</td>\n",
              "      <td>1.000000</td>\n",
              "      <td>0.010567</td>\n",
              "      <td>0.995580</td>\n",
              "      <td>0.179681</td>\n",
              "      <td>0.235401</td>\n",
              "      <td>0.213082</td>\n",
              "      <td>-0.018820</td>\n",
              "      <td>0.043672</td>\n",
              "    </tr>\n",
              "    <tr>\n",
              "      <th>DD</th>\n",
              "      <td>-0.000059</td>\n",
              "      <td>0.010567</td>\n",
              "      <td>1.000000</td>\n",
              "      <td>0.092771</td>\n",
              "      <td>0.001217</td>\n",
              "      <td>0.002876</td>\n",
              "      <td>0.002035</td>\n",
              "      <td>-0.002055</td>\n",
              "      <td>0.005315</td>\n",
              "    </tr>\n",
              "    <tr>\n",
              "      <th>DD365</th>\n",
              "      <td>-0.003372</td>\n",
              "      <td>0.995580</td>\n",
              "      <td>0.092771</td>\n",
              "      <td>1.000000</td>\n",
              "      <td>0.177016</td>\n",
              "      <td>0.233248</td>\n",
              "      <td>0.210545</td>\n",
              "      <td>-0.020536</td>\n",
              "      <td>0.043925</td>\n",
              "    </tr>\n",
              "    <tr>\n",
              "      <th>Tmax</th>\n",
              "      <td>0.071631</td>\n",
              "      <td>0.179681</td>\n",
              "      <td>0.001217</td>\n",
              "      <td>0.177016</td>\n",
              "      <td>1.000000</td>\n",
              "      <td>0.841480</td>\n",
              "      <td>0.967881</td>\n",
              "      <td>0.593339</td>\n",
              "      <td>-0.008807</td>\n",
              "    </tr>\n",
              "    <tr>\n",
              "      <th>Tmin</th>\n",
              "      <td>0.089683</td>\n",
              "      <td>0.235401</td>\n",
              "      <td>0.002876</td>\n",
              "      <td>0.233248</td>\n",
              "      <td>0.841480</td>\n",
              "      <td>1.000000</td>\n",
              "      <td>0.950248</td>\n",
              "      <td>0.064379</td>\n",
              "      <td>0.086181</td>\n",
              "    </tr>\n",
              "    <tr>\n",
              "      <th>Tmean</th>\n",
              "      <td>0.083044</td>\n",
              "      <td>0.213082</td>\n",
              "      <td>0.002035</td>\n",
              "      <td>0.210545</td>\n",
              "      <td>0.967881</td>\n",
              "      <td>0.950248</td>\n",
              "      <td>1.000000</td>\n",
              "      <td>0.371965</td>\n",
              "      <td>0.035037</td>\n",
              "    </tr>\n",
              "    <tr>\n",
              "      <th>Trange</th>\n",
              "      <td>-0.001257</td>\n",
              "      <td>-0.018820</td>\n",
              "      <td>-0.002055</td>\n",
              "      <td>-0.020536</td>\n",
              "      <td>0.593339</td>\n",
              "      <td>0.064379</td>\n",
              "      <td>0.371965</td>\n",
              "      <td>1.000000</td>\n",
              "      <td>-0.144654</td>\n",
              "    </tr>\n",
              "    <tr>\n",
              "      <th>Rainfall_mm</th>\n",
              "      <td>0.008117</td>\n",
              "      <td>0.043672</td>\n",
              "      <td>0.005315</td>\n",
              "      <td>0.043925</td>\n",
              "      <td>-0.008807</td>\n",
              "      <td>0.086181</td>\n",
              "      <td>0.035037</td>\n",
              "      <td>-0.144654</td>\n",
              "      <td>1.000000</td>\n",
              "    </tr>\n",
              "  </tbody>\n",
              "</table>\n",
              "</div>\n",
              "    <div class=\"colab-df-buttons\">\n",
              "\n",
              "  <div class=\"colab-df-container\">\n",
              "    <button class=\"colab-df-convert\" onclick=\"convertToInteractive('df-c363c382-8199-457f-b28f-80c60dcd7a31')\"\n",
              "            title=\"Convert this dataframe to an interactive table.\"\n",
              "            style=\"display:none;\">\n",
              "\n",
              "  <svg xmlns=\"http://www.w3.org/2000/svg\" height=\"24px\" viewBox=\"0 -960 960 960\">\n",
              "    <path d=\"M120-120v-720h720v720H120Zm60-500h600v-160H180v160Zm220 220h160v-160H400v160Zm0 220h160v-160H400v160ZM180-400h160v-160H180v160Zm440 0h160v-160H620v160ZM180-180h160v-160H180v160Zm440 0h160v-160H620v160Z\"/>\n",
              "  </svg>\n",
              "    </button>\n",
              "\n",
              "  <style>\n",
              "    .colab-df-container {\n",
              "      display:flex;\n",
              "      gap: 12px;\n",
              "    }\n",
              "\n",
              "    .colab-df-convert {\n",
              "      background-color: #E8F0FE;\n",
              "      border: none;\n",
              "      border-radius: 50%;\n",
              "      cursor: pointer;\n",
              "      display: none;\n",
              "      fill: #1967D2;\n",
              "      height: 32px;\n",
              "      padding: 0 0 0 0;\n",
              "      width: 32px;\n",
              "    }\n",
              "\n",
              "    .colab-df-convert:hover {\n",
              "      background-color: #E2EBFA;\n",
              "      box-shadow: 0px 1px 2px rgba(60, 64, 67, 0.3), 0px 1px 3px 1px rgba(60, 64, 67, 0.15);\n",
              "      fill: #174EA6;\n",
              "    }\n",
              "\n",
              "    .colab-df-buttons div {\n",
              "      margin-bottom: 4px;\n",
              "    }\n",
              "\n",
              "    [theme=dark] .colab-df-convert {\n",
              "      background-color: #3B4455;\n",
              "      fill: #D2E3FC;\n",
              "    }\n",
              "\n",
              "    [theme=dark] .colab-df-convert:hover {\n",
              "      background-color: #434B5C;\n",
              "      box-shadow: 0px 1px 3px 1px rgba(0, 0, 0, 0.15);\n",
              "      filter: drop-shadow(0px 1px 2px rgba(0, 0, 0, 0.3));\n",
              "      fill: #FFFFFF;\n",
              "    }\n",
              "  </style>\n",
              "\n",
              "    <script>\n",
              "      const buttonEl =\n",
              "        document.querySelector('#df-c363c382-8199-457f-b28f-80c60dcd7a31 button.colab-df-convert');\n",
              "      buttonEl.style.display =\n",
              "        google.colab.kernel.accessAllowed ? 'block' : 'none';\n",
              "\n",
              "      async function convertToInteractive(key) {\n",
              "        const element = document.querySelector('#df-c363c382-8199-457f-b28f-80c60dcd7a31');\n",
              "        const dataTable =\n",
              "          await google.colab.kernel.invokeFunction('convertToInteractive',\n",
              "                                                    [key], {});\n",
              "        if (!dataTable) return;\n",
              "\n",
              "        const docLinkHtml = 'Like what you see? Visit the ' +\n",
              "          '<a target=\"_blank\" href=https://colab.research.google.com/notebooks/data_table.ipynb>data table notebook</a>'\n",
              "          + ' to learn more about interactive tables.';\n",
              "        element.innerHTML = '';\n",
              "        dataTable['output_type'] = 'display_data';\n",
              "        await google.colab.output.renderOutput(dataTable, element);\n",
              "        const docLink = document.createElement('div');\n",
              "        docLink.innerHTML = docLinkHtml;\n",
              "        element.appendChild(docLink);\n",
              "      }\n",
              "    </script>\n",
              "  </div>\n",
              "\n",
              "\n",
              "<div id=\"df-ad79b816-bf6b-4935-9e1b-1a12a4996420\">\n",
              "  <button class=\"colab-df-quickchart\" onclick=\"quickchart('df-ad79b816-bf6b-4935-9e1b-1a12a4996420')\"\n",
              "            title=\"Suggest charts.\"\n",
              "            style=\"display:none;\">\n",
              "\n",
              "<svg xmlns=\"http://www.w3.org/2000/svg\" height=\"24px\"viewBox=\"0 0 24 24\"\n",
              "     width=\"24px\">\n",
              "    <g>\n",
              "        <path d=\"M19 3H5c-1.1 0-2 .9-2 2v14c0 1.1.9 2 2 2h14c1.1 0 2-.9 2-2V5c0-1.1-.9-2-2-2zM9 17H7v-7h2v7zm4 0h-2V7h2v10zm4 0h-2v-4h2v4z\"/>\n",
              "    </g>\n",
              "</svg>\n",
              "  </button>\n",
              "\n",
              "<style>\n",
              "  .colab-df-quickchart {\n",
              "      --bg-color: #E8F0FE;\n",
              "      --fill-color: #1967D2;\n",
              "      --hover-bg-color: #E2EBFA;\n",
              "      --hover-fill-color: #174EA6;\n",
              "      --disabled-fill-color: #AAA;\n",
              "      --disabled-bg-color: #DDD;\n",
              "  }\n",
              "\n",
              "  [theme=dark] .colab-df-quickchart {\n",
              "      --bg-color: #3B4455;\n",
              "      --fill-color: #D2E3FC;\n",
              "      --hover-bg-color: #434B5C;\n",
              "      --hover-fill-color: #FFFFFF;\n",
              "      --disabled-bg-color: #3B4455;\n",
              "      --disabled-fill-color: #666;\n",
              "  }\n",
              "\n",
              "  .colab-df-quickchart {\n",
              "    background-color: var(--bg-color);\n",
              "    border: none;\n",
              "    border-radius: 50%;\n",
              "    cursor: pointer;\n",
              "    display: none;\n",
              "    fill: var(--fill-color);\n",
              "    height: 32px;\n",
              "    padding: 0;\n",
              "    width: 32px;\n",
              "  }\n",
              "\n",
              "  .colab-df-quickchart:hover {\n",
              "    background-color: var(--hover-bg-color);\n",
              "    box-shadow: 0 1px 2px rgba(60, 64, 67, 0.3), 0 1px 3px 1px rgba(60, 64, 67, 0.15);\n",
              "    fill: var(--button-hover-fill-color);\n",
              "  }\n",
              "\n",
              "  .colab-df-quickchart-complete:disabled,\n",
              "  .colab-df-quickchart-complete:disabled:hover {\n",
              "    background-color: var(--disabled-bg-color);\n",
              "    fill: var(--disabled-fill-color);\n",
              "    box-shadow: none;\n",
              "  }\n",
              "\n",
              "  .colab-df-spinner {\n",
              "    border: 2px solid var(--fill-color);\n",
              "    border-color: transparent;\n",
              "    border-bottom-color: var(--fill-color);\n",
              "    animation:\n",
              "      spin 1s steps(1) infinite;\n",
              "  }\n",
              "\n",
              "  @keyframes spin {\n",
              "    0% {\n",
              "      border-color: transparent;\n",
              "      border-bottom-color: var(--fill-color);\n",
              "      border-left-color: var(--fill-color);\n",
              "    }\n",
              "    20% {\n",
              "      border-color: transparent;\n",
              "      border-left-color: var(--fill-color);\n",
              "      border-top-color: var(--fill-color);\n",
              "    }\n",
              "    30% {\n",
              "      border-color: transparent;\n",
              "      border-left-color: var(--fill-color);\n",
              "      border-top-color: var(--fill-color);\n",
              "      border-right-color: var(--fill-color);\n",
              "    }\n",
              "    40% {\n",
              "      border-color: transparent;\n",
              "      border-right-color: var(--fill-color);\n",
              "      border-top-color: var(--fill-color);\n",
              "    }\n",
              "    60% {\n",
              "      border-color: transparent;\n",
              "      border-right-color: var(--fill-color);\n",
              "    }\n",
              "    80% {\n",
              "      border-color: transparent;\n",
              "      border-right-color: var(--fill-color);\n",
              "      border-bottom-color: var(--fill-color);\n",
              "    }\n",
              "    90% {\n",
              "      border-color: transparent;\n",
              "      border-bottom-color: var(--fill-color);\n",
              "    }\n",
              "  }\n",
              "</style>\n",
              "\n",
              "  <script>\n",
              "    async function quickchart(key) {\n",
              "      const quickchartButtonEl =\n",
              "        document.querySelector('#' + key + ' button');\n",
              "      quickchartButtonEl.disabled = true;  // To prevent multiple clicks.\n",
              "      quickchartButtonEl.classList.add('colab-df-spinner');\n",
              "      try {\n",
              "        const charts = await google.colab.kernel.invokeFunction(\n",
              "            'suggestCharts', [key], {});\n",
              "      } catch (error) {\n",
              "        console.error('Error during call to suggestCharts:', error);\n",
              "      }\n",
              "      quickchartButtonEl.classList.remove('colab-df-spinner');\n",
              "      quickchartButtonEl.classList.add('colab-df-quickchart-complete');\n",
              "    }\n",
              "    (() => {\n",
              "      let quickchartButtonEl =\n",
              "        document.querySelector('#df-ad79b816-bf6b-4935-9e1b-1a12a4996420 button');\n",
              "      quickchartButtonEl.style.display =\n",
              "        google.colab.kernel.accessAllowed ? 'block' : 'none';\n",
              "    })();\n",
              "  </script>\n",
              "</div>\n",
              "    </div>\n",
              "  </div>\n"
            ]
          },
          "metadata": {},
          "execution_count": 84
        }
      ],
      "source": [
        "weather.corr()"
      ]
    },
    {
      "cell_type": "markdown",
      "id": "828bb885",
      "metadata": {
        "id": "828bb885"
      },
      "source": [
        "The problem with this is that the figure we want is often buried amongst a lot of irrelevant correlation coefficients.\n",
        "\n",
        "#### Correlation using `scipy.stats`\n",
        "\n",
        "Note that here we are using the `pandas` function `df.corr()`\n",
        "\n",
        "Later in the course we will use two functions from a library called `scipy.stats`:\n",
        "\n",
        "* `stats.pearsonr()`\n",
        "* `stats.spearmanr()`\n",
        "\n",
        "These are actually a bit more useful as they give us a $p$-value for the correlation as well as the correlation coefficient\n",
        "* don't worry if you don't know what a $p$-value is yet - this will be covered later in the course\n",
        "\n",
        "`scipy.stats` will be used extensively in the module on hypothesis testing"
      ]
    },
    {
      "cell_type": "code",
      "execution_count": 49,
      "id": "d033e382",
      "metadata": {
        "id": "d033e382",
        "outputId": "6f304f15-8a44-4fbc-eab0-7fd012873a79",
        "colab": {
          "base_uri": "https://localhost:8080/",
          "height": 297
        }
      },
      "outputs": [
        {
          "output_type": "error",
          "ename": "AttributeError",
          "evalue": "ignored",
          "traceback": [
            "\u001b[0;31m---------------------------------------------------------------------------\u001b[0m",
            "\u001b[0;31mAttributeError\u001b[0m                            Traceback (most recent call last)",
            "\u001b[0;32m<ipython-input-49-f80be5c55919>\u001b[0m in \u001b[0;36m<cell line: 1>\u001b[0;34m()\u001b[0m\n\u001b[0;32m----> 1\u001b[0;31m \u001b[0mweather\u001b[0m\u001b[0;34m.\u001b[0m\u001b[0mTmin\u001b[0m\u001b[0;34m.\u001b[0m\u001b[0mpearsonr\u001b[0m\u001b[0;34m(\u001b[0m\u001b[0mweather\u001b[0m\u001b[0;34m.\u001b[0m\u001b[0mTmax\u001b[0m\u001b[0;34m)\u001b[0m\u001b[0;34m\u001b[0m\u001b[0;34m\u001b[0m\u001b[0m\n\u001b[0m",
            "\u001b[0;32m/usr/local/lib/python3.10/dist-packages/pandas/core/generic.py\u001b[0m in \u001b[0;36m__getattr__\u001b[0;34m(self, name)\u001b[0m\n\u001b[1;32m   5900\u001b[0m         ):\n\u001b[1;32m   5901\u001b[0m             \u001b[0;32mreturn\u001b[0m \u001b[0mself\u001b[0m\u001b[0;34m[\u001b[0m\u001b[0mname\u001b[0m\u001b[0;34m]\u001b[0m\u001b[0;34m\u001b[0m\u001b[0;34m\u001b[0m\u001b[0m\n\u001b[0;32m-> 5902\u001b[0;31m         \u001b[0;32mreturn\u001b[0m \u001b[0mobject\u001b[0m\u001b[0;34m.\u001b[0m\u001b[0m__getattribute__\u001b[0m\u001b[0;34m(\u001b[0m\u001b[0mself\u001b[0m\u001b[0;34m,\u001b[0m \u001b[0mname\u001b[0m\u001b[0;34m)\u001b[0m\u001b[0;34m\u001b[0m\u001b[0;34m\u001b[0m\u001b[0m\n\u001b[0m\u001b[1;32m   5903\u001b[0m \u001b[0;34m\u001b[0m\u001b[0m\n\u001b[1;32m   5904\u001b[0m     \u001b[0;32mdef\u001b[0m \u001b[0m__setattr__\u001b[0m\u001b[0;34m(\u001b[0m\u001b[0mself\u001b[0m\u001b[0;34m,\u001b[0m \u001b[0mname\u001b[0m\u001b[0;34m:\u001b[0m \u001b[0mstr\u001b[0m\u001b[0;34m,\u001b[0m \u001b[0mvalue\u001b[0m\u001b[0;34m)\u001b[0m \u001b[0;34m->\u001b[0m \u001b[0;32mNone\u001b[0m\u001b[0;34m:\u001b[0m\u001b[0;34m\u001b[0m\u001b[0;34m\u001b[0m\u001b[0m\n",
            "\u001b[0;31mAttributeError\u001b[0m: 'Series' object has no attribute 'pearsonr'"
          ]
        }
      ],
      "source": []
    }
  ],
  "metadata": {
    "kernelspec": {
      "display_name": "Python 3 (ipykernel)",
      "language": "python",
      "name": "python3"
    },
    "language_info": {
      "codemirror_mode": {
        "name": "ipython",
        "version": 3
      },
      "file_extension": ".py",
      "mimetype": "text/x-python",
      "name": "python",
      "nbconvert_exporter": "python",
      "pygments_lexer": "ipython3",
      "version": "3.9.18"
    },
    "colab": {
      "provenance": []
    }
  },
  "nbformat": 4,
  "nbformat_minor": 5
}