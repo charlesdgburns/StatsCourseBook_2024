{
 "cells": [
  {
   "cell_type": "markdown",
   "id": "c8868457",
   "metadata": {},
   "source": [
    "# Permutation test for correlation\n",
    "\n",
    "In the previous examples we used permutation testing to assess the significance of a difference between groups (difference of means or mean difference).\n",
    "\n",
    "Permutation testing can also be used to assess the statistical significance of a <i>correlation</i>.\n",
    "\n",
    "As a reminder, a correlation can occur <i>only</i> in paired designs, as when two variables are correlated, it means that an individual's score on one variable is related to their score on the other variable. \n",
    "\n",
    "Correlations can be interesting in themselves (do students who score highly on English tests also score highly on maths tests?; do people who eat more broccli have greater bone density?). \n",
    "\n",
    "They can also reflect the fact that experimental measures often depend on factors other than the one we are manipulating (sometimes called <i>confounding factors</i>), which are what we try to control for by using a paired design. For example if we are interested in whether men earn more than women, we might use a paired design comparing brothers and sisters to take into account the very important effects of parental occupation and education on earnings which mean that high-earning brothers often have high-earning sisters. The fact that brothers' and sisters' earnings are correlated actually reflects the confounds that we want to 'cancel out' by using a paired design to test gender differences.\n",
    "\n",
    "\n",
    "### Set up Python libraries\n",
    "\n",
    "As usual, run the code cell below to import the relevant Python libraries"
   ]
  },
  {
   "cell_type": "code",
   "execution_count": 1,
   "id": "5fb0416d",
   "metadata": {},
   "outputs": [],
   "source": [
    "# Set-up Python libraries - you need to run this but you don't need to change it\n",
    "import numpy as np\n",
    "import matplotlib.pyplot as plt\n",
    "import scipy.stats as stats\n",
    "import pandas \n",
    "import seaborn as sns"
   ]
  },
  {
   "cell_type": "markdown",
   "id": "f0806e8c",
   "metadata": {},
   "source": [
    "## Toy example\n",
    "\n",
    "[A toy example is an example with a very small dataset, just to show how it works]\n",
    "\n",
    "We are interested in whether people who eat more broccoli have higher IQs.\n",
    "\n",
    "The following made-up data give weekly broccoli consumption in grams and IQ for 25 individuals:"
   ]
  },
  {
   "cell_type": "code",
   "execution_count": 2,
   "id": "537072c8",
   "metadata": {},
   "outputs": [
    {
     "data": {
      "text/html": [
       "<div>\n",
       "<style scoped>\n",
       "    .dataframe tbody tr th:only-of-type {\n",
       "        vertical-align: middle;\n",
       "    }\n",
       "\n",
       "    .dataframe tbody tr th {\n",
       "        vertical-align: top;\n",
       "    }\n",
       "\n",
       "    .dataframe thead th {\n",
       "        text-align: right;\n",
       "    }\n",
       "</style>\n",
       "<table border=\"1\" class=\"dataframe\">\n",
       "  <thead>\n",
       "    <tr style=\"text-align: right;\">\n",
       "      <th></th>\n",
       "      <th>broccoli_g</th>\n",
       "      <th>IQ</th>\n",
       "    </tr>\n",
       "  </thead>\n",
       "  <tbody>\n",
       "    <tr>\n",
       "      <th>0</th>\n",
       "      <td>0</td>\n",
       "      <td>87</td>\n",
       "    </tr>\n",
       "    <tr>\n",
       "      <th>1</th>\n",
       "      <td>28</td>\n",
       "      <td>91</td>\n",
       "    </tr>\n",
       "    <tr>\n",
       "      <th>2</th>\n",
       "      <td>0</td>\n",
       "      <td>101</td>\n",
       "    </tr>\n",
       "    <tr>\n",
       "      <th>3</th>\n",
       "      <td>20</td>\n",
       "      <td>92</td>\n",
       "    </tr>\n",
       "    <tr>\n",
       "      <th>4</th>\n",
       "      <td>0</td>\n",
       "      <td>96</td>\n",
       "    </tr>\n",
       "    <tr>\n",
       "      <th>5</th>\n",
       "      <td>92</td>\n",
       "      <td>95</td>\n",
       "    </tr>\n",
       "    <tr>\n",
       "      <th>6</th>\n",
       "      <td>88</td>\n",
       "      <td>92</td>\n",
       "    </tr>\n",
       "    <tr>\n",
       "      <th>7</th>\n",
       "      <td>128</td>\n",
       "      <td>94</td>\n",
       "    </tr>\n",
       "    <tr>\n",
       "      <th>8</th>\n",
       "      <td>0</td>\n",
       "      <td>96</td>\n",
       "    </tr>\n",
       "    <tr>\n",
       "      <th>9</th>\n",
       "      <td>22</td>\n",
       "      <td>99</td>\n",
       "    </tr>\n",
       "    <tr>\n",
       "      <th>10</th>\n",
       "      <td>114</td>\n",
       "      <td>99</td>\n",
       "    </tr>\n",
       "    <tr>\n",
       "      <th>11</th>\n",
       "      <td>0</td>\n",
       "      <td>96</td>\n",
       "    </tr>\n",
       "    <tr>\n",
       "      <th>12</th>\n",
       "      <td>146</td>\n",
       "      <td>99</td>\n",
       "    </tr>\n",
       "    <tr>\n",
       "      <th>13</th>\n",
       "      <td>255</td>\n",
       "      <td>108</td>\n",
       "    </tr>\n",
       "    <tr>\n",
       "      <th>14</th>\n",
       "      <td>131</td>\n",
       "      <td>100</td>\n",
       "    </tr>\n",
       "    <tr>\n",
       "      <th>15</th>\n",
       "      <td>255</td>\n",
       "      <td>107</td>\n",
       "    </tr>\n",
       "    <tr>\n",
       "      <th>16</th>\n",
       "      <td>390</td>\n",
       "      <td>114</td>\n",
       "    </tr>\n",
       "    <tr>\n",
       "      <th>17</th>\n",
       "      <td>402</td>\n",
       "      <td>107</td>\n",
       "    </tr>\n",
       "    <tr>\n",
       "      <th>18</th>\n",
       "      <td>216</td>\n",
       "      <td>108</td>\n",
       "    </tr>\n",
       "    <tr>\n",
       "      <th>19</th>\n",
       "      <td>719</td>\n",
       "      <td>104</td>\n",
       "    </tr>\n",
       "    <tr>\n",
       "      <th>20</th>\n",
       "      <td>395</td>\n",
       "      <td>107</td>\n",
       "    </tr>\n",
       "    <tr>\n",
       "      <th>21</th>\n",
       "      <td>485</td>\n",
       "      <td>114</td>\n",
       "    </tr>\n",
       "    <tr>\n",
       "      <th>22</th>\n",
       "      <td>553</td>\n",
       "      <td>116</td>\n",
       "    </tr>\n",
       "    <tr>\n",
       "      <th>23</th>\n",
       "      <td>682</td>\n",
       "      <td>116</td>\n",
       "    </tr>\n",
       "    <tr>\n",
       "      <th>24</th>\n",
       "      <td>815</td>\n",
       "      <td>111</td>\n",
       "    </tr>\n",
       "  </tbody>\n",
       "</table>\n",
       "</div>"
      ],
      "text/plain": [
       "    broccoli_g   IQ\n",
       "0            0   87\n",
       "1           28   91\n",
       "2            0  101\n",
       "3           20   92\n",
       "4            0   96\n",
       "5           92   95\n",
       "6           88   92\n",
       "7          128   94\n",
       "8            0   96\n",
       "9           22   99\n",
       "10         114   99\n",
       "11           0   96\n",
       "12         146   99\n",
       "13         255  108\n",
       "14         131  100\n",
       "15         255  107\n",
       "16         390  114\n",
       "17         402  107\n",
       "18         216  108\n",
       "19         719  104\n",
       "20         395  107\n",
       "21         485  114\n",
       "22         553  116\n",
       "23         682  116\n",
       "24         815  111"
      ]
     },
     "execution_count": 2,
     "metadata": {},
     "output_type": "execute_result"
    }
   ],
   "source": [
    "broccoli = pandas.read_csv('https://raw.githubusercontent.com/jillxoreilly/StatsCourseBook/main/data/broccoli.csv')\n",
    "broccoli"
   ]
  },
  {
   "cell_type": "markdown",
   "id": "325c73df",
   "metadata": {},
   "source": [
    "Let's plot the data:"
   ]
  },
  {
   "cell_type": "code",
   "execution_count": 3,
   "id": "356b33e8",
   "metadata": {},
   "outputs": [
    {
     "data": {
      "text/plain": [
       "<Axes: xlabel='broccoli_g', ylabel='IQ'>"
      ]
     },
     "execution_count": 3,
     "metadata": {},
     "output_type": "execute_result"
    },
    {
     "data": {
      "image/png": "[encoded data removed]",
      "text/plain": [
       "<Figure size 640x480 with 1 Axes>"
      ]
     },
     "metadata": {},
     "output_type": "display_data"
    }
   ],
   "source": [
    "sns.scatterplot(data=broccoli, x='broccoli_g', y='IQ', alpha=0.5)"
   ]
  },
  {
   "cell_type": "markdown",
   "id": "e65b5443",
   "metadata": {},
   "source": [
    "We can see that there does seem to be a correlation. Let's calculate Pearson's $r$"
   ]
  },
  {
   "cell_type": "code",
   "execution_count": 4,
   "id": "d93aa2ed",
   "metadata": {},
   "outputs": [
    {
     "data": {
      "text/html": [
       "<div>\n",
       "<style scoped>\n",
       "    .dataframe tbody tr th:only-of-type {\n",
       "        vertical-align: middle;\n",
       "    }\n",
       "\n",
       "    .dataframe tbody tr th {\n",
       "        vertical-align: top;\n",
       "    }\n",
       "\n",
       "    .dataframe thead th {\n",
       "        text-align: right;\n",
       "    }\n",
       "</style>\n",
       "<table border=\"1\" class=\"dataframe\">\n",
       "  <thead>\n",
       "    <tr style=\"text-align: right;\">\n",
       "      <th></th>\n",
       "      <th>broccoli_g</th>\n",
       "      <th>IQ</th>\n",
       "    </tr>\n",
       "  </thead>\n",
       "  <tbody>\n",
       "    <tr>\n",
       "      <th>broccoli_g</th>\n",
       "      <td>1.000000</td>\n",
       "      <td>0.801153</td>\n",
       "    </tr>\n",
       "    <tr>\n",
       "      <th>IQ</th>\n",
       "      <td>0.801153</td>\n",
       "      <td>1.000000</td>\n",
       "    </tr>\n",
       "  </tbody>\n",
       "</table>\n",
       "</div>"
      ],
      "text/plain": [
       "            broccoli_g        IQ\n",
       "broccoli_g    1.000000  0.801153\n",
       "IQ            0.801153  1.000000"
      ]
     },
     "execution_count": 4,
     "metadata": {},
     "output_type": "execute_result"
    }
   ],
   "source": [
    "broccoli.corr()"
   ]
  },
  {
   "cell_type": "markdown",
   "id": "9b7aafdf",
   "metadata": {},
   "source": [
    "The correlation is 0.80, which is actually very strong (remember they are made-up data!)."
   ]
  },
  {
   "cell_type": "markdown",
   "id": "ed8de2f6",
   "metadata": {},
   "source": [
    "### Is this result statistically significant? \n",
    "\n",
    "That is, would the result (a correlation of 0.80) be very unlikely to occur due to chance, if the null hypothesis were true? \n",
    "\n",
    "To answer this question, we need to think about what the null hypothesis <i>is</i>. \n",
    "\n",
    "The correlation tests for a relationship between broccoli consumption and IQ. The null hypothesis is that there is no such relationship. \n",
    "\n",
    "Even if there was no relationship between broccoli consumption and IQ, it would sometimes happen that for 25 random people the ones with the highest IQ tend to also be the biggest broccoli-eaters, resulting in a positive correlation. The question is how often a positive correlation as large as $r$=0.80 would occur just due to chance. This will depend on the distriubtion in both broccoli consumption and IQ.\n",
    "\n",
    "\n",
    "### Obtaining the null distribution by permutation testing\n",
    "\n",
    "The sample tells us several interesting things about the parent distribution, regardless of whether broccoli consummption and IQ are related:\n",
    "\n",
    "<ul>\n",
    "    <li> Most people eat between 0 and 500g of broccoli a week\n",
    "    <li> Quite a few people eat 0g of broccoli (they never eat broccoli, basically)\n",
    "</ul>\n",
    "\n",
    "It also tells us about some potential effects to do with the relationship between IQ and broccoli:\n",
    "<ul>\n",
    "    <li> the quantity of broccoli eaten seems to be higher for individuals with higher IQ\n",
    "    <li> none of the highest IQ people are the 0g of broccoli people\n",
    "</ul>\n",
    "\n",
    "What we are going to do is shuffle the data around to create many new (re)samples preserving distribution within each variable (broccoli consumption and IQ - so for example there will always be 5 non-broccoli-eaters) but pairing the datapoints at random so one person's IQ is matched with another person's broccoli consumption. \n",
    "\n",
    "Using these simulated (shuffled) datasets we will work out how often we get a correlation of 0.80 or more. This is equivalent to determining how likely our correlation is to have occurred due to chance.\n",
    "\n"
   ]
  },
  {
   "cell_type": "markdown",
   "id": "1ec02b9f",
   "metadata": {},
   "source": [
    "### Run the simulation\n",
    "\n",
    "To generate new simulated datasets, we will shuffle around the datapoints in our original dataset. \n",
    "\n",
    "Which ones can we shuffle?\n",
    "\n",
    "To generate each new simulated dataset, we will randomly shuffle the values for broccoli consumption, whilst leaving the IQs in place, to get a random re-pairing of the data\n",
    "\n",
    "Here is one such shuffle, try running it a few times and watching how the resulting dataframe changes"
   ]
  },
  {
   "cell_type": "code",
   "execution_count": 5,
   "id": "8aa3c240",
   "metadata": {},
   "outputs": [
    {
     "data": {
      "text/html": [
       "<div>\n",
       "<style scoped>\n",
       "    .dataframe tbody tr th:only-of-type {\n",
       "        vertical-align: middle;\n",
       "    }\n",
       "\n",
       "    .dataframe tbody tr th {\n",
       "        vertical-align: top;\n",
       "    }\n",
       "\n",
       "    .dataframe thead th {\n",
       "        text-align: right;\n",
       "    }\n",
       "</style>\n",
       "<table border=\"1\" class=\"dataframe\">\n",
       "  <thead>\n",
       "    <tr style=\"text-align: right;\">\n",
       "      <th></th>\n",
       "      <th>broccoli_g</th>\n",
       "      <th>IQ</th>\n",
       "    </tr>\n",
       "  </thead>\n",
       "  <tbody>\n",
       "    <tr>\n",
       "      <th>0</th>\n",
       "      <td>0</td>\n",
       "      <td>87</td>\n",
       "    </tr>\n",
       "    <tr>\n",
       "      <th>1</th>\n",
       "      <td>92</td>\n",
       "      <td>91</td>\n",
       "    </tr>\n",
       "    <tr>\n",
       "      <th>2</th>\n",
       "      <td>255</td>\n",
       "      <td>101</td>\n",
       "    </tr>\n",
       "    <tr>\n",
       "      <th>3</th>\n",
       "      <td>88</td>\n",
       "      <td>92</td>\n",
       "    </tr>\n",
       "    <tr>\n",
       "      <th>4</th>\n",
       "      <td>390</td>\n",
       "      <td>96</td>\n",
       "    </tr>\n",
       "    <tr>\n",
       "      <th>5</th>\n",
       "      <td>0</td>\n",
       "      <td>95</td>\n",
       "    </tr>\n",
       "    <tr>\n",
       "      <th>6</th>\n",
       "      <td>22</td>\n",
       "      <td>92</td>\n",
       "    </tr>\n",
       "    <tr>\n",
       "      <th>7</th>\n",
       "      <td>114</td>\n",
       "      <td>94</td>\n",
       "    </tr>\n",
       "    <tr>\n",
       "      <th>8</th>\n",
       "      <td>553</td>\n",
       "      <td>96</td>\n",
       "    </tr>\n",
       "    <tr>\n",
       "      <th>9</th>\n",
       "      <td>255</td>\n",
       "      <td>99</td>\n",
       "    </tr>\n",
       "    <tr>\n",
       "      <th>10</th>\n",
       "      <td>395</td>\n",
       "      <td>99</td>\n",
       "    </tr>\n",
       "    <tr>\n",
       "      <th>11</th>\n",
       "      <td>0</td>\n",
       "      <td>96</td>\n",
       "    </tr>\n",
       "    <tr>\n",
       "      <th>12</th>\n",
       "      <td>128</td>\n",
       "      <td>99</td>\n",
       "    </tr>\n",
       "    <tr>\n",
       "      <th>13</th>\n",
       "      <td>131</td>\n",
       "      <td>108</td>\n",
       "    </tr>\n",
       "    <tr>\n",
       "      <th>14</th>\n",
       "      <td>146</td>\n",
       "      <td>100</td>\n",
       "    </tr>\n",
       "    <tr>\n",
       "      <th>15</th>\n",
       "      <td>20</td>\n",
       "      <td>107</td>\n",
       "    </tr>\n",
       "    <tr>\n",
       "      <th>16</th>\n",
       "      <td>815</td>\n",
       "      <td>114</td>\n",
       "    </tr>\n",
       "    <tr>\n",
       "      <th>17</th>\n",
       "      <td>719</td>\n",
       "      <td>107</td>\n",
       "    </tr>\n",
       "    <tr>\n",
       "      <th>18</th>\n",
       "      <td>402</td>\n",
       "      <td>108</td>\n",
       "    </tr>\n",
       "    <tr>\n",
       "      <th>19</th>\n",
       "      <td>682</td>\n",
       "      <td>104</td>\n",
       "    </tr>\n",
       "    <tr>\n",
       "      <th>20</th>\n",
       "      <td>485</td>\n",
       "      <td>107</td>\n",
       "    </tr>\n",
       "    <tr>\n",
       "      <th>21</th>\n",
       "      <td>216</td>\n",
       "      <td>114</td>\n",
       "    </tr>\n",
       "    <tr>\n",
       "      <th>22</th>\n",
       "      <td>0</td>\n",
       "      <td>116</td>\n",
       "    </tr>\n",
       "    <tr>\n",
       "      <th>23</th>\n",
       "      <td>0</td>\n",
       "      <td>116</td>\n",
       "    </tr>\n",
       "    <tr>\n",
       "      <th>24</th>\n",
       "      <td>28</td>\n",
       "      <td>111</td>\n",
       "    </tr>\n",
       "  </tbody>\n",
       "</table>\n",
       "</div>"
      ],
      "text/plain": [
       "    broccoli_g   IQ\n",
       "0            0   87\n",
       "1           92   91\n",
       "2          255  101\n",
       "3           88   92\n",
       "4          390   96\n",
       "5            0   95\n",
       "6           22   92\n",
       "7          114   94\n",
       "8          553   96\n",
       "9          255   99\n",
       "10         395   99\n",
       "11           0   96\n",
       "12         128   99\n",
       "13         131  108\n",
       "14         146  100\n",
       "15          20  107\n",
       "16         815  114\n",
       "17         719  107\n",
       "18         402  108\n",
       "19         682  104\n",
       "20         485  107\n",
       "21         216  114\n",
       "22           0  116\n",
       "23           0  116\n",
       "24          28  111"
      ]
     },
     "execution_count": 5,
     "metadata": {},
     "output_type": "execute_result"
    }
   ],
   "source": [
    "broccoli_shuffled = broccoli.copy()\n",
    "broccoli_shuffled['broccoli_g'] = np.random.permutation(broccoli.broccoli_g) # replace the column 'broccoli_g' with a random permutation of itself\n",
    "broccoli_shuffled"
   ]
  },
  {
   "cell_type": "markdown",
   "id": "8d612c27",
   "metadata": {},
   "source": [
    "Let's get the correlation in the shuffled dataset:"
   ]
  },
  {
   "cell_type": "code",
   "execution_count": 6,
   "id": "66c269f6",
   "metadata": {},
   "outputs": [
    {
     "data": {
      "text/plain": [
       "array([[1.        , 0.23569728],\n",
       "       [0.23569728, 1.        ]])"
      ]
     },
     "execution_count": 6,
     "metadata": {},
     "output_type": "execute_result"
    }
   ],
   "source": [
    "np.corrcoef(broccoli_shuffled.broccoli_g, broccoli_shuffled.IQ)"
   ]
  },
  {
   "cell_type": "markdown",
   "id": "86435bf3",
   "metadata": {},
   "source": [
    "### Visualizing randoms shuffles in the broccoli data\n",
    "\n",
    "It's not really obvious what has happened from looking at the dataframe, but let's try plotting some shuffled data below\n",
    "\n",
    "Below I generate 4 random shuffles of broccoli data, and plot the outcomes:"
   ]
  },
  {
   "cell_type": "code",
   "execution_count": 7,
   "id": "7525b447",
   "metadata": {},
   "outputs": [
    {
     "data": {
      "image/png": "[encoded data removed]",
      "text/plain": [
       "<Figure size 640x480 with 4 Axes>"
      ]
     },
     "metadata": {},
     "output_type": "display_data"
    }
   ],
   "source": [
    "for n in range(3):\n",
    "    broccoli_shuffled = broccoli.copy()  # work on a copy of the original dataframe\n",
    "    broccoli_shuffled['broccoli_g'] = np.random.permutation(broccoli_shuffled['broccoli_g']) # replace the column 'Pet' with a random permutation of itself\n",
    "\n",
    "    plt.subplot(2,2,n+1)\n",
    "    sns.scatterplot(data=broccoli_shuffled, x='broccoli_g', y='IQ', alpha=0.5)\n",
    "\n",
    "# plot the original data in red\n",
    "plt.subplot(2,2,4)\n",
    "sns.scatterplot(data=broccoli, x='broccoli_g', y='IQ', color='r')\n",
    "plt.tight_layout()"
   ]
  },
  {
   "cell_type": "markdown",
   "id": "e9a292f4",
   "metadata": {},
   "source": [
    "You can see that the relationship bbetween broccoli consumption and IQ looks less tight in the shuffled (blue) datasets.\n",
    "\n"
   ]
  },
  {
   "cell_type": "markdown",
   "id": "23046d85",
   "metadata": {},
   "source": [
    "### Plot the null distribution for a large number of shuffles\n",
    "\n",
    "Now we can repeat the process for a large number of shuffles and get the correlation (Spearman's $r$) for each shuffle. The distribution of these correlations is the null distribution to which our observed difference ($r$=0.80) is to be compared.\n"
   ]
  },
  {
   "cell_type": "code",
   "execution_count": 8,
   "id": "662b5ba1",
   "metadata": {},
   "outputs": [
    {
     "data": {
      "image/png": "[encoded data removed]",
      "text/plain": [
       "<Figure size 640x480 with 1 Axes>"
      ]
     },
     "metadata": {},
     "output_type": "display_data"
    },
    {
     "name": "stdout",
     "output_type": "stream",
     "text": [
      "proportion >0.80 = 0.0%\n"
     ]
    }
   ],
   "source": [
    "nReps = 10000 # (number of shuffles)\n",
    "c = np.empty(nReps) # array to store mean difference for each shuffle\n",
    "\n",
    "for i in range(nReps):\n",
    "    broccoli_shuffled = broccoli.copy()  # work on a copy of the original dataframe\n",
    "    broccoli_shuffled['broccoli_g'] = np.random.permutation(broccoli['broccoli_g']) # replace the column 'Pet' with a random permutation of itself\n",
    "    tmp = np.corrcoef(broccoli_shuffled.broccoli_g, broccoli.IQ)\n",
    "    c[i] = tmp[0][1]\n",
    "    \n",
    "sns.histplot(c)\n",
    "plt.show()\n",
    "\n",
    "print('proportion >0.80 = ' + str(100*np.mean(c>0.80)) + '%')"
   ]
  },
  {
   "cell_type": "markdown",
   "id": "0f6dc507",
   "metadata": {},
   "source": [
    "### The $𝑝$-value¶\n",
    "\n",
    "The probability that the test statistic (in this case, the correlation bbetween broccoli consumption and IQ) would be observed if the null hypothesis were true, is sometimes called the $𝑝$-value.\n",
    "\n",
    "Our permutation test shows that the $𝑝$-value associated with the observed difference of means is basically zero- we never get a correlation of 0.80 in our 10,000 random shuffles.\n",
    "\n",
    "The result is considered statistically significant if $𝑝$ is smaller than some predetermined level, known as $\\alpha$. Usually $\\alpha=0.05$ or $\\alpha=0.05$ is used, so the result is significant if $p=0.05$ or $p=0.01$. Our result would be considered highly statistically significant."
   ]
  },
  {
   "cell_type": "markdown",
   "id": "17dada6d",
   "metadata": {},
   "source": [
    "## Use a built in function\n",
    "\n",
    "Now you have seen how the permutation test works, we can learn how to run it more easily using the built in function <tt>scipy.stats.permutation_test</tt>\n",
    "\n",
    "### Syntax of <tt>stats.permutation_test</tt>\n",
    "\n",
    "As previously, we need to define a function that gets our test statsitic. \n",
    "\n",
    "The <tt>numpy</tt> function <tt>df.corr()</tt> does part of the job, but it returns a 2-2 correlation matrix. To get the correlation we need, we then have to pick out the element in row 0 and column 1:"
   ]
  },
  {
   "cell_type": "code",
   "execution_count": 9,
   "id": "38338135",
   "metadata": {},
   "outputs": [],
   "source": [
    "def correlate(x, y):\n",
    "    tmp = np.corrcoef(x,y)\n",
    "    c = tmp[0][1] \n",
    "    return c"
   ]
  },
  {
   "cell_type": "markdown",
   "id": "380fd63a",
   "metadata": {},
   "source": [
    "Thereafter we have to run <tt>stats.permutation_test</tt>, but using the option `permutation_type='pairings'`, which shuffles the data in such a way as to keep all the broccoli values in the broccoi column, but re-pair them with different people's IQs in each shuffle."
   ]
  },
  {
   "cell_type": "markdown",
   "id": "5fca8a34",
   "metadata": {},
   "source": [
    "## Recap\n",
    "\n",
    "To run a permutation test on a correlation, we shuffled up all the pairings so each person's IQ was paired with someone else's broccoli consumption. We did not switch any datapoints from the broccoli column into the the IQ column (!).\n",
    "\n",
    "For each shuffle we calculated the correlation between broccoli consumption and IQ\n",
    "\n",
    "Permutation testing in this way gives us a null distribution for the correlation. Values of the correlation coefficient that occur rarely in the null distriubtion are considered statistically significant.\n",
    "    \n",
    "To run the permutation test with <tt>scipy.stats</tt> we need the option `permutation_type='pairings'`"
   ]
  },
  {
   "cell_type": "code",
   "execution_count": null,
   "id": "267cc3b2",
   "metadata": {},
   "outputs": [],
   "source": []
  }
 ],
 "metadata": {
  "kernelspec": {
   "display_name": "Python 3 (ipykernel)",
   "language": "python",
   "name": "python3"
  },
  "language_info": {
   "codemirror_mode": {
    "name": "ipython",
    "version": 3
   },
   "file_extension": ".py",
   "mimetype": "text/x-python",
   "name": "python",
   "nbconvert_exporter": "python",
   "pygments_lexer": "ipython3",
   "version": "3.9.18"
  }
 },
 "nbformat": 4,
 "nbformat_minor": 5
}