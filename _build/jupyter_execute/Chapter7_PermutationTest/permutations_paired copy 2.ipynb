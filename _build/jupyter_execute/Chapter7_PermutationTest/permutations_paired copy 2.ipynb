{
 "cells": [
  {
   "cell_type": "markdown",
   "id": "572fb94e",
   "metadata": {},
   "source": [
    "# Permutation test for paired data\n",
    "\n",
    "We first look at the case of paired data - data in which we wish to compare two groups and each datapoint in one group has a counterpart in the other\n",
    "\n",
    "Experimental designs using paired data include matched pairs (eg brothers and sisters) and repeated measures (measurements of the same individual before- and after- an intervention, or on- and off-drug).\n"
   ]
  },
  {
   "cell_type": "markdown",
   "id": "2c4eabfd",
   "metadata": {},
   "source": [
    "### Set up Python libraries\n",
    "\n",
    "As usual, run the code cell below to import the relevant Python libraries"
   ]
  },
  {
   "cell_type": "code",
   "execution_count": 1,
   "id": "bf5c75dc",
   "metadata": {},
   "outputs": [],
   "source": [
    "# Set-up Python libraries - you need to run this but you don't need to change it\n",
    "import numpy as np\n",
    "import matplotlib.pyplot as plt\n",
    "import scipy.stats as stats\n",
    "import pandas \n",
    "import seaborn as sns"
   ]
  },
  {
   "cell_type": "markdown",
   "id": "7d5b9223",
   "metadata": {},
   "source": [
    "## Colab users\n",
    "\n",
    "You need to use a more recent version of scipy.stats than the default. To do this run the following code block and *after* it has run, go to the menus at the top of colab and click `runtime-->Restart Runtime`"
   ]
  },
  {
   "cell_type": "code",
   "execution_count": 2,
   "id": "3f64773b",
   "metadata": {},
   "outputs": [
    {
     "name": "stdout",
     "output_type": "stream",
     "text": [
      "Requirement already satisfied: scipy==1.10.0 in /Users/joreilly/opt/anaconda3/lib/python3.9/site-packages (1.10.0)\r\n",
      "Requirement already satisfied: numpy<1.27.0,>=1.19.5 in /Users/joreilly/opt/anaconda3/lib/python3.9/site-packages (from scipy==1.10.0) (1.24.3)\r\n"
     ]
    }
   ],
   "source": [
    "# Set-up Python libraries - you need to run this but you don't need to change it\n",
    "!pip install scipy==1.10.0\n",
    "import numpy as np\n",
    "import matplotlib.pyplot as plt\n",
    "import scipy.stats as stats\n",
    "import pandas \n",
    "import seaborn as sns"
   ]
  },
  {
   "cell_type": "markdown",
   "id": "df221c50",
   "metadata": {},
   "source": [
    "## Toy example\n",
    "\n",
    "[A toy example is an example witha  very small dataset, just to show how it works]\n",
    "\n",
    "We are interested in whether men or women own more pairs of socks. We decide on a matched pairs design in which husbands are compared to their wives, as it is hypothesised that lifestyle factors such as the size of the home in which people live and the duration of holidays taken will affect the number of pairs that can be reasonably justified, and these lifestyle factors are generally shared by both members of a married couple.\n",
    "\n",
    "We obtain sock-counts for the following informal sample of 10 couples:"
   ]
  },
  {
   "cell_type": "code",
   "execution_count": 3,
   "id": "e0483d68",
   "metadata": {},
   "outputs": [
    {
     "data": {
      "text/html": [
       "<div>\n",
       "<style scoped>\n",
       "    .dataframe tbody tr th:only-of-type {\n",
       "        vertical-align: middle;\n",
       "    }\n",
       "\n",
       "    .dataframe tbody tr th {\n",
       "        vertical-align: top;\n",
       "    }\n",
       "\n",
       "    .dataframe thead th {\n",
       "        text-align: right;\n",
       "    }\n",
       "</style>\n",
       "<table border=\"1\" class=\"dataframe\">\n",
       "  <thead>\n",
       "    <tr style=\"text-align: right;\">\n",
       "      <th></th>\n",
       "      <th>Husband</th>\n",
       "      <th>Wife</th>\n",
       "    </tr>\n",
       "  </thead>\n",
       "  <tbody>\n",
       "    <tr>\n",
       "      <th>0</th>\n",
       "      <td>10</td>\n",
       "      <td>12</td>\n",
       "    </tr>\n",
       "    <tr>\n",
       "      <th>1</th>\n",
       "      <td>17</td>\n",
       "      <td>13</td>\n",
       "    </tr>\n",
       "    <tr>\n",
       "      <th>2</th>\n",
       "      <td>48</td>\n",
       "      <td>20</td>\n",
       "    </tr>\n",
       "    <tr>\n",
       "      <th>3</th>\n",
       "      <td>28</td>\n",
       "      <td>25</td>\n",
       "    </tr>\n",
       "    <tr>\n",
       "      <th>4</th>\n",
       "      <td>23</td>\n",
       "      <td>18</td>\n",
       "    </tr>\n",
       "    <tr>\n",
       "      <th>5</th>\n",
       "      <td>16</td>\n",
       "      <td>14</td>\n",
       "    </tr>\n",
       "    <tr>\n",
       "      <th>6</th>\n",
       "      <td>18</td>\n",
       "      <td>13</td>\n",
       "    </tr>\n",
       "    <tr>\n",
       "      <th>7</th>\n",
       "      <td>34</td>\n",
       "      <td>26</td>\n",
       "    </tr>\n",
       "    <tr>\n",
       "      <th>8</th>\n",
       "      <td>27</td>\n",
       "      <td>22</td>\n",
       "    </tr>\n",
       "    <tr>\n",
       "      <th>9</th>\n",
       "      <td>22</td>\n",
       "      <td>14</td>\n",
       "    </tr>\n",
       "  </tbody>\n",
       "</table>\n",
       "</div>"
      ],
      "text/plain": [
       "   Husband  Wife\n",
       "0       10    12\n",
       "1       17    13\n",
       "2       48    20\n",
       "3       28    25\n",
       "4       23    18\n",
       "5       16    14\n",
       "6       18    13\n",
       "7       34    26\n",
       "8       27    22\n",
       "9       22    14"
      ]
     },
     "execution_count": 3,
     "metadata": {},
     "output_type": "execute_result"
    }
   ],
   "source": [
    "socks = pandas.DataFrame(data=[[10,12],[17,13],[48,20],[28,25],[23,18],[16,14],[18,13],[34,26],[27,22],[22,14]], columns=['Husband','Wife'])\n",
    "socks"
   ]
  },
  {
   "cell_type": "markdown",
   "id": "5906a5fc",
   "metadata": {},
   "source": [
    "Let's plot those data. For paired data a scatter plot is often a good choice, but actually for this tiny dataset, I prefer showing the pairs using a plot like that shown on the right:\n",
    "\n",
    "<ul>\n",
    "    <li> Why do I prefer the plot on the right? We are going to be interested in whether husbands have more socks than their wives or vice versa - I think this can be very clearly seen in the plot on the right (by inspecting whether the lines slope up or downwards) - however if there were 1000 couples in the sample rather than 10 this plot would be too crowded and hard to inspect\n",
    "</ul>"
   ]
  },
  {
   "cell_type": "code",
   "execution_count": 4,
   "id": "7588c35f",
   "metadata": {},
   "outputs": [
    {
     "name": "stderr",
     "output_type": "stream",
     "text": [
      "/var/folders/q4/twg1yll54y142rc02m5wwbt40000gr/T/ipykernel_11033/4276243473.py:7: FutureWarning: \n",
      "\n",
      "The `ci` parameter is deprecated. Use `errorbar=None` for the same effect.\n",
      "\n",
      "  sns.barplot(data=socks, ci=None, color=[0.9,0.9,0.9]) # ci=None switches off errorbars\n"
     ]
    },
    {
     "data": {
      "image/png": "[encoded data removed]",
      "text/plain": [
       "<Figure size 640x480 with 2 Axes>"
      ]
     },
     "metadata": {},
     "output_type": "display_data"
    }
   ],
   "source": [
    "plt.subplot(1,2,1)\n",
    "sns.scatterplot(data=socks, x='Husband', y='Wife')\n",
    "plt.plot([0,50],[0,50],'r--') # add the line x=y for comparison\n",
    "\n",
    "\n",
    "plt.subplot(1,2,2)\n",
    "sns.barplot(data=socks, ci=None, color=[0.9,0.9,0.9]) # ci=None switches off errorbars\n",
    "for i in range(len(socks)):\n",
    "    plt.plot([0,1], [socks.Husband[i], socks.Wife[i]], '.-')\n",
    "    plt.xticks([0,1], labels=['Husband','Wife'])\n",
    "plt.ylabel('pairs of socks owned')\n",
    "plt.tight_layout\n",
    "plt.show()"
   ]
  },
  {
   "cell_type": "markdown",
   "id": "233aae63",
   "metadata": {},
   "source": [
    "We can see that there are two couples in which the wife owns more socks and three in which the husband owns more.\n",
    "We also note that there is one couple in which the wife has an extreme number of socks.\n",
    "\n",
    "What is the mean difference in number of pairs of socks for [husband - wife]?"
   ]
  },
  {
   "cell_type": "code",
   "execution_count": 5,
   "id": "0c6ac6e6",
   "metadata": {},
   "outputs": [
    {
     "data": {
      "text/plain": [
       "6.6"
      ]
     },
     "execution_count": 5,
     "metadata": {},
     "output_type": "execute_result"
    }
   ],
   "source": [
    "np.mean(socks.Husband-socks.Wife)"
   ]
  },
  {
   "cell_type": "markdown",
   "id": "24f48262",
   "metadata": {},
   "source": [
    "On average, the husbands own 6.6 more pairs of socks than their wives (but this will be skewed by the man with 48 pairs of socks).\n",
    "\n",
    "### Is this result statistically significant? \n",
    "\n",
    "That is, would the result (on average husbands own 6.6 more pairs of socks) be very unlikely to occur due to chance, if the null hypothesis were true, ie if there were no sex differences in the number of pairs of socks owned? \n",
    "\n",
    "To answer this question, we need to know what values for the mean difference in number of pairs of socks for [husband - wife] we would get due to chance - if actually all the people (male and female) were drawn from some distribution where the number of socks they owned does not depend on their sex. \n",
    "\n",
    "If we drew lots of samples of 10 couples from that sock-owning population, even though there is no overall difference in sock ownership between men and women (and therefore between husbands and their wives), nonetheless we would almost always get some difference between the husbands and their wives due to random chance. The distribution of these differences is called the <b>null distribution</b> of difference of means, that is, it is <b>the distribution we would expect to obtain if the null hypothesis were true</b>.\n",
    "\n",
    "### Obtaining the null distribution by permutation testing\n",
    "\n",
    "In previous weeks we have obtained simulated distributions of statistics such as the sample mean, by drawing many samples from a (known) parent population (as in the exercises on the Central Limit Theorem) or by bootstrapping. Here we will attempt to do something similar.\n",
    "\n",
    "We don't have access to the parent population, only the sample of 10 couples. The sample tells us several interesting things about the parent distribution, regardless of sex effects:\n",
    "<ul>\n",
    "    <li> for most couples there is a small difference in the number of pairs of socks owned\n",
    "    <li> for some couples there is a large difference, driven by one member having way more socks than one can imagine needing\n",
    "        <ul><li> ie the distriution of differences has positive skew </ul>\n",
    "    <li> husbands with lots of socks tend to have wives with lots of socks \n",
    "        <ul><li> ie there is a correlation in number of socks between husbands and wives) </ul>\n",
    "</ul>\n",
    "\n",
    "It also tells us about some potential sex effects:\n",
    "<ul>\n",
    "    <li> in most couples the husband has more socks\n",
    "    <li> the outlier individuals with loads of socks tend to be male\n",
    "</ul>\n",
    "\n",
    "What we are going to do is shuffle the data around to create many new (re)samples preserving the non-sex-related information but ignoring the sex of the sock owner. Using these simulated (shuffled) datasets we will work out how often we get a mean difference of 3.8 or more pairs of socks between husbands and wives, thus determining how likely our difference is to have occurred due to chance.\n"
   ]
  },
  {
   "cell_type": "markdown",
   "id": "974cdaf1",
   "metadata": {},
   "source": [
    "### Run the simulation\n",
    "\n",
    "To generate new simulated datasets, we will shuffle around the datapoints in our original dataset. \n",
    "\n",
    "Which ones can we shuffle?\n",
    "\n",
    "<ul>\n",
    "<li>We assume there are no sex differences, so we can swap men for women\n",
    "<li>We assume that it *does* matters which family you are in (high-sock men tend to have high-sock wives), therefore we cannot swap people between couples.\n",
    "</ul>\n",
    "\n",
    "Therefore, the only shuffling that we are allowed is to swap the labels 'Husband' and 'Wife' within couples. \n",
    "To generate each new simulated dataset, we will randomly decide whether each couple from the original dataset gets flipped."
   ]
  },
  {
   "cell_type": "code",
   "execution_count": 6,
   "id": "2edd4003",
   "metadata": {},
   "outputs": [
    {
     "data": {
      "text/html": [
       "<div>\n",
       "<style scoped>\n",
       "    .dataframe tbody tr th:only-of-type {\n",
       "        vertical-align: middle;\n",
       "    }\n",
       "\n",
       "    .dataframe tbody tr th {\n",
       "        vertical-align: top;\n",
       "    }\n",
       "\n",
       "    .dataframe thead th {\n",
       "        text-align: right;\n",
       "    }\n",
       "</style>\n",
       "<table border=\"1\" class=\"dataframe\">\n",
       "  <thead>\n",
       "    <tr style=\"text-align: right;\">\n",
       "      <th></th>\n",
       "      <th>Husband</th>\n",
       "      <th>Wife</th>\n",
       "    </tr>\n",
       "  </thead>\n",
       "  <tbody>\n",
       "    <tr>\n",
       "      <th>0</th>\n",
       "      <td>10</td>\n",
       "      <td>12</td>\n",
       "    </tr>\n",
       "    <tr>\n",
       "      <th>1</th>\n",
       "      <td>13</td>\n",
       "      <td>17</td>\n",
       "    </tr>\n",
       "    <tr>\n",
       "      <th>2</th>\n",
       "      <td>20</td>\n",
       "      <td>48</td>\n",
       "    </tr>\n",
       "    <tr>\n",
       "      <th>3</th>\n",
       "      <td>28</td>\n",
       "      <td>25</td>\n",
       "    </tr>\n",
       "    <tr>\n",
       "      <th>4</th>\n",
       "      <td>18</td>\n",
       "      <td>23</td>\n",
       "    </tr>\n",
       "    <tr>\n",
       "      <th>5</th>\n",
       "      <td>16</td>\n",
       "      <td>14</td>\n",
       "    </tr>\n",
       "    <tr>\n",
       "      <th>6</th>\n",
       "      <td>18</td>\n",
       "      <td>13</td>\n",
       "    </tr>\n",
       "    <tr>\n",
       "      <th>7</th>\n",
       "      <td>26</td>\n",
       "      <td>34</td>\n",
       "    </tr>\n",
       "    <tr>\n",
       "      <th>8</th>\n",
       "      <td>27</td>\n",
       "      <td>22</td>\n",
       "    </tr>\n",
       "    <tr>\n",
       "      <th>9</th>\n",
       "      <td>14</td>\n",
       "      <td>22</td>\n",
       "    </tr>\n",
       "  </tbody>\n",
       "</table>\n",
       "</div>"
      ],
      "text/plain": [
       "   Husband  Wife\n",
       "0       10    12\n",
       "1       13    17\n",
       "2       20    48\n",
       "3       28    25\n",
       "4       18    23\n",
       "5       16    14\n",
       "6       18    13\n",
       "7       26    34\n",
       "8       27    22\n",
       "9       14    22"
      ]
     },
     "execution_count": 6,
     "metadata": {},
     "output_type": "execute_result"
    }
   ],
   "source": [
    "socks_shuffled = socks.copy()  # work on a copy of the original dataframe\n",
    "for i in range(len(socks_shuffled)):\n",
    "    if np.random.rand()>0.5: # generate a random number between 0 and 1 - if it is more than 0.5:\n",
    "        socks_shuffled.loc[i,'Husband'] = socks.loc[i,'Wife'] # flip number of socks for husband and wife\n",
    "        socks_shuffled.loc[i,'Wife'] = socks.loc[i,'Husband'] # flip number of socks for husband and wife\n",
    "    #else:\n",
    "        # don't shuffle the row!\n",
    "socks_shuffled"
   ]
  },
  {
   "cell_type": "markdown",
   "id": "2bbe7db1",
   "metadata": {},
   "source": [
    "#### What?\n",
    "\n",
    "The above might be clearer in an example where the flips are easier to see.\n",
    "\n",
    "Try running the code block below a few times and keep an eye on how the dataframe changes - note that in the original dataframe the man always has an odd number of pairs of socks."
   ]
  },
  {
   "cell_type": "code",
   "execution_count": 7,
   "id": "dd417139",
   "metadata": {},
   "outputs": [
    {
     "data": {
      "text/html": [
       "<div>\n",
       "<style scoped>\n",
       "    .dataframe tbody tr th:only-of-type {\n",
       "        vertical-align: middle;\n",
       "    }\n",
       "\n",
       "    .dataframe tbody tr th {\n",
       "        vertical-align: top;\n",
       "    }\n",
       "\n",
       "    .dataframe thead th {\n",
       "        text-align: right;\n",
       "    }\n",
       "</style>\n",
       "<table border=\"1\" class=\"dataframe\">\n",
       "  <thead>\n",
       "    <tr style=\"text-align: right;\">\n",
       "      <th></th>\n",
       "      <th>Husband</th>\n",
       "      <th>Wife</th>\n",
       "    </tr>\n",
       "  </thead>\n",
       "  <tbody>\n",
       "    <tr>\n",
       "      <th>0</th>\n",
       "      <td>1</td>\n",
       "      <td>2</td>\n",
       "    </tr>\n",
       "    <tr>\n",
       "      <th>1</th>\n",
       "      <td>4</td>\n",
       "      <td>3</td>\n",
       "    </tr>\n",
       "    <tr>\n",
       "      <th>2</th>\n",
       "      <td>6</td>\n",
       "      <td>5</td>\n",
       "    </tr>\n",
       "  </tbody>\n",
       "</table>\n",
       "</div>"
      ],
      "text/plain": [
       "   Husband  Wife\n",
       "0        1     2\n",
       "1        4     3\n",
       "2        6     5"
      ]
     },
     "execution_count": 7,
     "metadata": {},
     "output_type": "execute_result"
    }
   ],
   "source": [
    "df = pandas.DataFrame(data=[[1,2],[3,4],[5,6]], columns=['Husband','Wife'])\n",
    "\n",
    "df_shuffled = df.copy()  # work on a copy of the original dataframe\n",
    "for i in range(len(df)):\n",
    "    if np.random.rand()>0.5: # generate a random number between 0 and 1 - if it is more than 0.5:\n",
    "        df_shuffled.loc[i,'Husband'] = df.loc[i,'Wife'] # flip number of socks for husband and wife\n",
    "        df_shuffled.loc[i,'Wife'] = df.loc[i,'Husband'] # flip number of socks for husband and wife\n",
    "    #else:\n",
    "        # don't shuffle the row!\n",
    "df_shuffled"
   ]
  },
  {
   "cell_type": "markdown",
   "id": "87067c37",
   "metadata": {},
   "source": [
    "### Visualizing randoms shuffles in the sock data\n",
    "\n",
    "Back to our 'real' sock data\n",
    "\n",
    "Let's see how the distribution of differences changes over a few random shuffles.\n",
    "\n",
    "Below I generate 4 random shuffles of our sock data (in which some husbands and wives are randomly flipped), and plot the outcomes:"
   ]
  },
  {
   "cell_type": "code",
   "execution_count": 8,
   "id": "c8a67dd9",
   "metadata": {},
   "outputs": [
    {
     "name": "stderr",
     "output_type": "stream",
     "text": [
      "/var/folders/q4/twg1yll54y142rc02m5wwbt40000gr/T/ipykernel_11033/2368325034.py:12: FutureWarning: \n",
      "\n",
      "The `ci` parameter is deprecated. Use `errorbar=None` for the same effect.\n",
      "\n",
      "  sns.barplot(data=socks_shuffled, ci=None, color=[0.9,0.9,0.9]) # ci=None switches off errorbars\n",
      "/var/folders/q4/twg1yll54y142rc02m5wwbt40000gr/T/ipykernel_11033/2368325034.py:12: FutureWarning: \n",
      "\n",
      "The `ci` parameter is deprecated. Use `errorbar=None` for the same effect.\n",
      "\n",
      "  sns.barplot(data=socks_shuffled, ci=None, color=[0.9,0.9,0.9]) # ci=None switches off errorbars\n",
      "/var/folders/q4/twg1yll54y142rc02m5wwbt40000gr/T/ipykernel_11033/2368325034.py:12: FutureWarning: \n",
      "\n",
      "The `ci` parameter is deprecated. Use `errorbar=None` for the same effect.\n",
      "\n",
      "  sns.barplot(data=socks_shuffled, ci=None, color=[0.9,0.9,0.9]) # ci=None switches off errorbars\n",
      "/var/folders/q4/twg1yll54y142rc02m5wwbt40000gr/T/ipykernel_11033/2368325034.py:12: FutureWarning: \n",
      "\n",
      "The `ci` parameter is deprecated. Use `errorbar=None` for the same effect.\n",
      "\n",
      "  sns.barplot(data=socks_shuffled, ci=None, color=[0.9,0.9,0.9]) # ci=None switches off errorbars\n"
     ]
    },
    {
     "data": {
      "image/png": "[encoded data removed]",
      "text/plain": [
       "<Figure size 640x480 with 4 Axes>"
      ]
     },
     "metadata": {},
     "output_type": "display_data"
    }
   ],
   "source": [
    "for n in range(4):\n",
    "    socks_shuffled = socks.copy()  # work on a copy of the original dataframe\n",
    "    for i in range(len(socks)):\n",
    "        if np.random.rand()>0.5: # generate a random number between 0 and 1 - if it is more than 0.5:\n",
    "            socks_shuffled.loc[i,'Husband'] = socks.loc[i,'Wife'] # flip number of socks for husband and wife\n",
    "            socks_shuffled.loc[i,'Wife'] = socks.loc[i,'Husband'] # flip number of socks for husband and wife\n",
    "        #else:\n",
    "        # don't shuffle the row!\n",
    "    socks_shuffled\n",
    "    \n",
    "    plt.subplot(1,4,n+1)\n",
    "    sns.barplot(data=socks_shuffled, ci=None, color=[0.9,0.9,0.9]) # ci=None switches off errorbars\n",
    "    for i in range(len(socks)):\n",
    "        plt.plot([0,1], [socks_shuffled.Husband[i], socks_shuffled.Wife[i]], '.-')\n",
    "        plt.xticks([0,1], labels=['Husband','Wife'])\n",
    "plt.tight_layout()\n",
    "plt.show()"
   ]
  },
  {
   "cell_type": "markdown",
   "id": "ed9e5ef2",
   "metadata": {},
   "source": [
    "We note that:\n",
    "    \n",
    "<ul>\n",
    "    <li> Different couples are randomly flipped in different simulated datasets (shuffles - look which colour=ed lines have reversed their slope)\n",
    "    <li> It matters a lot whether the couples with a big disparity were flipped - you can get a sese of this by looking at the grey bars which show the mean number of socks for men and women\n",
    "</ul>\n",
    "\n",
    "### Obtain the summary statistic of interest\n",
    "\n",
    "We are interested in the mean difference in pairs of socks owned [husband-wife]. For each shuffle this is obtained as follows:"
   ]
  },
  {
   "cell_type": "code",
   "execution_count": 9,
   "id": "80b2ace9",
   "metadata": {},
   "outputs": [
    {
     "name": "stdout",
     "output_type": "stream",
     "text": [
      "mean difference for the last shuffle = 2.0\n"
     ]
    }
   ],
   "source": [
    "mDiff = np.mean(socks_shuffled.Husband - socks_shuffled.Wife)\n",
    "print('mean difference for the last shuffle = ' + str(mDiff))"
   ]
  },
  {
   "cell_type": "markdown",
   "id": "a96df484",
   "metadata": {},
   "source": [
    "### Plot the null distribution for a large number of shuffles\n",
    "\n",
    "Now we can repeat the process for a large number of shuffles and get the mean difference in pairs of socks owned [husband-wife] for each shuffle. The distribution of these difference is the null distribution to which our observed difference (husbands own 6.6 more pairs) is to be compared."
   ]
  },
  {
   "cell_type": "code",
   "execution_count": 10,
   "id": "4445af3d",
   "metadata": {},
   "outputs": [
    {
     "data": {
      "image/png": "[encoded data removed]",
      "text/plain": [
       "<Figure size 640x480 with 1 Axes>"
      ]
     },
     "metadata": {},
     "output_type": "display_data"
    },
    {
     "name": "stdout",
     "output_type": "stream",
     "text": [
      "proportion >6.6 = 0.06%\n"
     ]
    }
   ],
   "source": [
    "nReps = 10000 # (number of shuffles)\n",
    "mDiff = np.empty(nReps) # array to store mean difference for each shuffle\n",
    "\n",
    "for j in range(nReps):\n",
    "    socks_shuffled = socks.copy()  # work on a copy of the original dataframe\n",
    "    for i in range(len(socks)):\n",
    "        if np.random.rand()>0.5: # generate a random number between 0 and 1 - if it is more than 0.5:\n",
    "            socks_shuffled.loc[i,'Husband'] = socks.loc[i,'Wife'] # flip number of socks for husband and wife\n",
    "            socks_shuffled.loc[i,'Wife'] = socks.loc[i,'Husband'] # flip number of socks for husband and wife\n",
    "        #else:\n",
    "        # don't shuffle the row!\n",
    "    mDiff[j] = np.mean(socks_shuffled.Husband - socks_shuffled.Wife)\n",
    "    \n",
    "sns.histplot(mDiff)\n",
    "plt.show()\n",
    "\n",
    "print('proportion >6.6 = ' + str(100*np.mean(mDiff>6.6)) + '%')"
   ]
  },
  {
   "cell_type": "markdown",
   "id": "0e88511f",
   "metadata": {},
   "source": [
    "We can see that the null distribution for the mean difference in socks owned between husbands and wives is a bit bimodal. This is probably due to the large influence of outliers (points to the right of the plot above are probably those where the two high-sock individuals were assigned to be husbands; points to the left are probably cases where the two high-sock individuals were assiged to be wives)\n",
    "\n",
    "### The $p$ value\n",
    "\n",
    "We can also calculate the proportion of cases in which the mean difference in socks owned for [Husband-Wife] exceeds the value we observed in our original sample, 6.6. This proportion is about 6%. It tells us that if we simulate a situation in which sex does not determine the number of socks owned (but preserving some other important features of the dataset like the high skew, and the correlation between husabnds and their wives), there is still a 6% chance that we would get an apparent sex difference as large as the one we observed in our 'real' data.\n",
    "\n",
    "The probability that the test statistic (in this case, the mean difference in pairs of socks owned) would be observed if the null hypothesis were true, is sometimes called the <b><i>$p$-value</i></b>. \n",
    "\n",
    "Our permutation test shows that the $p$-value associated with the observed difference of means is 0.06.\n",
    "\n",
    "The result is considered statistically significant if $p$ is smaller than some predetermined level, known as $\\alpha$. Usually $\\alpha = 0.05$ or $\\alpha = 0.01$ is used, so the result is significant if $p<0.05$ or $p<0.01$. Our result would not normally be considered statistically significant (although it is close)."
   ]
  },
  {
   "cell_type": "markdown",
   "id": "afa1df1b",
   "metadata": {},
   "source": [
    "## Use a built in function\n",
    "\n",
    "Now you have seen how the permutation test works, we can learn how to run it more easily using the built in function <tt>scipy.stats.permutation_test</tt>\n",
    "\n",
    "<b>Note-</b> For those NOT using colab - You need scipy stats version > 1.8.0 to run this. You may need to check your version yb running the following code block."
   ]
  },
  {
   "cell_type": "code",
   "execution_count": 11,
   "id": "88d0c52e",
   "metadata": {},
   "outputs": [
    {
     "data": {
      "text/plain": [
       "'1.10.0'"
      ]
     },
     "execution_count": 11,
     "metadata": {},
     "output_type": "execute_result"
    }
   ],
   "source": [
    "import scipy as scipy\n",
    "scipy.version.version"
   ]
  },
  {
   "cell_type": "markdown",
   "id": "a68b0b28",
   "metadata": {},
   "source": [
    "If this is less than 1.8.0 you need to update it -\n",
    "\n",
    "Mac: open a terminal (Applications--Utilities--Terminal and type:\n",
    "<tt> conda install -c conda-forge scipy=1.10.0 </tt>\n",
    "                      \n",
    "Windows: open an Anaconda terminal (spotlight search for anaconda and select the anaconda terminal app) and type:\n",
    "<tt> conda install -c conda-forge scipy=1.10.0 </tt>\n",
    "\n",
    "Please try and do this before the tutorial - otherwise your tutor will know you didn't read the prep work thoroughly ;-)"
   ]
  },
  {
   "cell_type": "markdown",
   "id": "0fdea1e7",
   "metadata": {},
   "source": [
    "### Syntax of <tt>stats.permutation_test</tt>\n",
    "\n",
    "Here is how we run the permutation test (same as the one we did with our own code above, although note how much more quickly this one runs!)"
   ]
  },
  {
   "cell_type": "code",
   "execution_count": 12,
   "id": "200125b4",
   "metadata": {},
   "outputs": [
    {
     "data": {
      "text/plain": [
       "PermutationTestResult(statistic=6.6, pvalue=0.005859375, null_distribution=array([ 6.6,  5. ,  5.6, ..., -5.6, -5. , -6.6]))"
      ]
     },
     "execution_count": 12,
     "metadata": {},
     "output_type": "execute_result"
    }
   ],
   "source": [
    "def mDiff(x, y):\n",
    "    return np.mean(x-y)\n",
    "\n",
    "stats.permutation_test((socks.Husband, socks.Wife), mDiff, permutation_type='samples', alternative='two-sided', n_resamples=10000)"
   ]
  },
  {
   "cell_type": "markdown",
   "id": "4d4f2ed3",
   "metadata": {},
   "source": [
    "Firstly, to reassure you this is doing a very similar job to our home-made code, check the p-value (should be about 0.06). \n",
    "\n",
    "We can also plot the null distribution, which hopefully looks simimlar to what we got from the home-made code:"
   ]
  },
  {
   "cell_type": "code",
   "execution_count": 13,
   "id": "ea965aee",
   "metadata": {},
   "outputs": [
    {
     "data": {
      "image/png": "[encoded data removed]",
      "text/plain": [
       "<Figure size 640x480 with 1 Axes>"
      ]
     },
     "metadata": {},
     "output_type": "display_data"
    }
   ],
   "source": [
    "res = stats.permutation_test((socks.Husband, socks.Wife), mDiff, permutation_type='samples', alternative='two-sided', n_resamples=10000)\n",
    "sns.histplot(res.null_distribution)\n",
    "plt.show()"
   ]
  },
  {
   "cell_type": "markdown",
   "id": "6a6d310f",
   "metadata": {},
   "source": [
    "However, the syntax may be a bit unfamiliar.\n",
    "\n",
    "Firstly, we had to give the function <tt>stats.permutation_test</tt> our two samples <tt>(socks.Husband, socks.Wife)</tt> as a pair of <b>series</b> (individual columns from the dataframe), rather than giving it the whole pandas dataframe as we do for many other stats functions.\n",
    "\n",
    "Secondly, to tell <tt>stats.permutation_test</tt> the test statistic we want to get the null distribution of, we had to pass it a <i>function</i> called <tt>mDiff</tt>, and this function had to have the property that it takes in two series <tt>(socks.Husband, socks.Wife)</tt> and returns a single number <tt>mean(socks.Husband, socks.Wife)</tt>"
   ]
  },
  {
   "cell_type": "markdown",
   "id": "a67244dc",
   "metadata": {},
   "source": [
    "### Defining a function\n",
    "\n",
    "You will have come across this in datacamp but we haven't used it since. Don't be scared! It's unfamiliar but quite handy. On the other hand for a pairwise permutation test, the function I have given you for mDIff is always going to work, so if in doubbt you can just copy it :-)\n",
    "\n",
    "A function is a little computer programme that takes in some information (in this case, it takes in two series, <tt>(socks.Husband, socks.Wife)</tt> and returns some value (in this case the mean difference <tt>mean(socks.Husband, socks.Wife)</tt>"
   ]
  },
  {
   "cell_type": "code",
   "execution_count": 14,
   "id": "36514596",
   "metadata": {},
   "outputs": [
    {
     "data": {
      "text/plain": [
       "6.6"
      ]
     },
     "execution_count": 14,
     "metadata": {},
     "output_type": "execute_result"
    }
   ],
   "source": [
    "# define a function\n",
    "def mDiff(x, y):\n",
    "    return np.mean(x-y)\n",
    "\n",
    "# run the function for some inputs\n",
    "mDiff(socks.Husband, socks.Wife)"
   ]
  },
  {
   "cell_type": "markdown",
   "id": "5b95d4a1",
   "metadata": {},
   "source": [
    "Here's another example:"
   ]
  },
  {
   "cell_type": "code",
   "execution_count": 15,
   "id": "4834e016",
   "metadata": {},
   "outputs": [
    {
     "data": {
      "text/plain": [
       "0.30000000000000004"
      ]
     },
     "execution_count": 15,
     "metadata": {},
     "output_type": "execute_result"
    }
   ],
   "source": [
    "# definte a new function that divides one element of each pair by the other, and then adds up the result across pairs\n",
    "def bananas(x,y):\n",
    "    return sum(x/y)\n",
    "\n",
    "cats = np.array([1,2,3]) # one input array - have given it an arbitrary name\n",
    "dogs = np.array([10,20,30]) # another input array - have given it an arbitrary name\n",
    "\n",
    "bananas(cats,dogs)"
   ]
  },
  {
   "cell_type": "markdown",
   "id": "8356ca95",
   "metadata": {},
   "source": [
    "Now we can see how we could run <tt>stats.permutation_test</tt> on our function <tt>bananas</tt> and our data <tt>cats</tt> and <tt>dogs</tt>"
   ]
  },
  {
   "cell_type": "code",
   "execution_count": 16,
   "id": "1a39d4c2",
   "metadata": {},
   "outputs": [
    {
     "data": {
      "text/plain": [
       "PermutationTestResult(statistic=0.30000000000000004, pvalue=0.25, null_distribution=array([ 0.3, 10.2, 10.2, 20.1, 10.2, 20.1, 20.1, 30. ]))"
      ]
     },
     "execution_count": 16,
     "metadata": {},
     "output_type": "execute_result"
    }
   ],
   "source": [
    "stats.permutation_test((cats, dogs), bananas, permutation_type='samples', alternative='two-sided', n_resamples=10000)"
   ]
  },
  {
   "cell_type": "code",
   "execution_count": null,
   "id": "6a5ea9cb",
   "metadata": {},
   "outputs": [],
   "source": []
  }
 ],
 "metadata": {
  "kernelspec": {
   "display_name": "Python 3 (ipykernel)",
   "language": "python",
   "name": "python3"
  },
  "language_info": {
   "codemirror_mode": {
    "name": "ipython",
    "version": 3
   },
   "file_extension": ".py",
   "mimetype": "text/x-python",
   "name": "python",
   "nbconvert_exporter": "python",
   "pygments_lexer": "ipython3",
   "version": "3.9.18"
  }
 },
 "nbformat": 4,
 "nbformat_minor": 5
}