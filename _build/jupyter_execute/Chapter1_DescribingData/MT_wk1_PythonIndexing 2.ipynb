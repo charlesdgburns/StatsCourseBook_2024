{
 "cells": [
  {
   "cell_type": "markdown",
   "id": "69252ce6",
   "metadata": {},
   "source": [
    "# Python: Descriptives and Indexing\n",
    "\n",
    "In this notebook we cover some key <tt>Pandas</tt> syntax and functions:\n",
    "\n",
    "* Syntax for getting various descriptive statistics from a `Pandas` dataframe\n",
    "* Syntax for **indexing** a dataframe - finding the rows and columns that you need\n",
    "    * this allows you to get descriptives for specific rows and columns\n",
    "\n",
    "Here we meet **indexing** in the context of descriptive statistics, but indexing is something you will do every single time you write code for data analysis. Incorrect syntax in indexing is the number one biggest source of bugs for student on this course, so it is well worth spending the time to get to grips with it.\n",
    "\n",
    "You absolutely should work through all the exercises in this notebook in advance of the tutorial.\n",
    "\n",
    "## Set up Python Libraries\n",
    "\n",
    "As usual you will need to run this code block to import the relevant Python libraries"
   ]
  },
  {
   "cell_type": "code",
   "execution_count": 1,
   "id": "7420037e",
   "metadata": {},
   "outputs": [],
   "source": [
    "# Set-up Python libraries - you need to run this but you don't need to change it\n",
    "import numpy as np\n",
    "import matplotlib.pyplot as plt\n",
    "import scipy.stats as stats\n",
    "import pandas as pd\n",
    "import seaborn as sns\n",
    "sns.set_theme(style='white')\n",
    "import statsmodels.api as sm\n",
    "import statsmodels.formula.api as smf"
   ]
  },
  {
   "cell_type": "markdown",
   "id": "14d3d992",
   "metadata": {},
   "source": [
    "## Import a dataset to work with\n",
    "\n",
    "You will need to download the file OxfordWeather.csv from Canvas to your computer, then import it"
   ]
  },
  {
   "cell_type": "code",
   "execution_count": 2,
   "id": "53648053",
   "metadata": {},
   "outputs": [
    {
     "ename": "HTTPError",
     "evalue": "HTTP Error 404: Not Found",
     "output_type": "error",
     "traceback": [
      "\u001b[0;31m---------------------------------------------------------------------------\u001b[0m",
      "\u001b[0;31mHTTPError\u001b[0m                                 Traceback (most recent call last)",
      "Cell \u001b[0;32mIn[2], line 1\u001b[0m\n\u001b[0;32m----> 1\u001b[0m weather \u001b[38;5;241m=\u001b[39m \u001b[43mpd\u001b[49m\u001b[38;5;241;43m.\u001b[39;49m\u001b[43mread_csv\u001b[49m\u001b[43m(\u001b[49m\u001b[38;5;124;43m\"\u001b[39;49m\u001b[38;5;124;43mhttps://raw.githubusercontent.com/jillxoreilly/StatsCourseBook_2024/main/data/OxfordWeather.csv\u001b[39;49m\u001b[38;5;124;43m\"\u001b[39;49m\u001b[43m)\u001b[49m\n\u001b[1;32m      2\u001b[0m display(weather)\n",
      "File \u001b[0;32m~/opt/anaconda3/lib/python3.9/site-packages/pandas/io/parsers/readers.py:912\u001b[0m, in \u001b[0;36mread_csv\u001b[0;34m(filepath_or_buffer, sep, delimiter, header, names, index_col, usecols, dtype, engine, converters, true_values, false_values, skipinitialspace, skiprows, skipfooter, nrows, na_values, keep_default_na, na_filter, verbose, skip_blank_lines, parse_dates, infer_datetime_format, keep_date_col, date_parser, date_format, dayfirst, cache_dates, iterator, chunksize, compression, thousands, decimal, lineterminator, quotechar, quoting, doublequote, escapechar, comment, encoding, encoding_errors, dialect, on_bad_lines, delim_whitespace, low_memory, memory_map, float_precision, storage_options, dtype_backend)\u001b[0m\n\u001b[1;32m    899\u001b[0m kwds_defaults \u001b[38;5;241m=\u001b[39m _refine_defaults_read(\n\u001b[1;32m    900\u001b[0m     dialect,\n\u001b[1;32m    901\u001b[0m     delimiter,\n\u001b[0;32m   (...)\u001b[0m\n\u001b[1;32m    908\u001b[0m     dtype_backend\u001b[38;5;241m=\u001b[39mdtype_backend,\n\u001b[1;32m    909\u001b[0m )\n\u001b[1;32m    910\u001b[0m kwds\u001b[38;5;241m.\u001b[39mupdate(kwds_defaults)\n\u001b[0;32m--> 912\u001b[0m \u001b[38;5;28;01mreturn\u001b[39;00m \u001b[43m_read\u001b[49m\u001b[43m(\u001b[49m\u001b[43mfilepath_or_buffer\u001b[49m\u001b[43m,\u001b[49m\u001b[43m \u001b[49m\u001b[43mkwds\u001b[49m\u001b[43m)\u001b[49m\n",
      "File \u001b[0;32m~/opt/anaconda3/lib/python3.9/site-packages/pandas/io/parsers/readers.py:577\u001b[0m, in \u001b[0;36m_read\u001b[0;34m(filepath_or_buffer, kwds)\u001b[0m\n\u001b[1;32m    574\u001b[0m _validate_names(kwds\u001b[38;5;241m.\u001b[39mget(\u001b[38;5;124m\"\u001b[39m\u001b[38;5;124mnames\u001b[39m\u001b[38;5;124m\"\u001b[39m, \u001b[38;5;28;01mNone\u001b[39;00m))\n\u001b[1;32m    576\u001b[0m \u001b[38;5;66;03m# Create the parser.\u001b[39;00m\n\u001b[0;32m--> 577\u001b[0m parser \u001b[38;5;241m=\u001b[39m \u001b[43mTextFileReader\u001b[49m\u001b[43m(\u001b[49m\u001b[43mfilepath_or_buffer\u001b[49m\u001b[43m,\u001b[49m\u001b[43m \u001b[49m\u001b[38;5;241;43m*\u001b[39;49m\u001b[38;5;241;43m*\u001b[39;49m\u001b[43mkwds\u001b[49m\u001b[43m)\u001b[49m\n\u001b[1;32m    579\u001b[0m \u001b[38;5;28;01mif\u001b[39;00m chunksize \u001b[38;5;129;01mor\u001b[39;00m iterator:\n\u001b[1;32m    580\u001b[0m     \u001b[38;5;28;01mreturn\u001b[39;00m parser\n",
      "File \u001b[0;32m~/opt/anaconda3/lib/python3.9/site-packages/pandas/io/parsers/readers.py:1407\u001b[0m, in \u001b[0;36mTextFileReader.__init__\u001b[0;34m(self, f, engine, **kwds)\u001b[0m\n\u001b[1;32m   1404\u001b[0m     \u001b[38;5;28mself\u001b[39m\u001b[38;5;241m.\u001b[39moptions[\u001b[38;5;124m\"\u001b[39m\u001b[38;5;124mhas_index_names\u001b[39m\u001b[38;5;124m\"\u001b[39m] \u001b[38;5;241m=\u001b[39m kwds[\u001b[38;5;124m\"\u001b[39m\u001b[38;5;124mhas_index_names\u001b[39m\u001b[38;5;124m\"\u001b[39m]\n\u001b[1;32m   1406\u001b[0m \u001b[38;5;28mself\u001b[39m\u001b[38;5;241m.\u001b[39mhandles: IOHandles \u001b[38;5;241m|\u001b[39m \u001b[38;5;28;01mNone\u001b[39;00m \u001b[38;5;241m=\u001b[39m \u001b[38;5;28;01mNone\u001b[39;00m\n\u001b[0;32m-> 1407\u001b[0m \u001b[38;5;28mself\u001b[39m\u001b[38;5;241m.\u001b[39m_engine \u001b[38;5;241m=\u001b[39m \u001b[38;5;28;43mself\u001b[39;49m\u001b[38;5;241;43m.\u001b[39;49m\u001b[43m_make_engine\u001b[49m\u001b[43m(\u001b[49m\u001b[43mf\u001b[49m\u001b[43m,\u001b[49m\u001b[43m \u001b[49m\u001b[38;5;28;43mself\u001b[39;49m\u001b[38;5;241;43m.\u001b[39;49m\u001b[43mengine\u001b[49m\u001b[43m)\u001b[49m\n",
      "File \u001b[0;32m~/opt/anaconda3/lib/python3.9/site-packages/pandas/io/parsers/readers.py:1661\u001b[0m, in \u001b[0;36mTextFileReader._make_engine\u001b[0;34m(self, f, engine)\u001b[0m\n\u001b[1;32m   1659\u001b[0m     \u001b[38;5;28;01mif\u001b[39;00m \u001b[38;5;124m\"\u001b[39m\u001b[38;5;124mb\u001b[39m\u001b[38;5;124m\"\u001b[39m \u001b[38;5;129;01mnot\u001b[39;00m \u001b[38;5;129;01min\u001b[39;00m mode:\n\u001b[1;32m   1660\u001b[0m         mode \u001b[38;5;241m+\u001b[39m\u001b[38;5;241m=\u001b[39m \u001b[38;5;124m\"\u001b[39m\u001b[38;5;124mb\u001b[39m\u001b[38;5;124m\"\u001b[39m\n\u001b[0;32m-> 1661\u001b[0m \u001b[38;5;28mself\u001b[39m\u001b[38;5;241m.\u001b[39mhandles \u001b[38;5;241m=\u001b[39m \u001b[43mget_handle\u001b[49m\u001b[43m(\u001b[49m\n\u001b[1;32m   1662\u001b[0m \u001b[43m    \u001b[49m\u001b[43mf\u001b[49m\u001b[43m,\u001b[49m\n\u001b[1;32m   1663\u001b[0m \u001b[43m    \u001b[49m\u001b[43mmode\u001b[49m\u001b[43m,\u001b[49m\n\u001b[1;32m   1664\u001b[0m \u001b[43m    \u001b[49m\u001b[43mencoding\u001b[49m\u001b[38;5;241;43m=\u001b[39;49m\u001b[38;5;28;43mself\u001b[39;49m\u001b[38;5;241;43m.\u001b[39;49m\u001b[43moptions\u001b[49m\u001b[38;5;241;43m.\u001b[39;49m\u001b[43mget\u001b[49m\u001b[43m(\u001b[49m\u001b[38;5;124;43m\"\u001b[39;49m\u001b[38;5;124;43mencoding\u001b[39;49m\u001b[38;5;124;43m\"\u001b[39;49m\u001b[43m,\u001b[49m\u001b[43m \u001b[49m\u001b[38;5;28;43;01mNone\u001b[39;49;00m\u001b[43m)\u001b[49m\u001b[43m,\u001b[49m\n\u001b[1;32m   1665\u001b[0m \u001b[43m    \u001b[49m\u001b[43mcompression\u001b[49m\u001b[38;5;241;43m=\u001b[39;49m\u001b[38;5;28;43mself\u001b[39;49m\u001b[38;5;241;43m.\u001b[39;49m\u001b[43moptions\u001b[49m\u001b[38;5;241;43m.\u001b[39;49m\u001b[43mget\u001b[49m\u001b[43m(\u001b[49m\u001b[38;5;124;43m\"\u001b[39;49m\u001b[38;5;124;43mcompression\u001b[39;49m\u001b[38;5;124;43m\"\u001b[39;49m\u001b[43m,\u001b[49m\u001b[43m \u001b[49m\u001b[38;5;28;43;01mNone\u001b[39;49;00m\u001b[43m)\u001b[49m\u001b[43m,\u001b[49m\n\u001b[1;32m   1666\u001b[0m \u001b[43m    \u001b[49m\u001b[43mmemory_map\u001b[49m\u001b[38;5;241;43m=\u001b[39;49m\u001b[38;5;28;43mself\u001b[39;49m\u001b[38;5;241;43m.\u001b[39;49m\u001b[43moptions\u001b[49m\u001b[38;5;241;43m.\u001b[39;49m\u001b[43mget\u001b[49m\u001b[43m(\u001b[49m\u001b[38;5;124;43m\"\u001b[39;49m\u001b[38;5;124;43mmemory_map\u001b[39;49m\u001b[38;5;124;43m\"\u001b[39;49m\u001b[43m,\u001b[49m\u001b[43m \u001b[49m\u001b[38;5;28;43;01mFalse\u001b[39;49;00m\u001b[43m)\u001b[49m\u001b[43m,\u001b[49m\n\u001b[1;32m   1667\u001b[0m \u001b[43m    \u001b[49m\u001b[43mis_text\u001b[49m\u001b[38;5;241;43m=\u001b[39;49m\u001b[43mis_text\u001b[49m\u001b[43m,\u001b[49m\n\u001b[1;32m   1668\u001b[0m \u001b[43m    \u001b[49m\u001b[43merrors\u001b[49m\u001b[38;5;241;43m=\u001b[39;49m\u001b[38;5;28;43mself\u001b[39;49m\u001b[38;5;241;43m.\u001b[39;49m\u001b[43moptions\u001b[49m\u001b[38;5;241;43m.\u001b[39;49m\u001b[43mget\u001b[49m\u001b[43m(\u001b[49m\u001b[38;5;124;43m\"\u001b[39;49m\u001b[38;5;124;43mencoding_errors\u001b[39;49m\u001b[38;5;124;43m\"\u001b[39;49m\u001b[43m,\u001b[49m\u001b[43m \u001b[49m\u001b[38;5;124;43m\"\u001b[39;49m\u001b[38;5;124;43mstrict\u001b[39;49m\u001b[38;5;124;43m\"\u001b[39;49m\u001b[43m)\u001b[49m\u001b[43m,\u001b[49m\n\u001b[1;32m   1669\u001b[0m \u001b[43m    \u001b[49m\u001b[43mstorage_options\u001b[49m\u001b[38;5;241;43m=\u001b[39;49m\u001b[38;5;28;43mself\u001b[39;49m\u001b[38;5;241;43m.\u001b[39;49m\u001b[43moptions\u001b[49m\u001b[38;5;241;43m.\u001b[39;49m\u001b[43mget\u001b[49m\u001b[43m(\u001b[49m\u001b[38;5;124;43m\"\u001b[39;49m\u001b[38;5;124;43mstorage_options\u001b[39;49m\u001b[38;5;124;43m\"\u001b[39;49m\u001b[43m,\u001b[49m\u001b[43m \u001b[49m\u001b[38;5;28;43;01mNone\u001b[39;49;00m\u001b[43m)\u001b[49m\u001b[43m,\u001b[49m\n\u001b[1;32m   1670\u001b[0m \u001b[43m\u001b[49m\u001b[43m)\u001b[49m\n\u001b[1;32m   1671\u001b[0m \u001b[38;5;28;01massert\u001b[39;00m \u001b[38;5;28mself\u001b[39m\u001b[38;5;241m.\u001b[39mhandles \u001b[38;5;129;01mis\u001b[39;00m \u001b[38;5;129;01mnot\u001b[39;00m \u001b[38;5;28;01mNone\u001b[39;00m\n\u001b[1;32m   1672\u001b[0m f \u001b[38;5;241m=\u001b[39m \u001b[38;5;28mself\u001b[39m\u001b[38;5;241m.\u001b[39mhandles\u001b[38;5;241m.\u001b[39mhandle\n",
      "File \u001b[0;32m~/opt/anaconda3/lib/python3.9/site-packages/pandas/io/common.py:716\u001b[0m, in \u001b[0;36mget_handle\u001b[0;34m(path_or_buf, mode, encoding, compression, memory_map, is_text, errors, storage_options)\u001b[0m\n\u001b[1;32m    713\u001b[0m     codecs\u001b[38;5;241m.\u001b[39mlookup_error(errors)\n\u001b[1;32m    715\u001b[0m \u001b[38;5;66;03m# open URLs\u001b[39;00m\n\u001b[0;32m--> 716\u001b[0m ioargs \u001b[38;5;241m=\u001b[39m \u001b[43m_get_filepath_or_buffer\u001b[49m\u001b[43m(\u001b[49m\n\u001b[1;32m    717\u001b[0m \u001b[43m    \u001b[49m\u001b[43mpath_or_buf\u001b[49m\u001b[43m,\u001b[49m\n\u001b[1;32m    718\u001b[0m \u001b[43m    \u001b[49m\u001b[43mencoding\u001b[49m\u001b[38;5;241;43m=\u001b[39;49m\u001b[43mencoding\u001b[49m\u001b[43m,\u001b[49m\n\u001b[1;32m    719\u001b[0m \u001b[43m    \u001b[49m\u001b[43mcompression\u001b[49m\u001b[38;5;241;43m=\u001b[39;49m\u001b[43mcompression\u001b[49m\u001b[43m,\u001b[49m\n\u001b[1;32m    720\u001b[0m \u001b[43m    \u001b[49m\u001b[43mmode\u001b[49m\u001b[38;5;241;43m=\u001b[39;49m\u001b[43mmode\u001b[49m\u001b[43m,\u001b[49m\n\u001b[1;32m    721\u001b[0m \u001b[43m    \u001b[49m\u001b[43mstorage_options\u001b[49m\u001b[38;5;241;43m=\u001b[39;49m\u001b[43mstorage_options\u001b[49m\u001b[43m,\u001b[49m\n\u001b[1;32m    722\u001b[0m \u001b[43m\u001b[49m\u001b[43m)\u001b[49m\n\u001b[1;32m    724\u001b[0m handle \u001b[38;5;241m=\u001b[39m ioargs\u001b[38;5;241m.\u001b[39mfilepath_or_buffer\n\u001b[1;32m    725\u001b[0m handles: \u001b[38;5;28mlist\u001b[39m[BaseBuffer]\n",
      "File \u001b[0;32m~/opt/anaconda3/lib/python3.9/site-packages/pandas/io/common.py:368\u001b[0m, in \u001b[0;36m_get_filepath_or_buffer\u001b[0;34m(filepath_or_buffer, encoding, compression, mode, storage_options)\u001b[0m\n\u001b[1;32m    366\u001b[0m \u001b[38;5;66;03m# assuming storage_options is to be interpreted as headers\u001b[39;00m\n\u001b[1;32m    367\u001b[0m req_info \u001b[38;5;241m=\u001b[39m urllib\u001b[38;5;241m.\u001b[39mrequest\u001b[38;5;241m.\u001b[39mRequest(filepath_or_buffer, headers\u001b[38;5;241m=\u001b[39mstorage_options)\n\u001b[0;32m--> 368\u001b[0m \u001b[38;5;28;01mwith\u001b[39;00m \u001b[43murlopen\u001b[49m\u001b[43m(\u001b[49m\u001b[43mreq_info\u001b[49m\u001b[43m)\u001b[49m \u001b[38;5;28;01mas\u001b[39;00m req:\n\u001b[1;32m    369\u001b[0m     content_encoding \u001b[38;5;241m=\u001b[39m req\u001b[38;5;241m.\u001b[39mheaders\u001b[38;5;241m.\u001b[39mget(\u001b[38;5;124m\"\u001b[39m\u001b[38;5;124mContent-Encoding\u001b[39m\u001b[38;5;124m\"\u001b[39m, \u001b[38;5;28;01mNone\u001b[39;00m)\n\u001b[1;32m    370\u001b[0m     \u001b[38;5;28;01mif\u001b[39;00m content_encoding \u001b[38;5;241m==\u001b[39m \u001b[38;5;124m\"\u001b[39m\u001b[38;5;124mgzip\u001b[39m\u001b[38;5;124m\"\u001b[39m:\n\u001b[1;32m    371\u001b[0m         \u001b[38;5;66;03m# Override compression based on Content-Encoding header\u001b[39;00m\n",
      "File \u001b[0;32m~/opt/anaconda3/lib/python3.9/site-packages/pandas/io/common.py:270\u001b[0m, in \u001b[0;36murlopen\u001b[0;34m(*args, **kwargs)\u001b[0m\n\u001b[1;32m    264\u001b[0m \u001b[38;5;250m\u001b[39m\u001b[38;5;124;03m\"\"\"\u001b[39;00m\n\u001b[1;32m    265\u001b[0m \u001b[38;5;124;03mLazy-import wrapper for stdlib urlopen, as that imports a big chunk of\u001b[39;00m\n\u001b[1;32m    266\u001b[0m \u001b[38;5;124;03mthe stdlib.\u001b[39;00m\n\u001b[1;32m    267\u001b[0m \u001b[38;5;124;03m\"\"\"\u001b[39;00m\n\u001b[1;32m    268\u001b[0m \u001b[38;5;28;01mimport\u001b[39;00m \u001b[38;5;21;01murllib\u001b[39;00m\u001b[38;5;21;01m.\u001b[39;00m\u001b[38;5;21;01mrequest\u001b[39;00m\n\u001b[0;32m--> 270\u001b[0m \u001b[38;5;28;01mreturn\u001b[39;00m \u001b[43murllib\u001b[49m\u001b[38;5;241;43m.\u001b[39;49m\u001b[43mrequest\u001b[49m\u001b[38;5;241;43m.\u001b[39;49m\u001b[43murlopen\u001b[49m\u001b[43m(\u001b[49m\u001b[38;5;241;43m*\u001b[39;49m\u001b[43margs\u001b[49m\u001b[43m,\u001b[49m\u001b[43m \u001b[49m\u001b[38;5;241;43m*\u001b[39;49m\u001b[38;5;241;43m*\u001b[39;49m\u001b[43mkwargs\u001b[49m\u001b[43m)\u001b[49m\n",
      "File \u001b[0;32m~/opt/anaconda3/lib/python3.9/urllib/request.py:214\u001b[0m, in \u001b[0;36murlopen\u001b[0;34m(url, data, timeout, cafile, capath, cadefault, context)\u001b[0m\n\u001b[1;32m    212\u001b[0m \u001b[38;5;28;01melse\u001b[39;00m:\n\u001b[1;32m    213\u001b[0m     opener \u001b[38;5;241m=\u001b[39m _opener\n\u001b[0;32m--> 214\u001b[0m \u001b[38;5;28;01mreturn\u001b[39;00m \u001b[43mopener\u001b[49m\u001b[38;5;241;43m.\u001b[39;49m\u001b[43mopen\u001b[49m\u001b[43m(\u001b[49m\u001b[43murl\u001b[49m\u001b[43m,\u001b[49m\u001b[43m \u001b[49m\u001b[43mdata\u001b[49m\u001b[43m,\u001b[49m\u001b[43m \u001b[49m\u001b[43mtimeout\u001b[49m\u001b[43m)\u001b[49m\n",
      "File \u001b[0;32m~/opt/anaconda3/lib/python3.9/urllib/request.py:523\u001b[0m, in \u001b[0;36mOpenerDirector.open\u001b[0;34m(self, fullurl, data, timeout)\u001b[0m\n\u001b[1;32m    521\u001b[0m \u001b[38;5;28;01mfor\u001b[39;00m processor \u001b[38;5;129;01min\u001b[39;00m \u001b[38;5;28mself\u001b[39m\u001b[38;5;241m.\u001b[39mprocess_response\u001b[38;5;241m.\u001b[39mget(protocol, []):\n\u001b[1;32m    522\u001b[0m     meth \u001b[38;5;241m=\u001b[39m \u001b[38;5;28mgetattr\u001b[39m(processor, meth_name)\n\u001b[0;32m--> 523\u001b[0m     response \u001b[38;5;241m=\u001b[39m \u001b[43mmeth\u001b[49m\u001b[43m(\u001b[49m\u001b[43mreq\u001b[49m\u001b[43m,\u001b[49m\u001b[43m \u001b[49m\u001b[43mresponse\u001b[49m\u001b[43m)\u001b[49m\n\u001b[1;32m    525\u001b[0m \u001b[38;5;28;01mreturn\u001b[39;00m response\n",
      "File \u001b[0;32m~/opt/anaconda3/lib/python3.9/urllib/request.py:632\u001b[0m, in \u001b[0;36mHTTPErrorProcessor.http_response\u001b[0;34m(self, request, response)\u001b[0m\n\u001b[1;32m    629\u001b[0m \u001b[38;5;66;03m# According to RFC 2616, \"2xx\" code indicates that the client's\u001b[39;00m\n\u001b[1;32m    630\u001b[0m \u001b[38;5;66;03m# request was successfully received, understood, and accepted.\u001b[39;00m\n\u001b[1;32m    631\u001b[0m \u001b[38;5;28;01mif\u001b[39;00m \u001b[38;5;129;01mnot\u001b[39;00m (\u001b[38;5;241m200\u001b[39m \u001b[38;5;241m<\u001b[39m\u001b[38;5;241m=\u001b[39m code \u001b[38;5;241m<\u001b[39m \u001b[38;5;241m300\u001b[39m):\n\u001b[0;32m--> 632\u001b[0m     response \u001b[38;5;241m=\u001b[39m \u001b[38;5;28;43mself\u001b[39;49m\u001b[38;5;241;43m.\u001b[39;49m\u001b[43mparent\u001b[49m\u001b[38;5;241;43m.\u001b[39;49m\u001b[43merror\u001b[49m\u001b[43m(\u001b[49m\n\u001b[1;32m    633\u001b[0m \u001b[43m        \u001b[49m\u001b[38;5;124;43m'\u001b[39;49m\u001b[38;5;124;43mhttp\u001b[39;49m\u001b[38;5;124;43m'\u001b[39;49m\u001b[43m,\u001b[49m\u001b[43m \u001b[49m\u001b[43mrequest\u001b[49m\u001b[43m,\u001b[49m\u001b[43m \u001b[49m\u001b[43mresponse\u001b[49m\u001b[43m,\u001b[49m\u001b[43m \u001b[49m\u001b[43mcode\u001b[49m\u001b[43m,\u001b[49m\u001b[43m \u001b[49m\u001b[43mmsg\u001b[49m\u001b[43m,\u001b[49m\u001b[43m \u001b[49m\u001b[43mhdrs\u001b[49m\u001b[43m)\u001b[49m\n\u001b[1;32m    635\u001b[0m \u001b[38;5;28;01mreturn\u001b[39;00m response\n",
      "File \u001b[0;32m~/opt/anaconda3/lib/python3.9/urllib/request.py:561\u001b[0m, in \u001b[0;36mOpenerDirector.error\u001b[0;34m(self, proto, *args)\u001b[0m\n\u001b[1;32m    559\u001b[0m \u001b[38;5;28;01mif\u001b[39;00m http_err:\n\u001b[1;32m    560\u001b[0m     args \u001b[38;5;241m=\u001b[39m (\u001b[38;5;28mdict\u001b[39m, \u001b[38;5;124m'\u001b[39m\u001b[38;5;124mdefault\u001b[39m\u001b[38;5;124m'\u001b[39m, \u001b[38;5;124m'\u001b[39m\u001b[38;5;124mhttp_error_default\u001b[39m\u001b[38;5;124m'\u001b[39m) \u001b[38;5;241m+\u001b[39m orig_args\n\u001b[0;32m--> 561\u001b[0m     \u001b[38;5;28;01mreturn\u001b[39;00m \u001b[38;5;28;43mself\u001b[39;49m\u001b[38;5;241;43m.\u001b[39;49m\u001b[43m_call_chain\u001b[49m\u001b[43m(\u001b[49m\u001b[38;5;241;43m*\u001b[39;49m\u001b[43margs\u001b[49m\u001b[43m)\u001b[49m\n",
      "File \u001b[0;32m~/opt/anaconda3/lib/python3.9/urllib/request.py:494\u001b[0m, in \u001b[0;36mOpenerDirector._call_chain\u001b[0;34m(self, chain, kind, meth_name, *args)\u001b[0m\n\u001b[1;32m    492\u001b[0m \u001b[38;5;28;01mfor\u001b[39;00m handler \u001b[38;5;129;01min\u001b[39;00m handlers:\n\u001b[1;32m    493\u001b[0m     func \u001b[38;5;241m=\u001b[39m \u001b[38;5;28mgetattr\u001b[39m(handler, meth_name)\n\u001b[0;32m--> 494\u001b[0m     result \u001b[38;5;241m=\u001b[39m \u001b[43mfunc\u001b[49m\u001b[43m(\u001b[49m\u001b[38;5;241;43m*\u001b[39;49m\u001b[43margs\u001b[49m\u001b[43m)\u001b[49m\n\u001b[1;32m    495\u001b[0m     \u001b[38;5;28;01mif\u001b[39;00m result \u001b[38;5;129;01mis\u001b[39;00m \u001b[38;5;129;01mnot\u001b[39;00m \u001b[38;5;28;01mNone\u001b[39;00m:\n\u001b[1;32m    496\u001b[0m         \u001b[38;5;28;01mreturn\u001b[39;00m result\n",
      "File \u001b[0;32m~/opt/anaconda3/lib/python3.9/urllib/request.py:641\u001b[0m, in \u001b[0;36mHTTPDefaultErrorHandler.http_error_default\u001b[0;34m(self, req, fp, code, msg, hdrs)\u001b[0m\n\u001b[1;32m    640\u001b[0m \u001b[38;5;28;01mdef\u001b[39;00m \u001b[38;5;21mhttp_error_default\u001b[39m(\u001b[38;5;28mself\u001b[39m, req, fp, code, msg, hdrs):\n\u001b[0;32m--> 641\u001b[0m     \u001b[38;5;28;01mraise\u001b[39;00m HTTPError(req\u001b[38;5;241m.\u001b[39mfull_url, code, msg, hdrs, fp)\n",
      "\u001b[0;31mHTTPError\u001b[0m: HTTP Error 404: Not Found"
     ]
    }
   ],
   "source": [
    "weather = pd.read_csv(\"https://raw.githubusercontent.com/jillxoreilly/StatsCourseBook_2024/main/data/OxfordWeather.csv\")\n",
    "display(weather)"
   ]
  },
  {
   "cell_type": "markdown",
   "id": "af6131ce",
   "metadata": {},
   "source": [
    "## Get descriptive statistics\n",
    "\n",
    "We will look at indexing in the context of getting descriptive statistics for the different variables in a dataframe, and/or for a selection of rows.\n",
    "\n",
    "Pandas has a number of built-in functions to get descriptive statistics:\n",
    "    \n",
    "- `df.mean()`   -  gets the mean\n",
    "- `df.median()` - gets the median\n",
    "- `df.var()` - gets the variance\n",
    "- `df.std()` - gets the standard deviation\n",
    "- `df.min()` - gets the minimum value\n",
    "- `df.max()` - gets the maximum value\n",
    "- `df.corr()` - gets the correlation coefficient (Pearson or Spearman)\n",
    "\n",
    "in the function names above, `df` is just a placeholder for \"dataframe\" \n",
    "\n",
    "You can replace `df` with the name of your dataframe (in which case you will get a table with the descriptive statistic you asked for, for every column containing numerical data)\n"
   ]
  },
  {
   "cell_type": "code",
   "execution_count": 3,
   "id": "0e4c6baf",
   "metadata": {},
   "outputs": [
    {
     "data": {
      "text/plain": [
       "YYYY           1924.165174\n",
       "MM                6.516210\n",
       "DD               15.729154\n",
       "Tmax             13.890153\n",
       "Tmin              6.156018\n",
       "Tmean            10.046208\n",
       "Trange            7.734244\n",
       "Rainfall_mm       1.786964\n",
       "dtype: float64"
      ]
     },
     "execution_count": 3,
     "metadata": {},
     "output_type": "execute_result"
    }
   ],
   "source": [
    "weather.mean()"
   ]
  },
  {
   "cell_type": "markdown",
   "id": "ddd45678",
   "metadata": {},
   "source": [
    "Which columns from the dataframe are missing from the table of means?\n",
    "* Month is missing because the values are strings (words); we only get the mean for numerical columns\n",
    "\n",
    "## Decriptives for a single column\n",
    "\n",
    "Format:\n",
    "- `df.column.mean()`\n",
    "\n",
    "You might just want the mean for one column, in which case you can include the column name as follows:"
   ]
  },
  {
   "cell_type": "code",
   "execution_count": 4,
   "id": "60351416",
   "metadata": {},
   "outputs": [
    {
     "data": {
      "text/plain": [
       "13.890153065515065"
      ]
     },
     "execution_count": 4,
     "metadata": {},
     "output_type": "execute_result"
    }
   ],
   "source": [
    "weather.Tmax.mean()"
   ]
  },
  {
   "cell_type": "markdown",
   "id": "772ff0e0",
   "metadata": {},
   "source": [
    "Instead of a whole table of means, many of which were irrelevant, we now just have the single number we wanted - the mean of <tt>Tmax</tt>\n",
    "\n",
    "* *Think* check that the value obtained this way matches the one in the table above.\n",
    "\n",
    "#### Why does it work?\n",
    "\n",
    "The commmand `weather.Tmax.mean()` has two steps.\n",
    "\n",
    "**Step 1:**\n",
    "\n",
    "The syntax `weather.Tmax` (or more generally, `df.column`) returns just the one column of the dataframe as a <tt>series</tt> (essentially a one-column table).\n",
    "\n",
    "Look:"
   ]
  },
  {
   "cell_type": "code",
   "execution_count": 5,
   "id": "ca537aa1",
   "metadata": {},
   "outputs": [
    {
     "data": {
      "text/plain": [
       "0         8.3\n",
       "1         2.2\n",
       "2        -2.2\n",
       "3        -1.7\n",
       "4         0.0\n",
       "         ... \n",
       "71338    15.2\n",
       "71339    10.7\n",
       "71340    12.7\n",
       "71341    11.7\n",
       "71342    17.6\n",
       "Name: Tmax, Length: 71343, dtype: float64"
      ]
     },
     "execution_count": 5,
     "metadata": {},
     "output_type": "execute_result"
    }
   ],
   "source": [
    "weather.Tmax"
   ]
  },
  {
   "cell_type": "markdown",
   "id": "73fdc0b4",
   "metadata": {},
   "source": [
    "If we liked, we could give this single-column series a name a 'save' it:"
   ]
  },
  {
   "cell_type": "code",
   "execution_count": 6,
   "id": "a85759d0",
   "metadata": {},
   "outputs": [
    {
     "name": "stdout",
     "output_type": "stream",
     "text": [
      "0         8.3\n",
      "1         2.2\n",
      "2        -2.2\n",
      "3        -1.7\n",
      "4         0.0\n",
      "         ... \n",
      "71338    15.2\n",
      "71339    10.7\n",
      "71340    12.7\n",
      "71341    11.7\n",
      "71342    17.6\n",
      "Name: Tmax, Length: 71343, dtype: float64\n"
     ]
    }
   ],
   "source": [
    "DailyMaxima  = weather.Tmax\n",
    "print(DailyMaxima)"
   ]
  },
  {
   "cell_type": "markdown",
   "id": "0ccb6bb4",
   "metadata": {},
   "source": [
    "However, we don't need to do that as we can just tack the `.mean()` function onto it directly as follows:"
   ]
  },
  {
   "cell_type": "markdown",
   "id": "b9672939",
   "metadata": {},
   "source": [
    "**Step 2:**\n",
    "\n",
    "The syntax `.mean()` gets the mean of the thing before the dot (i.e. the series you created with the command `weather.Tmax`)"
   ]
  },
  {
   "cell_type": "code",
   "execution_count": 7,
   "id": "2eb628aa",
   "metadata": {},
   "outputs": [
    {
     "data": {
      "text/plain": [
       "13.890153065515065"
      ]
     },
     "execution_count": 7,
     "metadata": {},
     "output_type": "execute_result"
    }
   ],
   "source": [
    "weather.Tmax.mean()"
   ]
  },
  {
   "cell_type": "markdown",
   "id": "3b115731",
   "metadata": {},
   "source": [
    "### Exercises\n",
    "\n",
    "Complete the following quick practice questions:"
   ]
  },
  {
   "cell_type": "code",
   "execution_count": 8,
   "id": "6bccd623",
   "metadata": {},
   "outputs": [],
   "source": [
    "# get the mean daily rainfall"
   ]
  },
  {
   "cell_type": "code",
   "execution_count": 9,
   "id": "9ac0f7eb",
   "metadata": {},
   "outputs": [],
   "source": [
    "# get the median daily rainfall"
   ]
  },
  {
   "cell_type": "code",
   "execution_count": 10,
   "id": "403db34f",
   "metadata": {},
   "outputs": [],
   "source": [
    "# get the standard deviation of the maximum daily temperature"
   ]
  },
  {
   "cell_type": "code",
   "execution_count": 11,
   "id": "d93cc437",
   "metadata": {},
   "outputs": [],
   "source": [
    "# find the minimum value of \"year\" (you will need two separate commands)"
   ]
  },
  {
   "cell_type": "markdown",
   "id": "62d816dc",
   "metadata": {},
   "source": [
    "## Get descriptives for a subset of rows\n",
    "\n",
    "- `df.query('columnname == number')`\n",
    "- `df.query('columnname == \"string\"')`\n",
    "- `df.query('columnname1 == value1 and columnname2 == value2')`\n",
    "\n",
    "\n",
    "Say I want to know the mean daily maximum temperatures for the year 1921.\n",
    "\n",
    "#### Step 1: find the relevant rows\n",
    "\n",
    "I first need to somehow pull out the rows of the table where the value for <tt>YYYY</tt> is <tt>1921</tt>\n",
    "    \n",
    "I can do this using the function `df.query`, for example <tt>weather.query('YYYY == 1921')</tt>\n",
    "   * **note** the quote marks surrounding the whole query\n",
    "   * **note** the double equals sign `==`, which is used for *checking* if two bvalues are equal (as opposed to setting a value)"
   ]
  },
  {
   "cell_type": "code",
   "execution_count": 12,
   "id": "98393d39",
   "metadata": {},
   "outputs": [
    {
     "data": {
      "text/html": [
       "<div>\n",
       "<style scoped>\n",
       "    .dataframe tbody tr th:only-of-type {\n",
       "        vertical-align: middle;\n",
       "    }\n",
       "\n",
       "    .dataframe tbody tr th {\n",
       "        vertical-align: top;\n",
       "    }\n",
       "\n",
       "    .dataframe thead th {\n",
       "        text-align: right;\n",
       "    }\n",
       "</style>\n",
       "<table border=\"1\" class=\"dataframe\">\n",
       "  <thead>\n",
       "    <tr style=\"text-align: right;\">\n",
       "      <th></th>\n",
       "      <th>YYYY</th>\n",
       "      <th>MM</th>\n",
       "      <th>DD</th>\n",
       "      <th>Tmax</th>\n",
       "      <th>Tmin</th>\n",
       "      <th>Tmean</th>\n",
       "      <th>Trange</th>\n",
       "      <th>Rainfall_mm</th>\n",
       "    </tr>\n",
       "  </thead>\n",
       "  <tbody>\n",
       "    <tr>\n",
       "      <th>34333</th>\n",
       "      <td>1921</td>\n",
       "      <td>1</td>\n",
       "      <td>1</td>\n",
       "      <td>12.2</td>\n",
       "      <td>7.1</td>\n",
       "      <td>9.7</td>\n",
       "      <td>5.1</td>\n",
       "      <td>9.7</td>\n",
       "    </tr>\n",
       "    <tr>\n",
       "      <th>34334</th>\n",
       "      <td>1921</td>\n",
       "      <td>1</td>\n",
       "      <td>2</td>\n",
       "      <td>11.9</td>\n",
       "      <td>8.7</td>\n",
       "      <td>10.3</td>\n",
       "      <td>3.2</td>\n",
       "      <td>6.1</td>\n",
       "    </tr>\n",
       "    <tr>\n",
       "      <th>34335</th>\n",
       "      <td>1921</td>\n",
       "      <td>1</td>\n",
       "      <td>3</td>\n",
       "      <td>9.9</td>\n",
       "      <td>5.9</td>\n",
       "      <td>7.9</td>\n",
       "      <td>4.0</td>\n",
       "      <td>0.0</td>\n",
       "    </tr>\n",
       "    <tr>\n",
       "      <th>34336</th>\n",
       "      <td>1921</td>\n",
       "      <td>1</td>\n",
       "      <td>4</td>\n",
       "      <td>12.3</td>\n",
       "      <td>9.8</td>\n",
       "      <td>11.1</td>\n",
       "      <td>2.5</td>\n",
       "      <td>5.5</td>\n",
       "    </tr>\n",
       "    <tr>\n",
       "      <th>34337</th>\n",
       "      <td>1921</td>\n",
       "      <td>1</td>\n",
       "      <td>5</td>\n",
       "      <td>11.4</td>\n",
       "      <td>6.5</td>\n",
       "      <td>9.0</td>\n",
       "      <td>4.9</td>\n",
       "      <td>0.0</td>\n",
       "    </tr>\n",
       "    <tr>\n",
       "      <th>...</th>\n",
       "      <td>...</td>\n",
       "      <td>...</td>\n",
       "      <td>...</td>\n",
       "      <td>...</td>\n",
       "      <td>...</td>\n",
       "      <td>...</td>\n",
       "      <td>...</td>\n",
       "      <td>...</td>\n",
       "    </tr>\n",
       "    <tr>\n",
       "      <th>34693</th>\n",
       "      <td>1921</td>\n",
       "      <td>12</td>\n",
       "      <td>27</td>\n",
       "      <td>11.2</td>\n",
       "      <td>5.4</td>\n",
       "      <td>8.3</td>\n",
       "      <td>5.8</td>\n",
       "      <td>1.3</td>\n",
       "    </tr>\n",
       "    <tr>\n",
       "      <th>34694</th>\n",
       "      <td>1921</td>\n",
       "      <td>12</td>\n",
       "      <td>28</td>\n",
       "      <td>13.9</td>\n",
       "      <td>3.9</td>\n",
       "      <td>8.9</td>\n",
       "      <td>10.0</td>\n",
       "      <td>0.0</td>\n",
       "    </tr>\n",
       "    <tr>\n",
       "      <th>34695</th>\n",
       "      <td>1921</td>\n",
       "      <td>12</td>\n",
       "      <td>29</td>\n",
       "      <td>7.6</td>\n",
       "      <td>1.7</td>\n",
       "      <td>4.7</td>\n",
       "      <td>5.9</td>\n",
       "      <td>0.8</td>\n",
       "    </tr>\n",
       "    <tr>\n",
       "      <th>34696</th>\n",
       "      <td>1921</td>\n",
       "      <td>12</td>\n",
       "      <td>30</td>\n",
       "      <td>11.7</td>\n",
       "      <td>1.9</td>\n",
       "      <td>6.8</td>\n",
       "      <td>9.8</td>\n",
       "      <td>4.5</td>\n",
       "    </tr>\n",
       "    <tr>\n",
       "      <th>34697</th>\n",
       "      <td>1921</td>\n",
       "      <td>12</td>\n",
       "      <td>31</td>\n",
       "      <td>9.1</td>\n",
       "      <td>3.3</td>\n",
       "      <td>6.2</td>\n",
       "      <td>5.8</td>\n",
       "      <td>0.0</td>\n",
       "    </tr>\n",
       "  </tbody>\n",
       "</table>\n",
       "<p>365 rows × 8 columns</p>\n",
       "</div>"
      ],
      "text/plain": [
       "       YYYY  MM  DD  Tmax  Tmin  Tmean  Trange  Rainfall_mm\n",
       "34333  1921   1   1  12.2   7.1    9.7     5.1          9.7\n",
       "34334  1921   1   2  11.9   8.7   10.3     3.2          6.1\n",
       "34335  1921   1   3   9.9   5.9    7.9     4.0          0.0\n",
       "34336  1921   1   4  12.3   9.8   11.1     2.5          5.5\n",
       "34337  1921   1   5  11.4   6.5    9.0     4.9          0.0\n",
       "...     ...  ..  ..   ...   ...    ...     ...          ...\n",
       "34693  1921  12  27  11.2   5.4    8.3     5.8          1.3\n",
       "34694  1921  12  28  13.9   3.9    8.9    10.0          0.0\n",
       "34695  1921  12  29   7.6   1.7    4.7     5.9          0.8\n",
       "34696  1921  12  30  11.7   1.9    6.8     9.8          4.5\n",
       "34697  1921  12  31   9.1   3.3    6.2     5.8          0.0\n",
       "\n",
       "[365 rows x 8 columns]"
      ]
     },
     "execution_count": 12,
     "metadata": {},
     "output_type": "execute_result"
    }
   ],
   "source": [
    "# get all the rows where year is 1921\n",
    "weather.loc[weather.YYYY == 1921]"
   ]
  },
  {
   "cell_type": "markdown",
   "id": "c1e00495",
   "metadata": {},
   "source": [
    "Note the size of this table - there are 365 rows. Why?\n",
    "* In the original table `weather`, there is one row per day\n",
    "* 365 of those rows (days) match the criterion 'YYYY = 1921' because there are 365 days in a year.\n",
    "\n",
    "If I wanted to, I could give this table a name and 'save' it for later use:\n"
   ]
  },
  {
   "cell_type": "code",
   "execution_count": 13,
   "id": "ee284f7a",
   "metadata": {},
   "outputs": [
    {
     "data": {
      "text/html": [
       "<div>\n",
       "<style scoped>\n",
       "    .dataframe tbody tr th:only-of-type {\n",
       "        vertical-align: middle;\n",
       "    }\n",
       "\n",
       "    .dataframe tbody tr th {\n",
       "        vertical-align: top;\n",
       "    }\n",
       "\n",
       "    .dataframe thead th {\n",
       "        text-align: right;\n",
       "    }\n",
       "</style>\n",
       "<table border=\"1\" class=\"dataframe\">\n",
       "  <thead>\n",
       "    <tr style=\"text-align: right;\">\n",
       "      <th></th>\n",
       "      <th>YYYY</th>\n",
       "      <th>MM</th>\n",
       "      <th>DD</th>\n",
       "      <th>Tmax</th>\n",
       "      <th>Tmin</th>\n",
       "      <th>Tmean</th>\n",
       "      <th>Trange</th>\n",
       "      <th>Rainfall_mm</th>\n",
       "    </tr>\n",
       "  </thead>\n",
       "  <tbody>\n",
       "    <tr>\n",
       "      <th>34333</th>\n",
       "      <td>1921</td>\n",
       "      <td>1</td>\n",
       "      <td>1</td>\n",
       "      <td>12.2</td>\n",
       "      <td>7.1</td>\n",
       "      <td>9.7</td>\n",
       "      <td>5.1</td>\n",
       "      <td>9.7</td>\n",
       "    </tr>\n",
       "    <tr>\n",
       "      <th>34334</th>\n",
       "      <td>1921</td>\n",
       "      <td>1</td>\n",
       "      <td>2</td>\n",
       "      <td>11.9</td>\n",
       "      <td>8.7</td>\n",
       "      <td>10.3</td>\n",
       "      <td>3.2</td>\n",
       "      <td>6.1</td>\n",
       "    </tr>\n",
       "    <tr>\n",
       "      <th>34335</th>\n",
       "      <td>1921</td>\n",
       "      <td>1</td>\n",
       "      <td>3</td>\n",
       "      <td>9.9</td>\n",
       "      <td>5.9</td>\n",
       "      <td>7.9</td>\n",
       "      <td>4.0</td>\n",
       "      <td>0.0</td>\n",
       "    </tr>\n",
       "    <tr>\n",
       "      <th>34336</th>\n",
       "      <td>1921</td>\n",
       "      <td>1</td>\n",
       "      <td>4</td>\n",
       "      <td>12.3</td>\n",
       "      <td>9.8</td>\n",
       "      <td>11.1</td>\n",
       "      <td>2.5</td>\n",
       "      <td>5.5</td>\n",
       "    </tr>\n",
       "    <tr>\n",
       "      <th>34337</th>\n",
       "      <td>1921</td>\n",
       "      <td>1</td>\n",
       "      <td>5</td>\n",
       "      <td>11.4</td>\n",
       "      <td>6.5</td>\n",
       "      <td>9.0</td>\n",
       "      <td>4.9</td>\n",
       "      <td>0.0</td>\n",
       "    </tr>\n",
       "    <tr>\n",
       "      <th>...</th>\n",
       "      <td>...</td>\n",
       "      <td>...</td>\n",
       "      <td>...</td>\n",
       "      <td>...</td>\n",
       "      <td>...</td>\n",
       "      <td>...</td>\n",
       "      <td>...</td>\n",
       "      <td>...</td>\n",
       "    </tr>\n",
       "    <tr>\n",
       "      <th>34693</th>\n",
       "      <td>1921</td>\n",
       "      <td>12</td>\n",
       "      <td>27</td>\n",
       "      <td>11.2</td>\n",
       "      <td>5.4</td>\n",
       "      <td>8.3</td>\n",
       "      <td>5.8</td>\n",
       "      <td>1.3</td>\n",
       "    </tr>\n",
       "    <tr>\n",
       "      <th>34694</th>\n",
       "      <td>1921</td>\n",
       "      <td>12</td>\n",
       "      <td>28</td>\n",
       "      <td>13.9</td>\n",
       "      <td>3.9</td>\n",
       "      <td>8.9</td>\n",
       "      <td>10.0</td>\n",
       "      <td>0.0</td>\n",
       "    </tr>\n",
       "    <tr>\n",
       "      <th>34695</th>\n",
       "      <td>1921</td>\n",
       "      <td>12</td>\n",
       "      <td>29</td>\n",
       "      <td>7.6</td>\n",
       "      <td>1.7</td>\n",
       "      <td>4.7</td>\n",
       "      <td>5.9</td>\n",
       "      <td>0.8</td>\n",
       "    </tr>\n",
       "    <tr>\n",
       "      <th>34696</th>\n",
       "      <td>1921</td>\n",
       "      <td>12</td>\n",
       "      <td>30</td>\n",
       "      <td>11.7</td>\n",
       "      <td>1.9</td>\n",
       "      <td>6.8</td>\n",
       "      <td>9.8</td>\n",
       "      <td>4.5</td>\n",
       "    </tr>\n",
       "    <tr>\n",
       "      <th>34697</th>\n",
       "      <td>1921</td>\n",
       "      <td>12</td>\n",
       "      <td>31</td>\n",
       "      <td>9.1</td>\n",
       "      <td>3.3</td>\n",
       "      <td>6.2</td>\n",
       "      <td>5.8</td>\n",
       "      <td>0.0</td>\n",
       "    </tr>\n",
       "  </tbody>\n",
       "</table>\n",
       "<p>365 rows × 8 columns</p>\n",
       "</div>"
      ],
      "text/plain": [
       "       YYYY  MM  DD  Tmax  Tmin  Tmean  Trange  Rainfall_mm\n",
       "34333  1921   1   1  12.2   7.1    9.7     5.1          9.7\n",
       "34334  1921   1   2  11.9   8.7   10.3     3.2          6.1\n",
       "34335  1921   1   3   9.9   5.9    7.9     4.0          0.0\n",
       "34336  1921   1   4  12.3   9.8   11.1     2.5          5.5\n",
       "34337  1921   1   5  11.4   6.5    9.0     4.9          0.0\n",
       "...     ...  ..  ..   ...   ...    ...     ...          ...\n",
       "34693  1921  12  27  11.2   5.4    8.3     5.8          1.3\n",
       "34694  1921  12  28  13.9   3.9    8.9    10.0          0.0\n",
       "34695  1921  12  29   7.6   1.7    4.7     5.9          0.8\n",
       "34696  1921  12  30  11.7   1.9    6.8     9.8          4.5\n",
       "34697  1921  12  31   9.1   3.3    6.2     5.8          0.0\n",
       "\n",
       "[365 rows x 8 columns]"
      ]
     },
     "execution_count": 13,
     "metadata": {},
     "output_type": "execute_result"
    }
   ],
   "source": [
    "weather1921 = weather.query('YYYY == 1921') # create a new dataframe for just 1921\n",
    "weather1921 # look at my new dataframe"
   ]
  },
  {
   "cell_type": "markdown",
   "id": "a9e16c44",
   "metadata": {},
   "source": [
    "... but I don't need to do this as I can tack on more commands to complete my goal in a single line of code.\n",
    "\n",
    "#### Step 2: find the relevant column\n",
    "\n",
    "Now that I have grabbed the relevant rows, I narrow it down to column <tt>Tmax</tt>"
   ]
  },
  {
   "cell_type": "code",
   "execution_count": 14,
   "id": "9582155a",
   "metadata": {},
   "outputs": [
    {
     "data": {
      "text/plain": [
       "33967     3.2\n",
       "33968     4.5\n",
       "33969     3.7\n",
       "33970     3.7\n",
       "33971     4.5\n",
       "         ... \n",
       "34328    11.9\n",
       "34329    12.3\n",
       "34330    12.4\n",
       "34331    12.1\n",
       "34332    13.2\n",
       "Name: Tmax, Length: 366, dtype: float64"
      ]
     },
     "execution_count": 14,
     "metadata": {},
     "output_type": "execute_result"
    }
   ],
   "source": [
    "weather.query('YYYY == 1920').Tmax"
   ]
  },
  {
   "cell_type": "markdown",
   "id": "ef1a7e64",
   "metadata": {},
   "source": [
    "#### Step 4: add in the actual function\n",
    "\n",
    "FInally, I can tack on teh function I want to run on my selected rows and column: `mean()`:"
   ]
  },
  {
   "cell_type": "code",
   "execution_count": 15,
   "id": "a2547cbb",
   "metadata": {},
   "outputs": [
    {
     "data": {
      "text/plain": [
       "13.701092896174865"
      ]
     },
     "execution_count": 15,
     "metadata": {},
     "output_type": "execute_result"
    }
   ],
   "source": [
    "weather.query('YYYY == 1920').Tmax.mean()"
   ]
  },
  {
   "cell_type": "markdown",
   "id": "88c44d08",
   "metadata": {},
   "source": [
    "### Exercises\n",
    "\n",
    "Complete the following quick practice questions:"
   ]
  },
  {
   "cell_type": "code",
   "execution_count": 16,
   "id": "5dba672e",
   "metadata": {},
   "outputs": [],
   "source": [
    "# Get the mean daily maximum temperature in 2006"
   ]
  },
  {
   "cell_type": "code",
   "execution_count": 17,
   "id": "6eabd979",
   "metadata": {},
   "outputs": [],
   "source": [
    "# Get the mean daily minimum temperature in 1947"
   ]
  },
  {
   "cell_type": "markdown",
   "id": "23a2ac8e",
   "metadata": {},
   "source": [
    "## Get descriptives for one category\n",
    "\n",
    "What about getting the mean daily maximum temperatures for, say, October? So I need to pull out all the rows in which <tt>'MM'</tt> matches <tt>'October'</tt>\n",
    "\n",
    "The syntax is very similar, but now I am matching a string `\"October\"`, so it needs to be in quotes:\n",
    "    "
   ]
  },
  {
   "cell_type": "code",
   "execution_count": 18,
   "id": "28646cb0",
   "metadata": {},
   "outputs": [
    {
     "data": {
      "text/plain": [
       "nan"
      ]
     },
     "execution_count": 18,
     "metadata": {},
     "output_type": "execute_result"
    }
   ],
   "source": [
    "weather.query('MM == \"October\"').Tmax.mean()"
   ]
  },
  {
   "cell_type": "markdown",
   "id": "0404bdd3",
   "metadata": {},
   "source": [
    "* **note** you can actually use single and double quotes interchangeably in Python, but in cases like this where you have quotes within quotes, it is better to use both types to avoid the computer getting confused about which opening and closing quotes to pair up.\n",
    "\n",
    "so you could do either of these\n",
    "\n",
    "- weather.query('MM == \"October\"').Tmax.mean()\n",
    "- weather.query(\"MM == 'October'\").Tmax.mean()\n",
    "\n",
    "but not these\n",
    "\n",
    "- weather.query('MM == 'October'').Tmax.mean()\n",
    "- weather.query(\"MM == 'October'\").Tmax.mean()"
   ]
  },
  {
   "cell_type": "markdown",
   "id": "10985313",
   "metadata": {},
   "source": [
    "### Exercises\n",
    "\n",
    "Complete the following quick practice questions:"
   ]
  },
  {
   "cell_type": "code",
   "execution_count": 19,
   "id": "30a4ed22",
   "metadata": {},
   "outputs": [],
   "source": [
    "# Get the mean daily rainfall in January"
   ]
  },
  {
   "cell_type": "code",
   "execution_count": 20,
   "id": "a6cfbcdd",
   "metadata": {},
   "outputs": [],
   "source": [
    "# Get the mean daily rainfall in June"
   ]
  },
  {
   "cell_type": "markdown",
   "id": "ce908842",
   "metadata": {},
   "source": [
    "## Match multiple conditions\n",
    "\n",
    "What if I want to know the mean daily maximum temperature in 1920 for June only?\n",
    "\n",
    "We can simply use `and` or `&` to pass `df.query()` multiple conditions:"
   ]
  },
  {
   "cell_type": "code",
   "execution_count": 21,
   "id": "22cd5fd6",
   "metadata": {},
   "outputs": [
    {
     "data": {
      "text/plain": [
       "13.701092896174865"
      ]
     },
     "execution_count": 21,
     "metadata": {},
     "output_type": "execute_result"
    }
   ],
   "source": [
    "# mean daily maximum temperature in 1920\n",
    "weather.query('YYYY == 1920').Tmax.mean()"
   ]
  },
  {
   "cell_type": "code",
   "execution_count": 22,
   "id": "2ba8f15b",
   "metadata": {},
   "outputs": [
    {
     "data": {
      "text/plain": [
       "19.553333333333335"
      ]
     },
     "execution_count": 22,
     "metadata": {},
     "output_type": "execute_result"
    }
   ],
   "source": [
    "# mean daily maximumm temperature in 1920\n",
    "weather.query('YYYY == 1920 & MM == 6').Tmax.mean()"
   ]
  },
  {
   "cell_type": "markdown",
   "id": "1bb36dd2",
   "metadata": {},
   "source": [
    "* **Think** hopefully the value for June is higher than the average for the whole year? If not something has gone wrong!"
   ]
  },
  {
   "cell_type": "markdown",
   "id": "a61d8b31",
   "metadata": {},
   "source": [
    "### Exercises\n",
    "\n",
    "Complete the following quick practice questions:"
   ]
  },
  {
   "cell_type": "code",
   "execution_count": 23,
   "id": "e61f9992",
   "metadata": {},
   "outputs": [],
   "source": [
    "# Get the mean daily rainfall in June 2007"
   ]
  },
  {
   "cell_type": "code",
   "execution_count": 24,
   "id": "73d2f3c9",
   "metadata": {},
   "outputs": [],
   "source": [
    "# Get the minimum temperature in January 1947"
   ]
  },
  {
   "cell_type": "markdown",
   "id": "a2938b77",
   "metadata": {},
   "source": [
    "## Syntax for correlation\n",
    "\n",
    "When we run a correlation, we need to index *two* columns - the two we are correlating.\n",
    "\n",
    "Using the `pandas` function `df.corr()` we can do so as follows:"
   ]
  },
  {
   "cell_type": "code",
   "execution_count": 28,
   "id": "39e65c71",
   "metadata": {},
   "outputs": [
    {
     "data": {
      "text/plain": [
       "0.8414800914062084"
      ]
     },
     "execution_count": 28,
     "metadata": {},
     "output_type": "execute_result"
    }
   ],
   "source": [
    "# get the correlation between columns Tmin and Tmax of dataframe weather\n",
    "weather.Tmin.corr(weather.Tmax)"
   ]
  },
  {
   "cell_type": "markdown",
   "id": "65b086ce",
   "metadata": {},
   "source": [
    "We can set the type of correlation to Pearson or Spearman as appropriate (the default is Pearson's $r$):"
   ]
  },
  {
   "cell_type": "code",
   "execution_count": 30,
   "id": "7ec28f45",
   "metadata": {},
   "outputs": [
    {
     "data": {
      "text/plain": [
       "0.8438796074978867"
      ]
     },
     "execution_count": 30,
     "metadata": {},
     "output_type": "execute_result"
    }
   ],
   "source": [
    "# get the correlation between columns Tmin and Tmax of dataframe weather\n",
    "weather.Tmin.corr(weather.Tmax, method='spearman')"
   ]
  },
  {
   "cell_type": "markdown",
   "id": "71036f0c",
   "metadata": {},
   "source": [
    "#### Exercises\n",
    "\n",
    "Complete the following practice questions to help you get to grips with the syntax for correlation:"
   ]
  },
  {
   "cell_type": "code",
   "execution_count": 39,
   "id": "071284d5",
   "metadata": {},
   "outputs": [
    {
     "data": {
      "text/plain": [
       "-0.019287092574398337"
      ]
     },
     "execution_count": 39,
     "metadata": {},
     "output_type": "execute_result"
    }
   ],
   "source": [
    "# Find the Spearman correlation between daily mean temperature Tmean, and rainfall\n",
    "weather.Tmean.corr(weather.Rainfall_mm, method='spearman')"
   ]
  },
  {
   "cell_type": "code",
   "execution_count": 40,
   "id": "7eac1df4",
   "metadata": {},
   "outputs": [
    {
     "data": {
      "text/plain": [
       "0.0830442316015941"
      ]
     },
     "execution_count": 40,
     "metadata": {},
     "output_type": "execute_result"
    }
   ],
   "source": [
    "# Find the correlation between year and daily mean temperature\n",
    "weather.Tmean.corr(weather.YYYY)"
   ]
  },
  {
   "cell_type": "markdown",
   "id": "d68d7c61",
   "metadata": {},
   "source": [
    "#### All-by-all correlation matrix\n",
    "\n",
    "We can also quickly output all the correlations between all possible pairs of columns in a dataframe by simply not giving any column index:"
   ]
  },
  {
   "cell_type": "code",
   "execution_count": 31,
   "id": "d04b1b96",
   "metadata": {},
   "outputs": [
    {
     "data": {
      "text/html": [
       "<div>\n",
       "<style scoped>\n",
       "    .dataframe tbody tr th:only-of-type {\n",
       "        vertical-align: middle;\n",
       "    }\n",
       "\n",
       "    .dataframe tbody tr th {\n",
       "        vertical-align: top;\n",
       "    }\n",
       "\n",
       "    .dataframe thead th {\n",
       "        text-align: right;\n",
       "    }\n",
       "</style>\n",
       "<table border=\"1\" class=\"dataframe\">\n",
       "  <thead>\n",
       "    <tr style=\"text-align: right;\">\n",
       "      <th></th>\n",
       "      <th>YYYY</th>\n",
       "      <th>MM</th>\n",
       "      <th>DD</th>\n",
       "      <th>Tmax</th>\n",
       "      <th>Tmin</th>\n",
       "      <th>Tmean</th>\n",
       "      <th>Trange</th>\n",
       "      <th>Rainfall_mm</th>\n",
       "    </tr>\n",
       "  </thead>\n",
       "  <tbody>\n",
       "    <tr>\n",
       "      <th>YYYY</th>\n",
       "      <td>1.000000</td>\n",
       "      <td>-0.003411</td>\n",
       "      <td>-0.000059</td>\n",
       "      <td>0.071631</td>\n",
       "      <td>0.089683</td>\n",
       "      <td>0.083044</td>\n",
       "      <td>-0.001257</td>\n",
       "      <td>0.008117</td>\n",
       "    </tr>\n",
       "    <tr>\n",
       "      <th>MM</th>\n",
       "      <td>-0.003411</td>\n",
       "      <td>1.000000</td>\n",
       "      <td>0.010567</td>\n",
       "      <td>0.179681</td>\n",
       "      <td>0.235401</td>\n",
       "      <td>0.213082</td>\n",
       "      <td>-0.018820</td>\n",
       "      <td>0.043672</td>\n",
       "    </tr>\n",
       "    <tr>\n",
       "      <th>DD</th>\n",
       "      <td>-0.000059</td>\n",
       "      <td>0.010567</td>\n",
       "      <td>1.000000</td>\n",
       "      <td>0.001217</td>\n",
       "      <td>0.002876</td>\n",
       "      <td>0.002035</td>\n",
       "      <td>-0.002055</td>\n",
       "      <td>0.005315</td>\n",
       "    </tr>\n",
       "    <tr>\n",
       "      <th>Tmax</th>\n",
       "      <td>0.071631</td>\n",
       "      <td>0.179681</td>\n",
       "      <td>0.001217</td>\n",
       "      <td>1.000000</td>\n",
       "      <td>0.841480</td>\n",
       "      <td>0.967881</td>\n",
       "      <td>0.593339</td>\n",
       "      <td>-0.008807</td>\n",
       "    </tr>\n",
       "    <tr>\n",
       "      <th>Tmin</th>\n",
       "      <td>0.089683</td>\n",
       "      <td>0.235401</td>\n",
       "      <td>0.002876</td>\n",
       "      <td>0.841480</td>\n",
       "      <td>1.000000</td>\n",
       "      <td>0.950248</td>\n",
       "      <td>0.064379</td>\n",
       "      <td>0.086181</td>\n",
       "    </tr>\n",
       "    <tr>\n",
       "      <th>Tmean</th>\n",
       "      <td>0.083044</td>\n",
       "      <td>0.213082</td>\n",
       "      <td>0.002035</td>\n",
       "      <td>0.967881</td>\n",
       "      <td>0.950248</td>\n",
       "      <td>1.000000</td>\n",
       "      <td>0.371965</td>\n",
       "      <td>0.035037</td>\n",
       "    </tr>\n",
       "    <tr>\n",
       "      <th>Trange</th>\n",
       "      <td>-0.001257</td>\n",
       "      <td>-0.018820</td>\n",
       "      <td>-0.002055</td>\n",
       "      <td>0.593339</td>\n",
       "      <td>0.064379</td>\n",
       "      <td>0.371965</td>\n",
       "      <td>1.000000</td>\n",
       "      <td>-0.144654</td>\n",
       "    </tr>\n",
       "    <tr>\n",
       "      <th>Rainfall_mm</th>\n",
       "      <td>0.008117</td>\n",
       "      <td>0.043672</td>\n",
       "      <td>0.005315</td>\n",
       "      <td>-0.008807</td>\n",
       "      <td>0.086181</td>\n",
       "      <td>0.035037</td>\n",
       "      <td>-0.144654</td>\n",
       "      <td>1.000000</td>\n",
       "    </tr>\n",
       "  </tbody>\n",
       "</table>\n",
       "</div>"
      ],
      "text/plain": [
       "                 YYYY        MM        DD      Tmax      Tmin     Tmean  \\\n",
       "YYYY         1.000000 -0.003411 -0.000059  0.071631  0.089683  0.083044   \n",
       "MM          -0.003411  1.000000  0.010567  0.179681  0.235401  0.213082   \n",
       "DD          -0.000059  0.010567  1.000000  0.001217  0.002876  0.002035   \n",
       "Tmax         0.071631  0.179681  0.001217  1.000000  0.841480  0.967881   \n",
       "Tmin         0.089683  0.235401  0.002876  0.841480  1.000000  0.950248   \n",
       "Tmean        0.083044  0.213082  0.002035  0.967881  0.950248  1.000000   \n",
       "Trange      -0.001257 -0.018820 -0.002055  0.593339  0.064379  0.371965   \n",
       "Rainfall_mm  0.008117  0.043672  0.005315 -0.008807  0.086181  0.035037   \n",
       "\n",
       "               Trange  Rainfall_mm  \n",
       "YYYY        -0.001257     0.008117  \n",
       "MM          -0.018820     0.043672  \n",
       "DD          -0.002055     0.005315  \n",
       "Tmax         0.593339    -0.008807  \n",
       "Tmin         0.064379     0.086181  \n",
       "Tmean        0.371965     0.035037  \n",
       "Trange       1.000000    -0.144654  \n",
       "Rainfall_mm -0.144654     1.000000  "
      ]
     },
     "execution_count": 31,
     "metadata": {},
     "output_type": "execute_result"
    }
   ],
   "source": [
    "weather.corr()"
   ]
  },
  {
   "cell_type": "markdown",
   "id": "828bb885",
   "metadata": {},
   "source": [
    "The problem with this is that the figure we want is often buried amongst a lot of irrelevant correlation coefficients.\n",
    "\n",
    "#### Correlation using `scipy.stats`\n",
    "\n",
    "Note that here we aare using the `pandas` function `df.corr()`\n",
    "\n",
    "Later in the course we will use two functions from a library called `scipy.stats`:\n",
    "\n",
    "* `stats.pearsonr()`\n",
    "* `stats.spearmanr()`\n",
    "\n",
    "These are actually a bit more useful as they give us a $p$-value for the correlation as well as the correlation coefficient\n",
    "* don't worry if you don't know what a $p$-value is yet - this will be covered later in the course\n",
    "\n",
    "`scipy.stats` will be used extensively in the module on hypothesis testing"
   ]
  },
  {
   "cell_type": "code",
   "execution_count": null,
   "id": "d033e382",
   "metadata": {},
   "outputs": [],
   "source": []
  }
 ],
 "metadata": {
  "kernelspec": {
   "display_name": "Python 3 (ipykernel)",
   "language": "python",
   "name": "python3"
  },
  "language_info": {
   "codemirror_mode": {
    "name": "ipython",
    "version": 3
   },
   "file_extension": ".py",
   "mimetype": "text/x-python",
   "name": "python",
   "nbconvert_exporter": "python",
   "pygments_lexer": "ipython3",
   "version": "3.9.18"
  }
 },
 "nbformat": 4,
 "nbformat_minor": 5
}