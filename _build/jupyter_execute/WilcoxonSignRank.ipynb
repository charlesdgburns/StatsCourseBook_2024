{
 "cells": [
  {
   "cell_type": "markdown",
   "id": "741220b6",
   "metadata": {},
   "source": [
    "## Set up Python libraries\n",
    "\n",
    "As usual, run the code cell below to import the relevant Python libraries"
   ]
  },
  {
   "cell_type": "code",
   "execution_count": 1,
   "id": "692abf91",
   "metadata": {},
   "outputs": [],
   "source": [
    "# Set-up Python libraries - you need to run this but you don't need to change it\n",
    "import numpy as np\n",
    "import matplotlib.pyplot as plt\n",
    "import scipy.stats as stats\n",
    "import pandas \n",
    "import seaborn as sns"
   ]
  },
  {
   "cell_type": "markdown",
   "id": "c33197dd",
   "metadata": {},
   "source": [
    "# Non parametric tests\n",
    "\n",
    "This week we are looking at non-parametric equivalents of the t-test.\n",
    "\n",
    "The t-test is valid only when the data within each group (for independent samples t-test) or the pairwise differences (for paired samples t-test) are Normally distributed\n",
    "\n",
    "As we have seen in the lecture, many real life data distributions are normal, but many others are not.\n",
    "\n",
    "For non-Normal data we can use non-parametric tests, which do not assume that the data are drawn from a Normal distribution."
   ]
  },
  {
   "cell_type": "markdown",
   "id": "41e6065f",
   "metadata": {},
   "source": [
    "# The Wilcoxon Sign-Rank Test\n",
    "\n",
    "This is a test for paired samples. It tests whether the median difference between the members of each pair is greater than zero. As such it is often considered to be a non-parametric equivalent for the paired samples t-test.\n",
    "\n",
    "The Wilcoxon Sign-rank test is <b>not</b> the same as the Wilcoxon Rank Sum test (Mann Whitney U test) which is for independent samples\n",
    "\n",
    "We will us a Python function called <tt>wilcoxon</tt> from the <tt>scipy.stats</tt> package to run the test"
   ]
  },
  {
   "cell_type": "markdown",
   "id": "8b8bd7b3",
   "metadata": {},
   "source": [
    "## Example: the Sign-Rank Test\n",
    "\n",
    "It has been argued that birth order in families affects how independent individuals are as adults - either that first-born children tend to be more independent than later born children or vice versa.\n",
    "\n",
    "In a (fictional!) study, a researcher identified 20 sibling pairs, each comprising a first- and second- born child from a two-child family. The participants were young adults; each participant was interviewed at the age of 21. \n",
    "\n",
    "The researcher scored independence for each participant, using a 25 point scale where a higher score means the person is more independent, based on a structured interview.\n",
    "\n",
    "Carry out a statistical test for a difference in independence scores between the first- and second-born children.\n",
    "\n",
    "Note that this is a <b>paired samples</b> design - each member of one group (the first-borns) has a paired member of the other group (second-borns).\n",
    "\n",
    "\n",
    "### Inspect the data\n",
    "\n",
    "The data are provided in a text (.csv) file.\n",
    "\n",
    "Let's load the data as a Pandas dataframe, and plot them to get a sense for their distribution (is it normal?) and any outliers\n"
   ]
  },
  {
   "cell_type": "code",
   "execution_count": 2,
   "id": "da622d51",
   "metadata": {},
   "outputs": [
    {
     "data": {
      "text/html": [
       "<div>\n",
       "<style scoped>\n",
       "    .dataframe tbody tr th:only-of-type {\n",
       "        vertical-align: middle;\n",
       "    }\n",
       "\n",
       "    .dataframe tbody tr th {\n",
       "        vertical-align: top;\n",
       "    }\n",
       "\n",
       "    .dataframe thead th {\n",
       "        text-align: right;\n",
       "    }\n",
       "</style>\n",
       "<table border=\"1\" class=\"dataframe\">\n",
       "  <thead>\n",
       "    <tr style=\"text-align: right;\">\n",
       "      <th></th>\n",
       "      <th>FirstBorn</th>\n",
       "      <th>SecondBorn</th>\n",
       "    </tr>\n",
       "  </thead>\n",
       "  <tbody>\n",
       "    <tr>\n",
       "      <th>0</th>\n",
       "      <td>12</td>\n",
       "      <td>10</td>\n",
       "    </tr>\n",
       "    <tr>\n",
       "      <th>1</th>\n",
       "      <td>18</td>\n",
       "      <td>12</td>\n",
       "    </tr>\n",
       "    <tr>\n",
       "      <th>2</th>\n",
       "      <td>13</td>\n",
       "      <td>15</td>\n",
       "    </tr>\n",
       "    <tr>\n",
       "      <th>3</th>\n",
       "      <td>17</td>\n",
       "      <td>13</td>\n",
       "    </tr>\n",
       "    <tr>\n",
       "      <th>4</th>\n",
       "      <td>8</td>\n",
       "      <td>9</td>\n",
       "    </tr>\n",
       "    <tr>\n",
       "      <th>5</th>\n",
       "      <td>15</td>\n",
       "      <td>12</td>\n",
       "    </tr>\n",
       "    <tr>\n",
       "      <th>6</th>\n",
       "      <td>16</td>\n",
       "      <td>13</td>\n",
       "    </tr>\n",
       "    <tr>\n",
       "      <th>7</th>\n",
       "      <td>5</td>\n",
       "      <td>8</td>\n",
       "    </tr>\n",
       "    <tr>\n",
       "      <th>8</th>\n",
       "      <td>8</td>\n",
       "      <td>10</td>\n",
       "    </tr>\n",
       "    <tr>\n",
       "      <th>9</th>\n",
       "      <td>12</td>\n",
       "      <td>8</td>\n",
       "    </tr>\n",
       "    <tr>\n",
       "      <th>10</th>\n",
       "      <td>13</td>\n",
       "      <td>8</td>\n",
       "    </tr>\n",
       "    <tr>\n",
       "      <th>11</th>\n",
       "      <td>5</td>\n",
       "      <td>9</td>\n",
       "    </tr>\n",
       "    <tr>\n",
       "      <th>12</th>\n",
       "      <td>14</td>\n",
       "      <td>8</td>\n",
       "    </tr>\n",
       "    <tr>\n",
       "      <th>13</th>\n",
       "      <td>20</td>\n",
       "      <td>10</td>\n",
       "    </tr>\n",
       "    <tr>\n",
       "      <th>14</th>\n",
       "      <td>19</td>\n",
       "      <td>14</td>\n",
       "    </tr>\n",
       "    <tr>\n",
       "      <th>15</th>\n",
       "      <td>17</td>\n",
       "      <td>11</td>\n",
       "    </tr>\n",
       "    <tr>\n",
       "      <th>16</th>\n",
       "      <td>2</td>\n",
       "      <td>7</td>\n",
       "    </tr>\n",
       "    <tr>\n",
       "      <th>17</th>\n",
       "      <td>5</td>\n",
       "      <td>7</td>\n",
       "    </tr>\n",
       "    <tr>\n",
       "      <th>18</th>\n",
       "      <td>15</td>\n",
       "      <td>13</td>\n",
       "    </tr>\n",
       "    <tr>\n",
       "      <th>19</th>\n",
       "      <td>18</td>\n",
       "      <td>12</td>\n",
       "    </tr>\n",
       "  </tbody>\n",
       "</table>\n",
       "</div>"
      ],
      "text/plain": [
       "    FirstBorn  SecondBorn\n",
       "0          12          10\n",
       "1          18          12\n",
       "2          13          15\n",
       "3          17          13\n",
       "4           8           9\n",
       "5          15          12\n",
       "6          16          13\n",
       "7           5           8\n",
       "8           8          10\n",
       "9          12           8\n",
       "10         13           8\n",
       "11          5           9\n",
       "12         14           8\n",
       "13         20          10\n",
       "14         19          14\n",
       "15         17          11\n",
       "16          2           7\n",
       "17          5           7\n",
       "18         15          13\n",
       "19         18          12"
      ]
     },
     "execution_count": 2,
     "metadata": {},
     "output_type": "execute_result"
    }
   ],
   "source": [
    "# load the data and have a look\n",
    "pandas.read_csv('data/BirthOrderIndependence.csv')"
   ]
  },
  {
   "cell_type": "markdown",
   "id": "5481f8e9",
   "metadata": {},
   "source": [
    "### Scatterplot\n",
    "\n",
    "In the case of paired data, the most effective way to get a sense of the data is a scatterplot:"
   ]
  },
  {
   "cell_type": "code",
   "execution_count": 3,
   "id": "ce6a5214",
   "metadata": {},
   "outputs": [
    {
     "data": {
      "text/plain": [
       "[<matplotlib.lines.Line2D at 0x7f7f50ea0970>]"
      ]
     },
     "execution_count": 3,
     "metadata": {},
     "output_type": "execute_result"
    },
    {
     "data": {
      "image/png": "[encoded data removed]",
      "text/plain": [
       "<Figure size 640x480 with 1 Axes>"
      ]
     },
     "metadata": {},
     "output_type": "display_data"
    }
   ],
   "source": [
    "birthOrder = pandas.read_csv('data/BirthOrderIndependence.csv')\n",
    "\n",
    "plt.scatter(data = birthOrder, x=\"FirstBorn\", y=\"SecondBorn\")\n",
    "plt.xlabel(\"independence: first born\")\n",
    "plt.ylabel(\"independence: second born\")\n",
    "\n",
    "# add the line x=y (ie a line from point(50,50) to (110,110)) for reference \n",
    "plt.plot([0,20],[0,20],'k')"
   ]
  },
  {
   "cell_type": "markdown",
   "id": "850462ee",
   "metadata": {},
   "source": [
    "Comments:\n",
    "    \n",
    "<ul>\n",
    "<li>There is some correlation in independeence between first- and second-borns (independent first borns have independent second-born siblings)\n",
    "<li> There are slightly more sibling pairs where the first-born is the more independent (points lying below the line x=y)\n",
    "<li> It looks like in families with higher independence scores, the first-born is more indepenent than the second-born but for families with lower independednce scores, the opposite is true\n",
    "</ul>"
   ]
  },
  {
   "cell_type": "markdown",
   "id": "1e0d04e2",
   "metadata": {},
   "source": [
    "### Check assumption of normality\n",
    "\n",
    "In the case of paired data, the assumption we would need to meet to use a t-test is that \n",
    "the differences between conditions (for each participant) are normally distributed - let's add a column to our <tt>pandas</tt> data frame to contain the differences"
   ]
  },
  {
   "cell_type": "code",
   "execution_count": 4,
   "id": "ce83eb84",
   "metadata": {},
   "outputs": [
    {
     "data": {
      "text/html": [
       "<div>\n",
       "<style scoped>\n",
       "    .dataframe tbody tr th:only-of-type {\n",
       "        vertical-align: middle;\n",
       "    }\n",
       "\n",
       "    .dataframe tbody tr th {\n",
       "        vertical-align: top;\n",
       "    }\n",
       "\n",
       "    .dataframe thead th {\n",
       "        text-align: right;\n",
       "    }\n",
       "</style>\n",
       "<table border=\"1\" class=\"dataframe\">\n",
       "  <thead>\n",
       "    <tr style=\"text-align: right;\">\n",
       "      <th></th>\n",
       "      <th>FirstBorn</th>\n",
       "      <th>SecondBorn</th>\n",
       "      <th>Diff</th>\n",
       "    </tr>\n",
       "  </thead>\n",
       "  <tbody>\n",
       "    <tr>\n",
       "      <th>0</th>\n",
       "      <td>12</td>\n",
       "      <td>10</td>\n",
       "      <td>2</td>\n",
       "    </tr>\n",
       "    <tr>\n",
       "      <th>1</th>\n",
       "      <td>18</td>\n",
       "      <td>12</td>\n",
       "      <td>6</td>\n",
       "    </tr>\n",
       "    <tr>\n",
       "      <th>2</th>\n",
       "      <td>13</td>\n",
       "      <td>15</td>\n",
       "      <td>-2</td>\n",
       "    </tr>\n",
       "    <tr>\n",
       "      <th>3</th>\n",
       "      <td>17</td>\n",
       "      <td>13</td>\n",
       "      <td>4</td>\n",
       "    </tr>\n",
       "    <tr>\n",
       "      <th>4</th>\n",
       "      <td>8</td>\n",
       "      <td>9</td>\n",
       "      <td>-1</td>\n",
       "    </tr>\n",
       "    <tr>\n",
       "      <th>5</th>\n",
       "      <td>15</td>\n",
       "      <td>12</td>\n",
       "      <td>3</td>\n",
       "    </tr>\n",
       "    <tr>\n",
       "      <th>6</th>\n",
       "      <td>16</td>\n",
       "      <td>13</td>\n",
       "      <td>3</td>\n",
       "    </tr>\n",
       "    <tr>\n",
       "      <th>7</th>\n",
       "      <td>5</td>\n",
       "      <td>8</td>\n",
       "      <td>-3</td>\n",
       "    </tr>\n",
       "    <tr>\n",
       "      <th>8</th>\n",
       "      <td>8</td>\n",
       "      <td>10</td>\n",
       "      <td>-2</td>\n",
       "    </tr>\n",
       "    <tr>\n",
       "      <th>9</th>\n",
       "      <td>12</td>\n",
       "      <td>8</td>\n",
       "      <td>4</td>\n",
       "    </tr>\n",
       "    <tr>\n",
       "      <th>10</th>\n",
       "      <td>13</td>\n",
       "      <td>8</td>\n",
       "      <td>5</td>\n",
       "    </tr>\n",
       "    <tr>\n",
       "      <th>11</th>\n",
       "      <td>5</td>\n",
       "      <td>9</td>\n",
       "      <td>-4</td>\n",
       "    </tr>\n",
       "    <tr>\n",
       "      <th>12</th>\n",
       "      <td>14</td>\n",
       "      <td>8</td>\n",
       "      <td>6</td>\n",
       "    </tr>\n",
       "    <tr>\n",
       "      <th>13</th>\n",
       "      <td>20</td>\n",
       "      <td>10</td>\n",
       "      <td>10</td>\n",
       "    </tr>\n",
       "    <tr>\n",
       "      <th>14</th>\n",
       "      <td>19</td>\n",
       "      <td>14</td>\n",
       "      <td>5</td>\n",
       "    </tr>\n",
       "    <tr>\n",
       "      <th>15</th>\n",
       "      <td>17</td>\n",
       "      <td>11</td>\n",
       "      <td>6</td>\n",
       "    </tr>\n",
       "    <tr>\n",
       "      <th>16</th>\n",
       "      <td>2</td>\n",
       "      <td>7</td>\n",
       "      <td>-5</td>\n",
       "    </tr>\n",
       "    <tr>\n",
       "      <th>17</th>\n",
       "      <td>5</td>\n",
       "      <td>7</td>\n",
       "      <td>-2</td>\n",
       "    </tr>\n",
       "    <tr>\n",
       "      <th>18</th>\n",
       "      <td>15</td>\n",
       "      <td>13</td>\n",
       "      <td>2</td>\n",
       "    </tr>\n",
       "    <tr>\n",
       "      <th>19</th>\n",
       "      <td>18</td>\n",
       "      <td>12</td>\n",
       "      <td>6</td>\n",
       "    </tr>\n",
       "  </tbody>\n",
       "</table>\n",
       "</div>"
      ],
      "text/plain": [
       "    FirstBorn  SecondBorn  Diff\n",
       "0          12          10     2\n",
       "1          18          12     6\n",
       "2          13          15    -2\n",
       "3          17          13     4\n",
       "4           8           9    -1\n",
       "5          15          12     3\n",
       "6          16          13     3\n",
       "7           5           8    -3\n",
       "8           8          10    -2\n",
       "9          12           8     4\n",
       "10         13           8     5\n",
       "11          5           9    -4\n",
       "12         14           8     6\n",
       "13         20          10    10\n",
       "14         19          14     5\n",
       "15         17          11     6\n",
       "16          2           7    -5\n",
       "17          5           7    -2\n",
       "18         15          13     2\n",
       "19         18          12     6"
      ]
     },
     "execution_count": 4,
     "metadata": {},
     "output_type": "execute_result"
    }
   ],
   "source": [
    "birthOrder['Diff'] = birthOrder.FirstBorn - birthOrder.SecondBorn\n",
    "birthOrder"
   ]
  },
  {
   "cell_type": "markdown",
   "id": "3953720c",
   "metadata": {},
   "source": [
    "Now let's plot the differences to get a sense of whether they are normally distributed."
   ]
  },
  {
   "cell_type": "code",
   "execution_count": 5,
   "id": "8f5e728d",
   "metadata": {},
   "outputs": [
    {
     "name": "stderr",
     "output_type": "stream",
     "text": [
      "/var/folders/q4/twg1yll54y142rc02m5wwbt40000gr/T/ipykernel_31041/4070573100.py:1: FutureWarning: \n",
      "\n",
      "`shade` is now deprecated in favor of `fill`; setting `fill=True`.\n",
      "This will become an error in seaborn v0.14.0; please update your code.\n",
      "\n",
      "  sns.kdeplot(birthOrder[\"Diff\"],  color='b', shade=True)\n"
     ]
    },
    {
     "data": {
      "text/plain": [
       "<Axes: xlabel='Diff', ylabel='Density'>"
      ]
     },
     "execution_count": 5,
     "metadata": {},
     "output_type": "execute_result"
    },
    {
     "data": {
      "image/png": "[encoded data removed]",
      "text/plain": [
       "<Figure size 640x480 with 1 Axes>"
      ]
     },
     "metadata": {},
     "output_type": "display_data"
    }
   ],
   "source": [
    "sns.kdeplot(birthOrder[\"Diff\"],  color='b', shade=True)\n",
    "sns.rugplot(birthOrder[\"Diff\"], height=0.1, color='b')"
   ]
  },
  {
   "cell_type": "markdown",
   "id": "41d53375",
   "metadata": {},
   "source": [
    "The distribution does not look very Normal, with a hint of bimodality (two peaks).\n",
    "\n",
    "Since there is also no theoretical reason to think the differences should be normally distributed, we will use a non-parametric test"
   ]
  },
  {
   "cell_type": "markdown",
   "id": "30e5dff0",
   "metadata": {},
   "source": [
    "### Hypotheses\n",
    "\n",
    "Ho: the median difference in independence between first- and second-born siblings is is zero\n",
    "\n",
    "Ha: the median difference in independence is not zero\n",
    "    \n",
    "This is a two-tailed test as the researcher's hypothesis (described above) is not directional.\n",
    "\n",
    "We will test at the $\\alpha = 0.05$ significance level"
   ]
  },
  {
   "cell_type": "markdown",
   "id": "0ed79570",
   "metadata": {},
   "source": [
    "### Descriptive statistics\n",
    "\n",
    "We obtain the relevant descriptive statistics. For the t-test we reported the summary statistics (mean, s.d. and $n$) that went into the formula for $t$. The same approach won't quite work here as the test is not based on summary statistics. However, common sense suggests that reporting the median for each group, a measure of spread, and the sample size would give the reader an idea of the data.\n"
   ]
  },
  {
   "cell_type": "code",
   "execution_count": 6,
   "id": "11de87b4",
   "metadata": {},
   "outputs": [
    {
     "data": {
      "text/html": [
       "<div>\n",
       "<style scoped>\n",
       "    .dataframe tbody tr th:only-of-type {\n",
       "        vertical-align: middle;\n",
       "    }\n",
       "\n",
       "    .dataframe tbody tr th {\n",
       "        vertical-align: top;\n",
       "    }\n",
       "\n",
       "    .dataframe thead th {\n",
       "        text-align: right;\n",
       "    }\n",
       "</style>\n",
       "<table border=\"1\" class=\"dataframe\">\n",
       "  <thead>\n",
       "    <tr style=\"text-align: right;\">\n",
       "      <th></th>\n",
       "      <th>FirstBorn</th>\n",
       "      <th>SecondBorn</th>\n",
       "      <th>Diff</th>\n",
       "    </tr>\n",
       "  </thead>\n",
       "  <tbody>\n",
       "    <tr>\n",
       "      <th>count</th>\n",
       "      <td>20.000000</td>\n",
       "      <td>20.000000</td>\n",
       "      <td>20.000000</td>\n",
       "    </tr>\n",
       "    <tr>\n",
       "      <th>mean</th>\n",
       "      <td>12.600000</td>\n",
       "      <td>10.450000</td>\n",
       "      <td>2.150000</td>\n",
       "    </tr>\n",
       "    <tr>\n",
       "      <th>std</th>\n",
       "      <td>5.364601</td>\n",
       "      <td>2.438183</td>\n",
       "      <td>4.120232</td>\n",
       "    </tr>\n",
       "    <tr>\n",
       "      <th>min</th>\n",
       "      <td>2.000000</td>\n",
       "      <td>7.000000</td>\n",
       "      <td>-5.000000</td>\n",
       "    </tr>\n",
       "    <tr>\n",
       "      <th>25%</th>\n",
       "      <td>8.000000</td>\n",
       "      <td>8.000000</td>\n",
       "      <td>-2.000000</td>\n",
       "    </tr>\n",
       "    <tr>\n",
       "      <th>50%</th>\n",
       "      <td>13.500000</td>\n",
       "      <td>10.000000</td>\n",
       "      <td>3.000000</td>\n",
       "    </tr>\n",
       "    <tr>\n",
       "      <th>75%</th>\n",
       "      <td>17.000000</td>\n",
       "      <td>12.250000</td>\n",
       "      <td>5.250000</td>\n",
       "    </tr>\n",
       "    <tr>\n",
       "      <th>max</th>\n",
       "      <td>20.000000</td>\n",
       "      <td>15.000000</td>\n",
       "      <td>10.000000</td>\n",
       "    </tr>\n",
       "  </tbody>\n",
       "</table>\n",
       "</div>"
      ],
      "text/plain": [
       "       FirstBorn  SecondBorn       Diff\n",
       "count  20.000000   20.000000  20.000000\n",
       "mean   12.600000   10.450000   2.150000\n",
       "std     5.364601    2.438183   4.120232\n",
       "min     2.000000    7.000000  -5.000000\n",
       "25%     8.000000    8.000000  -2.000000\n",
       "50%    13.500000   10.000000   3.000000\n",
       "75%    17.000000   12.250000   5.250000\n",
       "max    20.000000   15.000000  10.000000"
      ]
     },
     "execution_count": 6,
     "metadata": {},
     "output_type": "execute_result"
    }
   ],
   "source": [
    "birthOrder.describe()"
   ]
  },
  {
   "cell_type": "markdown",
   "id": "b7ab9c7d",
   "metadata": {},
   "source": [
    "### Carry out the test\n",
    "\n",
    "We carry out the test using the function <tt>wilcoxon</tt> from <tt>scipy.stats</tt>, here loaded as <tt>stats</tt>"
   ]
  },
  {
   "cell_type": "code",
   "execution_count": 7,
   "id": "85858db8",
   "metadata": {},
   "outputs": [
    {
     "data": {
      "text/plain": [
       "WilcoxonResult(statistic=46.0, pvalue=0.026641845703125)"
      ]
     },
     "execution_count": 7,
     "metadata": {},
     "output_type": "execute_result"
    }
   ],
   "source": [
    "stats.wilcoxon(birthOrder['FirstBorn'],birthOrder['SecondBorn'],alternative='two-sided')\n",
    "#help(stats.wilcoxon)"
   ]
  },
  {
   "cell_type": "markdown",
   "id": "3dcd664c",
   "metadata": {},
   "source": [
    "The inputs to stats.wilcoxon are:\n",
    "<ul>\n",
    "    <li>the two samples to be compared (the values of <tt>FirstBorn</tt> and <tt>SecondBorn</tt> from our Pandas data frame <tt>birthOrder</tt>)\n",
    "<li>the argument <tt>alternative='greater'</tt>, which tells the computer to run a one tailed test \n",
    "that mean of the first input (FirstBorn) is greater than the second (SecondBorn).\n",
    "</ul>\n",
    "    \n",
    "The outputs are a value of the test statistic ($T=164$) and <tt>pvalue</tt> ($p=0.0133$) - if this is less than our $\\alpha$ value 0.5, there is a significant difference.\n",
    "\n",
    "More explanation of how T is calculated below."
   ]
  },
  {
   "cell_type": "markdown",
   "id": "69dcbf20",
   "metadata": {},
   "source": [
    "### Draw conclusions\n",
    "\n",
    "As the p value of 0.0133 is less than our alpha value of 0.05, the test is significant. \n",
    "\n",
    "We can conclude that the median difference in idenpendence is positive, ie the first borns are more independent"
   ]
  },
  {
   "cell_type": "markdown",
   "id": "1a80a337",
   "metadata": {},
   "source": [
    "# How the Wilcoxon Sign-Rank test works\n",
    "\n",
    "You have seen how to carry out the Sign-Rank test using scipy.stats but you may be none the wiser about how the computer arrived at the test statistic and p value.\n",
    "\n",
    "In this section we will build our own version of the test step by step to understand how it worked.\n",
    "\n",
    "### How to do the test (if you were doing it with pencil and paper)\n",
    "\n",
    "<ol>\n",
    "<li>Obtain the difference (in independence score) for each pair\n",
    "\n",
    "<li>Rank the differences regardless of sign (e.g. a difference of +4 is greater than a difference of -3, which is greater than a difference of +2). Remove pairs with zero difference\n",
    "\n",
    "<li>Calculate the sum of ranks assigned to pairs with a positive difference (first-born more independent than second-born) - this is $R+$\n",
    "<li>Calculate the sum of ranks assigned to pairs with a negative difference (first-born more independent than second-born) - this is $R-$\n",
    "\n",
    "<li>The test statistic $T$ is either:\n",
    "    <ul>    <li> $R+$ if we expect positive differences to have the larger ranks (in this case, that equates to expecting first-borns to have higher scores)\n",
    "    <li> $R-$  if we expect negative differences to have the larger ranks (in this case, that equates to expecting second-borns to have higher scores)\n",
    "    <li> The smaller of $R+$ and $R-$ for a two tailed test (as in the example, we have no a-prior hypothesis about direction of effect)\n",
    "</ul>\n",
    "<br>    \n",
    "\n",
    "<li>$T$ is compared with a null distribution (the expected distribubtion of $T$ obtained in samples drawn from a population in which there is no true difference between groups)\n",
    "</ol>\n",
    "\n",
    "### Step 1: Obtain the differences\n",
    "\n",
    "We already did this and added a column 'Rank' do our dataframe\n",
    "\n",
    "### Step 2: Rank the differences regardless of sign\n",
    "\n",
    "We can obtain the absolute differences and save them in a new column of the dataframe as follows\n"
   ]
  },
  {
   "cell_type": "code",
   "execution_count": 8,
   "id": "fd1031e3",
   "metadata": {},
   "outputs": [
    {
     "data": {
      "text/html": [
       "<div>\n",
       "<style scoped>\n",
       "    .dataframe tbody tr th:only-of-type {\n",
       "        vertical-align: middle;\n",
       "    }\n",
       "\n",
       "    .dataframe tbody tr th {\n",
       "        vertical-align: top;\n",
       "    }\n",
       "\n",
       "    .dataframe thead th {\n",
       "        text-align: right;\n",
       "    }\n",
       "</style>\n",
       "<table border=\"1\" class=\"dataframe\">\n",
       "  <thead>\n",
       "    <tr style=\"text-align: right;\">\n",
       "      <th></th>\n",
       "      <th>FirstBorn</th>\n",
       "      <th>SecondBorn</th>\n",
       "      <th>Diff</th>\n",
       "      <th>AbsDiff</th>\n",
       "    </tr>\n",
       "  </thead>\n",
       "  <tbody>\n",
       "    <tr>\n",
       "      <th>0</th>\n",
       "      <td>12</td>\n",
       "      <td>10</td>\n",
       "      <td>2</td>\n",
       "      <td>2</td>\n",
       "    </tr>\n",
       "    <tr>\n",
       "      <th>1</th>\n",
       "      <td>18</td>\n",
       "      <td>12</td>\n",
       "      <td>6</td>\n",
       "      <td>6</td>\n",
       "    </tr>\n",
       "    <tr>\n",
       "      <th>2</th>\n",
       "      <td>13</td>\n",
       "      <td>15</td>\n",
       "      <td>-2</td>\n",
       "      <td>2</td>\n",
       "    </tr>\n",
       "    <tr>\n",
       "      <th>3</th>\n",
       "      <td>17</td>\n",
       "      <td>13</td>\n",
       "      <td>4</td>\n",
       "      <td>4</td>\n",
       "    </tr>\n",
       "    <tr>\n",
       "      <th>4</th>\n",
       "      <td>8</td>\n",
       "      <td>9</td>\n",
       "      <td>-1</td>\n",
       "      <td>1</td>\n",
       "    </tr>\n",
       "    <tr>\n",
       "      <th>5</th>\n",
       "      <td>15</td>\n",
       "      <td>12</td>\n",
       "      <td>3</td>\n",
       "      <td>3</td>\n",
       "    </tr>\n",
       "    <tr>\n",
       "      <th>6</th>\n",
       "      <td>16</td>\n",
       "      <td>13</td>\n",
       "      <td>3</td>\n",
       "      <td>3</td>\n",
       "    </tr>\n",
       "    <tr>\n",
       "      <th>7</th>\n",
       "      <td>5</td>\n",
       "      <td>8</td>\n",
       "      <td>-3</td>\n",
       "      <td>3</td>\n",
       "    </tr>\n",
       "    <tr>\n",
       "      <th>8</th>\n",
       "      <td>8</td>\n",
       "      <td>10</td>\n",
       "      <td>-2</td>\n",
       "      <td>2</td>\n",
       "    </tr>\n",
       "    <tr>\n",
       "      <th>9</th>\n",
       "      <td>12</td>\n",
       "      <td>8</td>\n",
       "      <td>4</td>\n",
       "      <td>4</td>\n",
       "    </tr>\n",
       "    <tr>\n",
       "      <th>10</th>\n",
       "      <td>13</td>\n",
       "      <td>8</td>\n",
       "      <td>5</td>\n",
       "      <td>5</td>\n",
       "    </tr>\n",
       "    <tr>\n",
       "      <th>11</th>\n",
       "      <td>5</td>\n",
       "      <td>9</td>\n",
       "      <td>-4</td>\n",
       "      <td>4</td>\n",
       "    </tr>\n",
       "    <tr>\n",
       "      <th>12</th>\n",
       "      <td>14</td>\n",
       "      <td>8</td>\n",
       "      <td>6</td>\n",
       "      <td>6</td>\n",
       "    </tr>\n",
       "    <tr>\n",
       "      <th>13</th>\n",
       "      <td>20</td>\n",
       "      <td>10</td>\n",
       "      <td>10</td>\n",
       "      <td>10</td>\n",
       "    </tr>\n",
       "    <tr>\n",
       "      <th>14</th>\n",
       "      <td>19</td>\n",
       "      <td>14</td>\n",
       "      <td>5</td>\n",
       "      <td>5</td>\n",
       "    </tr>\n",
       "    <tr>\n",
       "      <th>15</th>\n",
       "      <td>17</td>\n",
       "      <td>11</td>\n",
       "      <td>6</td>\n",
       "      <td>6</td>\n",
       "    </tr>\n",
       "    <tr>\n",
       "      <th>16</th>\n",
       "      <td>2</td>\n",
       "      <td>7</td>\n",
       "      <td>-5</td>\n",
       "      <td>5</td>\n",
       "    </tr>\n",
       "    <tr>\n",
       "      <th>17</th>\n",
       "      <td>5</td>\n",
       "      <td>7</td>\n",
       "      <td>-2</td>\n",
       "      <td>2</td>\n",
       "    </tr>\n",
       "    <tr>\n",
       "      <th>18</th>\n",
       "      <td>15</td>\n",
       "      <td>13</td>\n",
       "      <td>2</td>\n",
       "      <td>2</td>\n",
       "    </tr>\n",
       "    <tr>\n",
       "      <th>19</th>\n",
       "      <td>18</td>\n",
       "      <td>12</td>\n",
       "      <td>6</td>\n",
       "      <td>6</td>\n",
       "    </tr>\n",
       "  </tbody>\n",
       "</table>\n",
       "</div>"
      ],
      "text/plain": [
       "    FirstBorn  SecondBorn  Diff  AbsDiff\n",
       "0          12          10     2        2\n",
       "1          18          12     6        6\n",
       "2          13          15    -2        2\n",
       "3          17          13     4        4\n",
       "4           8           9    -1        1\n",
       "5          15          12     3        3\n",
       "6          16          13     3        3\n",
       "7           5           8    -3        3\n",
       "8           8          10    -2        2\n",
       "9          12           8     4        4\n",
       "10         13           8     5        5\n",
       "11          5           9    -4        4\n",
       "12         14           8     6        6\n",
       "13         20          10    10       10\n",
       "14         19          14     5        5\n",
       "15         17          11     6        6\n",
       "16          2           7    -5        5\n",
       "17          5           7    -2        2\n",
       "18         15          13     2        2\n",
       "19         18          12     6        6"
      ]
     },
     "execution_count": 8,
     "metadata": {},
     "output_type": "execute_result"
    }
   ],
   "source": [
    "birthOrder['AbsDiff'] = birthOrder['Diff'].abs()\n",
    "birthOrder"
   ]
  },
  {
   "cell_type": "markdown",
   "id": "651ea1b0",
   "metadata": {},
   "source": [
    "Then we rank the absolute differences"
   ]
  },
  {
   "cell_type": "code",
   "execution_count": 9,
   "id": "ff365ea2",
   "metadata": {},
   "outputs": [
    {
     "data": {
      "text/html": [
       "<div>\n",
       "<style scoped>\n",
       "    .dataframe tbody tr th:only-of-type {\n",
       "        vertical-align: middle;\n",
       "    }\n",
       "\n",
       "    .dataframe tbody tr th {\n",
       "        vertical-align: top;\n",
       "    }\n",
       "\n",
       "    .dataframe thead th {\n",
       "        text-align: right;\n",
       "    }\n",
       "</style>\n",
       "<table border=\"1\" class=\"dataframe\">\n",
       "  <thead>\n",
       "    <tr style=\"text-align: right;\">\n",
       "      <th></th>\n",
       "      <th>FirstBorn</th>\n",
       "      <th>SecondBorn</th>\n",
       "      <th>Diff</th>\n",
       "      <th>AbsDiff</th>\n",
       "      <th>Rank</th>\n",
       "    </tr>\n",
       "  </thead>\n",
       "  <tbody>\n",
       "    <tr>\n",
       "      <th>0</th>\n",
       "      <td>12</td>\n",
       "      <td>10</td>\n",
       "      <td>2</td>\n",
       "      <td>2</td>\n",
       "      <td>4.0</td>\n",
       "    </tr>\n",
       "    <tr>\n",
       "      <th>1</th>\n",
       "      <td>18</td>\n",
       "      <td>12</td>\n",
       "      <td>6</td>\n",
       "      <td>6</td>\n",
       "      <td>17.5</td>\n",
       "    </tr>\n",
       "    <tr>\n",
       "      <th>2</th>\n",
       "      <td>13</td>\n",
       "      <td>15</td>\n",
       "      <td>-2</td>\n",
       "      <td>2</td>\n",
       "      <td>4.0</td>\n",
       "    </tr>\n",
       "    <tr>\n",
       "      <th>3</th>\n",
       "      <td>17</td>\n",
       "      <td>13</td>\n",
       "      <td>4</td>\n",
       "      <td>4</td>\n",
       "      <td>11.0</td>\n",
       "    </tr>\n",
       "    <tr>\n",
       "      <th>4</th>\n",
       "      <td>8</td>\n",
       "      <td>9</td>\n",
       "      <td>-1</td>\n",
       "      <td>1</td>\n",
       "      <td>1.0</td>\n",
       "    </tr>\n",
       "    <tr>\n",
       "      <th>5</th>\n",
       "      <td>15</td>\n",
       "      <td>12</td>\n",
       "      <td>3</td>\n",
       "      <td>3</td>\n",
       "      <td>8.0</td>\n",
       "    </tr>\n",
       "    <tr>\n",
       "      <th>6</th>\n",
       "      <td>16</td>\n",
       "      <td>13</td>\n",
       "      <td>3</td>\n",
       "      <td>3</td>\n",
       "      <td>8.0</td>\n",
       "    </tr>\n",
       "    <tr>\n",
       "      <th>7</th>\n",
       "      <td>5</td>\n",
       "      <td>8</td>\n",
       "      <td>-3</td>\n",
       "      <td>3</td>\n",
       "      <td>8.0</td>\n",
       "    </tr>\n",
       "    <tr>\n",
       "      <th>8</th>\n",
       "      <td>8</td>\n",
       "      <td>10</td>\n",
       "      <td>-2</td>\n",
       "      <td>2</td>\n",
       "      <td>4.0</td>\n",
       "    </tr>\n",
       "    <tr>\n",
       "      <th>9</th>\n",
       "      <td>12</td>\n",
       "      <td>8</td>\n",
       "      <td>4</td>\n",
       "      <td>4</td>\n",
       "      <td>11.0</td>\n",
       "    </tr>\n",
       "    <tr>\n",
       "      <th>10</th>\n",
       "      <td>13</td>\n",
       "      <td>8</td>\n",
       "      <td>5</td>\n",
       "      <td>5</td>\n",
       "      <td>14.0</td>\n",
       "    </tr>\n",
       "    <tr>\n",
       "      <th>11</th>\n",
       "      <td>5</td>\n",
       "      <td>9</td>\n",
       "      <td>-4</td>\n",
       "      <td>4</td>\n",
       "      <td>11.0</td>\n",
       "    </tr>\n",
       "    <tr>\n",
       "      <th>12</th>\n",
       "      <td>14</td>\n",
       "      <td>8</td>\n",
       "      <td>6</td>\n",
       "      <td>6</td>\n",
       "      <td>17.5</td>\n",
       "    </tr>\n",
       "    <tr>\n",
       "      <th>13</th>\n",
       "      <td>20</td>\n",
       "      <td>10</td>\n",
       "      <td>10</td>\n",
       "      <td>10</td>\n",
       "      <td>20.0</td>\n",
       "    </tr>\n",
       "    <tr>\n",
       "      <th>14</th>\n",
       "      <td>19</td>\n",
       "      <td>14</td>\n",
       "      <td>5</td>\n",
       "      <td>5</td>\n",
       "      <td>14.0</td>\n",
       "    </tr>\n",
       "    <tr>\n",
       "      <th>15</th>\n",
       "      <td>17</td>\n",
       "      <td>11</td>\n",
       "      <td>6</td>\n",
       "      <td>6</td>\n",
       "      <td>17.5</td>\n",
       "    </tr>\n",
       "    <tr>\n",
       "      <th>16</th>\n",
       "      <td>2</td>\n",
       "      <td>7</td>\n",
       "      <td>-5</td>\n",
       "      <td>5</td>\n",
       "      <td>14.0</td>\n",
       "    </tr>\n",
       "    <tr>\n",
       "      <th>17</th>\n",
       "      <td>5</td>\n",
       "      <td>7</td>\n",
       "      <td>-2</td>\n",
       "      <td>2</td>\n",
       "      <td>4.0</td>\n",
       "    </tr>\n",
       "    <tr>\n",
       "      <th>18</th>\n",
       "      <td>15</td>\n",
       "      <td>13</td>\n",
       "      <td>2</td>\n",
       "      <td>2</td>\n",
       "      <td>4.0</td>\n",
       "    </tr>\n",
       "    <tr>\n",
       "      <th>19</th>\n",
       "      <td>18</td>\n",
       "      <td>12</td>\n",
       "      <td>6</td>\n",
       "      <td>6</td>\n",
       "      <td>17.5</td>\n",
       "    </tr>\n",
       "  </tbody>\n",
       "</table>\n",
       "</div>"
      ],
      "text/plain": [
       "    FirstBorn  SecondBorn  Diff  AbsDiff  Rank\n",
       "0          12          10     2        2   4.0\n",
       "1          18          12     6        6  17.5\n",
       "2          13          15    -2        2   4.0\n",
       "3          17          13     4        4  11.0\n",
       "4           8           9    -1        1   1.0\n",
       "5          15          12     3        3   8.0\n",
       "6          16          13     3        3   8.0\n",
       "7           5           8    -3        3   8.0\n",
       "8           8          10    -2        2   4.0\n",
       "9          12           8     4        4  11.0\n",
       "10         13           8     5        5  14.0\n",
       "11          5           9    -4        4  11.0\n",
       "12         14           8     6        6  17.5\n",
       "13         20          10    10       10  20.0\n",
       "14         19          14     5        5  14.0\n",
       "15         17          11     6        6  17.5\n",
       "16          2           7    -5        5  14.0\n",
       "17          5           7    -2        2   4.0\n",
       "18         15          13     2        2   4.0\n",
       "19         18          12     6        6  17.5"
      ]
     },
     "execution_count": 9,
     "metadata": {},
     "output_type": "execute_result"
    }
   ],
   "source": [
    "birthOrder['Rank'] = birthOrder['AbsDiff'].rank()\n",
    "birthOrder"
   ]
  },
  {
   "cell_type": "markdown",
   "id": "6e5c0c58",
   "metadata": {},
   "source": [
    "... phew! Let's just check in on our understanding:\n",
    "<ul>\n",
    "<li>In the largest ranked pair (rank 20), the difference is +10 (the first-born's independence score was 10 points higher than the second-born's).\n",
    "\n",
    "<li>Several pairs with a difference of 4 points between siblings share rank 11. In some of these pairs the first-orn was more independent, in some pairs the second-born was more independent. \n",
    "<ul>\n",
    "    <li>Find them in the table.\n",
    "</ul>\n",
    "<li>In 13/20 pairs the first-born was more independent; in 7/20 pairs the second-born was more independent.\n",
    "</ul>"
   ]
  },
  {
   "cell_type": "markdown",
   "id": "dbdc69a5",
   "metadata": {},
   "source": [
    "### Work out the test-statistic $T$\n",
    "\n",
    "We need to add up all the ranks assigned to pairs with positive differences (first-born is more independent)\n",
    " to get $R+$ and all the ranks assigned to pairs with negative differences (second-born is more independent)\n",
    " to get $R-$ \n"
   ]
  },
  {
   "cell_type": "code",
   "execution_count": 10,
   "id": "ee326925",
   "metadata": {},
   "outputs": [
    {
     "name": "stdout",
     "output_type": "stream",
     "text": [
      "R+ = 164.0\n",
      "R- = 46.0\n"
     ]
    }
   ],
   "source": [
    "Rplus = sum(birthOrder.loc[(birthOrder['Diff']>0), 'Rank'])\n",
    "Rminus = sum(birthOrder.loc[(birthOrder['Diff']<0), 'Rank'])\n",
    "\n",
    "print('R+ = ' + str(Rplus))\n",
    "print('R- = ' + str(Rminus))"
   ]
  },
  {
   "cell_type": "markdown",
   "id": "e6e4d1f8",
   "metadata": {},
   "source": [
    "T is the smaller of these - you might like to check that the value obtained below matches the 'test statistic' from the function <tt>scipy.stats.wilcoxon</tt> that we used above"
   ]
  },
  {
   "cell_type": "code",
   "execution_count": 11,
   "id": "f3c3a51f",
   "metadata": {},
   "outputs": [
    {
     "name": "stdout",
     "output_type": "stream",
     "text": [
      "T = 46.0\n"
     ]
    }
   ],
   "source": [
    "T = min(Rplus, Rminus)\n",
    "print('T = ' + str(T))"
   ]
  },
  {
   "cell_type": "markdown",
   "id": "359d9744",
   "metadata": {},
   "source": [
    "### Establish the null distriubtion\n",
    "\n",
    "To convert our $T$ to a $p$-value, we need to know how the probability of obtaining that value of $T$ due to chance if the null hypothesis were true.\n",
    "\n",
    "### What do we mean by \"If the null were true\"?\n",
    "\n",
    "If the null were true, the first- and second-obrn siblings should be equally likely to be more independent. If this were true, high- and low-ranked differences would occur randomly in favour of the first-born and second-born sibling. So each rank (in this case, the ranks 1-20, as we have 20 sibling pairs) might equally likely feed into $R+$ or $R-$\n",
    "\n",
    "### Estalbishing the null by complete enumeration\n",
    "\n",
    "For a much smaller sample size, we could work out all the possible ways the ranks could be randomly assigned to contribute to $R+$ or $R-$, and work out in what proportion of cases this <i>simulated</i> $U$ was as large as, or larger than, the value of $U$ from our experiment.\n",
    "\n",
    "This is not practical for larger samples as there are too many possible ways to deal the ranks (too many <i>combbinations</i>). In the example above where $n_1 = 9$ and $n_2 = 11$, the number of possible deals or combinations is 167960 - for larger $n$ the number of combinations becomes astronomical.\n",
    "\n",
    "### Establishing the null by simulation\n",
    "\n",
    "We can work out the null approximately by doing a lot of random 'deals' of the ranks to $R+$ or $R-$, calculating $T$ for each case, and work out in what proportion of cases this <i>simulated</i> $T$ was as large as, or larger than, the value of $T$ from our experiment.\n",
    "\n",
    "\"A lot\" might be 10,000 or more (this is still much lower than the number of possible deals under complete enumeration)\n",
    "\n",
    "Let's try it!"
   ]
  },
  {
   "cell_type": "code",
   "execution_count": 12,
   "id": "61629cee",
   "metadata": {},
   "outputs": [
    {
     "data": {
      "text/plain": [
       "array([ 1,  2,  3,  4,  5,  6,  7,  8,  9, 10, 11, 12, 13, 14, 15, 16, 17,\n",
       "       18, 19, 20])"
      ]
     },
     "execution_count": 12,
     "metadata": {},
     "output_type": "execute_result"
    }
   ],
   "source": [
    "# Possible ranks are the numbers 1 to 20 (remember Python uses the counterintuitive syntax [1,21))\n",
    "ranks = np.arange(1,21)\n",
    "ranks"
   ]
  },
  {
   "cell_type": "code",
   "execution_count": 13,
   "id": "620f262f",
   "metadata": {},
   "outputs": [
    {
     "data": {
      "text/plain": [
       "array([ True, False, False,  True, False,  True,  True,  True, False,\n",
       "        True,  True,  True, False, False,  True,  True,  True, False,\n",
       "        True, False])"
      ]
     },
     "execution_count": 13,
     "metadata": {},
     "output_type": "execute_result"
    }
   ],
   "source": [
    "# flip 20 virtual coind to assign each of these 20 ranks to R+ or R- \n",
    "isPos = (np.random.uniform(0,1,20)>0.5)\n",
    "isPos"
   ]
  },
  {
   "cell_type": "code",
   "execution_count": 14,
   "id": "93ce8f34",
   "metadata": {},
   "outputs": [
    {
     "name": "stdout",
     "output_type": "stream",
     "text": [
      "R+ = 126\n",
      "R- = 84\n"
     ]
    }
   ],
   "source": [
    "Rplus=sum(ranks[isPos])\n",
    "Rminus=sum(ranks[~isPos])\n",
    "\n",
    "print('R+ = ' + str(Rplus))\n",
    "print('R- = ' + str(Rminus))"
   ]
  },
  {
   "cell_type": "code",
   "execution_count": 15,
   "id": "cd104a8d",
   "metadata": {},
   "outputs": [
    {
     "name": "stdout",
     "output_type": "stream",
     "text": [
      "T = 126\n"
     ]
    }
   ],
   "source": [
    "T = min(Rplus, Rminus)\n",
    "T=Rplus\n",
    "print('T = ' + str(T))"
   ]
  },
  {
   "cell_type": "code",
   "execution_count": 16,
   "id": "31dde7fd",
   "metadata": {},
   "outputs": [],
   "source": [
    "n = 20\n",
    "ranks = np.arange(1,(n+1))\n",
    "maxT = sum(ranks)\n",
    "\n",
    "nReps = 10000\n",
    "simulated_T = np.empty(nReps)\n",
    "\n",
    "for i in range(nReps):\n",
    "    isPos = (np.random.uniform(0,1,20)>0.5)\n",
    "    Rplus=sum(ranks[isPos])\n",
    "    Rminus=sum(ranks[~isPos])\n",
    "    T = min(Rplus, Rminus)\n",
    "    simulated_T[i]=T\n",
    "\n",
    "freq = np.empty(maxT+1)    \n",
    "for j in np.arange(maxT):\n",
    "    freq[j] = np.count_nonzero(simulated_T == j)/nReps"
   ]
  },
  {
   "cell_type": "code",
   "execution_count": 17,
   "id": "7e8ac4b7",
   "metadata": {},
   "outputs": [
    {
     "data": {
      "image/png": "[encoded data removed]",
      "text/plain": [
       "<Figure size 640x480 with 1 Axes>"
      ]
     },
     "metadata": {},
     "output_type": "display_data"
    }
   ],
   "source": [
    "plt.bar(range(maxT+1), height=freq)\n",
    "plt.xlabel('Simulated T value')\n",
    "plt.ylabel('frequency out of ' + str(nReps) + ' tries')\n",
    "plt.show()\n"
   ]
  },
  {
   "cell_type": "code",
   "execution_count": 18,
   "id": "68120cef",
   "metadata": {},
   "outputs": [
    {
     "data": {
      "text/plain": [
       "0.0227"
      ]
     },
     "execution_count": 18,
     "metadata": {},
     "output_type": "execute_result"
    }
   ],
   "source": [
    "p = sum(freq[:46])\n",
    "p\n"
   ]
  },
  {
   "cell_type": "code",
   "execution_count": null,
   "id": "d21ce142",
   "metadata": {},
   "outputs": [],
   "source": []
  }
 ],
 "metadata": {
  "kernelspec": {
   "display_name": "Python 3 (ipykernel)",
   "language": "python",
   "name": "python3"
  },
  "language_info": {
   "codemirror_mode": {
    "name": "ipython",
    "version": 3
   },
   "file_extension": ".py",
   "mimetype": "text/x-python",
   "name": "python",
   "nbconvert_exporter": "python",
   "pygments_lexer": "ipython3",
   "version": "3.9.18"
  }
 },
 "nbformat": 4,
 "nbformat_minor": 5
}