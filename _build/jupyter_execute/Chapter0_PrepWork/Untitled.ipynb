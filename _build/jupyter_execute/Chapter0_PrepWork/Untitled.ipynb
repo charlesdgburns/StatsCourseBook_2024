{
 "cells": [
  {
   "cell_type": "markdown",
   "id": "0357d910-4040-4268-a9ac-cd5cb7526e51",
   "metadata": {},
   "source": [
    "# Tutorial Exercises\n",
    "\n",
    "This week's tutorial exercises focus on indexing and obtaining descriptive statistics\n",
    "\n",
    "### Set up Python Libraries\n",
    "\n",
    "As usual you will need to run this code block to import the relevant Python libraries"
   ]
  },
  {
   "cell_type": "code",
   "execution_count": 1,
   "id": "c2e03a22-3d38-4b43-b81b-7d47bda5b44c",
   "metadata": {
    "tags": []
   },
   "outputs": [],
   "source": [
    "# Set-up Python libraries - you need to run this but you don't need to change it\n",
    "import numpy as np\n",
    "import matplotlib.pyplot as plt\n",
    "import scipy.stats as stats\n",
    "import pandas \n",
    "import seaborn as sns\n",
    "import statsmodels.api as sm\n",
    "import statsmodels.formula.api as smf"
   ]
  },
  {
   "cell_type": "markdown",
   "id": "98974df2-9a55-4a7d-bd72-07e944d7d9c1",
   "metadata": {
    "tags": []
   },
   "source": [
    "## Loop"
   ]
  },
  {
   "cell_type": "code",
   "execution_count": 2,
   "id": "166c5fc4-ca9e-4660-b1db-5f5071dd0402",
   "metadata": {
    "tags": []
   },
   "outputs": [],
   "source": [
    "trajectory = np.empty([100,2,10000])\n",
    "plt.subplot(1,2,1)\n",
    "\n",
    "for j in range(trajectory.shape[2]):\n",
    "    x = 0\n",
    "    for i in range(trajectory.shape[0]):\n",
    "        trajectory[i,1,j]=100-i\n",
    "        if np.random.randint(0,2) == 0:\n",
    "            x=x+1\n",
    "        else:\n",
    "            x=x-1\n",
    "        trajectory[i,0,j]=x\n",
    "\n",
    "    plt.plot(trajectory[:,0,j], trajectory[:,1,j], 'k.-', alpha=0.1)\n",
    "    plt.xlim(-30,30)\n",
    "\n",
    "plt.subplot(1,2,2)\n",
    "sns.histplot(trajectory[99,0,:], bins=range(-30,30))\n",
    "plt.xlim(-30,30)\n",
    "plt.show()\n"
   ]
  },
  {
   "cell_type": "code",
   "execution_count": 47,
   "id": "4c9a26f2-e47b-460e-a345-289dce8b4d61",
   "metadata": {
    "tags": []
   },
   "outputs": [
    {
     "data": {
      "text/plain": [
       "(100, 2, 1000)"
      ]
     },
     "execution_count": 47,
     "metadata": {},
     "output_type": "execute_result"
    }
   ],
   "source": [
    "trajectory.shape\n",
    "\n",
    "\n"
   ]
  },
  {
   "cell_type": "code",
   "execution_count": null,
   "id": "4101d0a6-37a8-4082-8efe-33a93644f950",
   "metadata": {},
   "outputs": [],
   "source": []
  }
 ],
 "metadata": {
  "kernelspec": {
   "display_name": "Python 3 (ipykernel)",
   "language": "python",
   "name": "python3"
  },
  "language_info": {
   "codemirror_mode": {
    "name": "ipython",
    "version": 3
   },
   "file_extension": ".py",
   "mimetype": "text/x-python",
   "name": "python",
   "nbconvert_exporter": "python",
   "pygments_lexer": "ipython3",
   "version": "3.9.18"
  }
 },
 "nbformat": 4,
 "nbformat_minor": 5
}