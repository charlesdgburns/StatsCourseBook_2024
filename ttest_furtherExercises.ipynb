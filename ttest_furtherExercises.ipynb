{
  "cells": [
    {
      "cell_type": "markdown",
      "id": "49887e83",
      "metadata": {
        "id": "49887e83"
      },
      "source": [
        "# Tutorial Exercises: $t$-test and non-parametric equivalents\n",
        "\n",
        "Here are some more exercises on comparing means using the t-test and non-parametric equivalents\n",
        "\n",
        "These exercises are very similar to what you did in the t-test and Mann-Whitney/Wilcoxon examples so in most cases you will be able to copy and adapt code and text from the examples."
      ]
    },
    {
      "cell_type": "markdown",
      "id": "741220b6",
      "metadata": {
        "id": "741220b6"
      },
      "source": [
        "### Set up Python libraries\n",
        "\n",
        "As usual, run the code cell below to import the relevant Python libraries"
      ]
    },
    {
      "cell_type": "code",
      "execution_count": 1,
      "id": "692abf91",
      "metadata": {
        "id": "692abf91"
      },
      "outputs": [],
      "source": [
        "# Set-up Python libraries - you need to run this but you don't need to change it\n",
        "import numpy as np\n",
        "import matplotlib.pyplot as plt\n",
        "import scipy.stats as stats\n",
        "import pandas\n",
        "import seaborn as sns"
      ]
    },
    {
      "cell_type": "markdown",
      "id": "91eef546",
      "metadata": {
        "id": "91eef546"
      },
      "source": [
        "## 1. Whose peaches are heavier?\n",
        "\n",
        "<img src=\"https://raw.githubusercontent.com/jillxoreilly/StatsCourseBook/main/images/peaches.png\" width=30% alt=\"There should be a picture of some peaches here\" >\n",
        "\n",
        "\n",
        "Mr Robinson’s juice factory buys peaches from farmers by the tray. Each tray contains 50 peaches. Farmer McDonald claims that this is unfair as his peaches are juicier and therefore weigh more than the peaches of his rival, Mr McGregor.\n",
        "\n",
        "Mr Robinson weighs eight trays of Farmer McDonald’s peaches and 8 trays of Mr McGregor’s peaches.\n",
        "The weights, in kilograms are given in the file peaches.csv found at https://raw.githubusercontent.com/jillxoreilly/StatsCourseBook/main/data/peaches.csv\n",
        "\n",
        "* Throughout the coures you have been loading files directly from my Github repository using `pandas.read_csv` using ready made code - below you will need to copy and modify an example to read the file peaches.csv from that same repository\n",
        "\n",
        "Investigate whether McDonald's claim is justified by testing for a difference in weight between McDonald and McGregor's peaches. Use both a parametric and non-parametric test."
      ]
    },
    {
      "cell_type": "markdown",
      "id": "134615c7",
      "metadata": {
        "id": "134615c7"
      },
      "source": [
        "a) Load the data into a Pandas dataframe"
      ]
    },
    {
      "cell_type": "code",
      "execution_count": 10,
      "id": "e524eb4b",
      "metadata": {
        "id": "e524eb4b",
        "outputId": "5c24cce6-ef2b-48b8-d083-2876f0bac4b0",
        "colab": {
          "base_uri": "https://localhost:8080/",
          "height": 300
        }
      },
      "outputs": [
        {
          "output_type": "execute_result",
          "data": {
            "text/plain": [
              "   McGregor  MacDonald\n",
              "0     7.867      8.289\n",
              "1     7.637      7.972\n",
              "2     7.652      8.237\n",
              "3     7.772      7.789\n",
              "4     7.510      7.345\n",
              "5     7.743      7.861\n",
              "6     7.356      7.779\n",
              "7     7.944      7.974"
            ],
            "text/html": [
              "\n",
              "  <div id=\"df-49dca866-bb27-46c8-bd8b-a5f9768ac1de\" class=\"colab-df-container\">\n",
              "    <div>\n",
              "<style scoped>\n",
              "    .dataframe tbody tr th:only-of-type {\n",
              "        vertical-align: middle;\n",
              "    }\n",
              "\n",
              "    .dataframe tbody tr th {\n",
              "        vertical-align: top;\n",
              "    }\n",
              "\n",
              "    .dataframe thead th {\n",
              "        text-align: right;\n",
              "    }\n",
              "</style>\n",
              "<table border=\"1\" class=\"dataframe\">\n",
              "  <thead>\n",
              "    <tr style=\"text-align: right;\">\n",
              "      <th></th>\n",
              "      <th>McGregor</th>\n",
              "      <th>MacDonald</th>\n",
              "    </tr>\n",
              "  </thead>\n",
              "  <tbody>\n",
              "    <tr>\n",
              "      <th>0</th>\n",
              "      <td>7.867</td>\n",
              "      <td>8.289</td>\n",
              "    </tr>\n",
              "    <tr>\n",
              "      <th>1</th>\n",
              "      <td>7.637</td>\n",
              "      <td>7.972</td>\n",
              "    </tr>\n",
              "    <tr>\n",
              "      <th>2</th>\n",
              "      <td>7.652</td>\n",
              "      <td>8.237</td>\n",
              "    </tr>\n",
              "    <tr>\n",
              "      <th>3</th>\n",
              "      <td>7.772</td>\n",
              "      <td>7.789</td>\n",
              "    </tr>\n",
              "    <tr>\n",
              "      <th>4</th>\n",
              "      <td>7.510</td>\n",
              "      <td>7.345</td>\n",
              "    </tr>\n",
              "    <tr>\n",
              "      <th>5</th>\n",
              "      <td>7.743</td>\n",
              "      <td>7.861</td>\n",
              "    </tr>\n",
              "    <tr>\n",
              "      <th>6</th>\n",
              "      <td>7.356</td>\n",
              "      <td>7.779</td>\n",
              "    </tr>\n",
              "    <tr>\n",
              "      <th>7</th>\n",
              "      <td>7.944</td>\n",
              "      <td>7.974</td>\n",
              "    </tr>\n",
              "  </tbody>\n",
              "</table>\n",
              "</div>\n",
              "    <div class=\"colab-df-buttons\">\n",
              "\n",
              "  <div class=\"colab-df-container\">\n",
              "    <button class=\"colab-df-convert\" onclick=\"convertToInteractive('df-49dca866-bb27-46c8-bd8b-a5f9768ac1de')\"\n",
              "            title=\"Convert this dataframe to an interactive table.\"\n",
              "            style=\"display:none;\">\n",
              "\n",
              "  <svg xmlns=\"http://www.w3.org/2000/svg\" height=\"24px\" viewBox=\"0 -960 960 960\">\n",
              "    <path d=\"M120-120v-720h720v720H120Zm60-500h600v-160H180v160Zm220 220h160v-160H400v160Zm0 220h160v-160H400v160ZM180-400h160v-160H180v160Zm440 0h160v-160H620v160ZM180-180h160v-160H180v160Zm440 0h160v-160H620v160Z\"/>\n",
              "  </svg>\n",
              "    </button>\n",
              "\n",
              "  <style>\n",
              "    .colab-df-container {\n",
              "      display:flex;\n",
              "      gap: 12px;\n",
              "    }\n",
              "\n",
              "    .colab-df-convert {\n",
              "      background-color: #E8F0FE;\n",
              "      border: none;\n",
              "      border-radius: 50%;\n",
              "      cursor: pointer;\n",
              "      display: none;\n",
              "      fill: #1967D2;\n",
              "      height: 32px;\n",
              "      padding: 0 0 0 0;\n",
              "      width: 32px;\n",
              "    }\n",
              "\n",
              "    .colab-df-convert:hover {\n",
              "      background-color: #E2EBFA;\n",
              "      box-shadow: 0px 1px 2px rgba(60, 64, 67, 0.3), 0px 1px 3px 1px rgba(60, 64, 67, 0.15);\n",
              "      fill: #174EA6;\n",
              "    }\n",
              "\n",
              "    .colab-df-buttons div {\n",
              "      margin-bottom: 4px;\n",
              "    }\n",
              "\n",
              "    [theme=dark] .colab-df-convert {\n",
              "      background-color: #3B4455;\n",
              "      fill: #D2E3FC;\n",
              "    }\n",
              "\n",
              "    [theme=dark] .colab-df-convert:hover {\n",
              "      background-color: #434B5C;\n",
              "      box-shadow: 0px 1px 3px 1px rgba(0, 0, 0, 0.15);\n",
              "      filter: drop-shadow(0px 1px 2px rgba(0, 0, 0, 0.3));\n",
              "      fill: #FFFFFF;\n",
              "    }\n",
              "  </style>\n",
              "\n",
              "    <script>\n",
              "      const buttonEl =\n",
              "        document.querySelector('#df-49dca866-bb27-46c8-bd8b-a5f9768ac1de button.colab-df-convert');\n",
              "      buttonEl.style.display =\n",
              "        google.colab.kernel.accessAllowed ? 'block' : 'none';\n",
              "\n",
              "      async function convertToInteractive(key) {\n",
              "        const element = document.querySelector('#df-49dca866-bb27-46c8-bd8b-a5f9768ac1de');\n",
              "        const dataTable =\n",
              "          await google.colab.kernel.invokeFunction('convertToInteractive',\n",
              "                                                    [key], {});\n",
              "        if (!dataTable) return;\n",
              "\n",
              "        const docLinkHtml = 'Like what you see? Visit the ' +\n",
              "          '<a target=\"_blank\" href=https://colab.research.google.com/notebooks/data_table.ipynb>data table notebook</a>'\n",
              "          + ' to learn more about interactive tables.';\n",
              "        element.innerHTML = '';\n",
              "        dataTable['output_type'] = 'display_data';\n",
              "        await google.colab.output.renderOutput(dataTable, element);\n",
              "        const docLink = document.createElement('div');\n",
              "        docLink.innerHTML = docLinkHtml;\n",
              "        element.appendChild(docLink);\n",
              "      }\n",
              "    </script>\n",
              "  </div>\n",
              "\n",
              "\n",
              "<div id=\"df-5ca620c5-45f4-41cd-8ddf-739bac84ff53\">\n",
              "  <button class=\"colab-df-quickchart\" onclick=\"quickchart('df-5ca620c5-45f4-41cd-8ddf-739bac84ff53')\"\n",
              "            title=\"Suggest charts.\"\n",
              "            style=\"display:none;\">\n",
              "\n",
              "<svg xmlns=\"http://www.w3.org/2000/svg\" height=\"24px\"viewBox=\"0 0 24 24\"\n",
              "     width=\"24px\">\n",
              "    <g>\n",
              "        <path d=\"M19 3H5c-1.1 0-2 .9-2 2v14c0 1.1.9 2 2 2h14c1.1 0 2-.9 2-2V5c0-1.1-.9-2-2-2zM9 17H7v-7h2v7zm4 0h-2V7h2v10zm4 0h-2v-4h2v4z\"/>\n",
              "    </g>\n",
              "</svg>\n",
              "  </button>\n",
              "\n",
              "<style>\n",
              "  .colab-df-quickchart {\n",
              "      --bg-color: #E8F0FE;\n",
              "      --fill-color: #1967D2;\n",
              "      --hover-bg-color: #E2EBFA;\n",
              "      --hover-fill-color: #174EA6;\n",
              "      --disabled-fill-color: #AAA;\n",
              "      --disabled-bg-color: #DDD;\n",
              "  }\n",
              "\n",
              "  [theme=dark] .colab-df-quickchart {\n",
              "      --bg-color: #3B4455;\n",
              "      --fill-color: #D2E3FC;\n",
              "      --hover-bg-color: #434B5C;\n",
              "      --hover-fill-color: #FFFFFF;\n",
              "      --disabled-bg-color: #3B4455;\n",
              "      --disabled-fill-color: #666;\n",
              "  }\n",
              "\n",
              "  .colab-df-quickchart {\n",
              "    background-color: var(--bg-color);\n",
              "    border: none;\n",
              "    border-radius: 50%;\n",
              "    cursor: pointer;\n",
              "    display: none;\n",
              "    fill: var(--fill-color);\n",
              "    height: 32px;\n",
              "    padding: 0;\n",
              "    width: 32px;\n",
              "  }\n",
              "\n",
              "  .colab-df-quickchart:hover {\n",
              "    background-color: var(--hover-bg-color);\n",
              "    box-shadow: 0 1px 2px rgba(60, 64, 67, 0.3), 0 1px 3px 1px rgba(60, 64, 67, 0.15);\n",
              "    fill: var(--button-hover-fill-color);\n",
              "  }\n",
              "\n",
              "  .colab-df-quickchart-complete:disabled,\n",
              "  .colab-df-quickchart-complete:disabled:hover {\n",
              "    background-color: var(--disabled-bg-color);\n",
              "    fill: var(--disabled-fill-color);\n",
              "    box-shadow: none;\n",
              "  }\n",
              "\n",
              "  .colab-df-spinner {\n",
              "    border: 2px solid var(--fill-color);\n",
              "    border-color: transparent;\n",
              "    border-bottom-color: var(--fill-color);\n",
              "    animation:\n",
              "      spin 1s steps(1) infinite;\n",
              "  }\n",
              "\n",
              "  @keyframes spin {\n",
              "    0% {\n",
              "      border-color: transparent;\n",
              "      border-bottom-color: var(--fill-color);\n",
              "      border-left-color: var(--fill-color);\n",
              "    }\n",
              "    20% {\n",
              "      border-color: transparent;\n",
              "      border-left-color: var(--fill-color);\n",
              "      border-top-color: var(--fill-color);\n",
              "    }\n",
              "    30% {\n",
              "      border-color: transparent;\n",
              "      border-left-color: var(--fill-color);\n",
              "      border-top-color: var(--fill-color);\n",
              "      border-right-color: var(--fill-color);\n",
              "    }\n",
              "    40% {\n",
              "      border-color: transparent;\n",
              "      border-right-color: var(--fill-color);\n",
              "      border-top-color: var(--fill-color);\n",
              "    }\n",
              "    60% {\n",
              "      border-color: transparent;\n",
              "      border-right-color: var(--fill-color);\n",
              "    }\n",
              "    80% {\n",
              "      border-color: transparent;\n",
              "      border-right-color: var(--fill-color);\n",
              "      border-bottom-color: var(--fill-color);\n",
              "    }\n",
              "    90% {\n",
              "      border-color: transparent;\n",
              "      border-bottom-color: var(--fill-color);\n",
              "    }\n",
              "  }\n",
              "</style>\n",
              "\n",
              "  <script>\n",
              "    async function quickchart(key) {\n",
              "      const quickchartButtonEl =\n",
              "        document.querySelector('#' + key + ' button');\n",
              "      quickchartButtonEl.disabled = true;  // To prevent multiple clicks.\n",
              "      quickchartButtonEl.classList.add('colab-df-spinner');\n",
              "      try {\n",
              "        const charts = await google.colab.kernel.invokeFunction(\n",
              "            'suggestCharts', [key], {});\n",
              "      } catch (error) {\n",
              "        console.error('Error during call to suggestCharts:', error);\n",
              "      }\n",
              "      quickchartButtonEl.classList.remove('colab-df-spinner');\n",
              "      quickchartButtonEl.classList.add('colab-df-quickchart-complete');\n",
              "    }\n",
              "    (() => {\n",
              "      let quickchartButtonEl =\n",
              "        document.querySelector('#df-5ca620c5-45f4-41cd-8ddf-739bac84ff53 button');\n",
              "      quickchartButtonEl.style.display =\n",
              "        google.colab.kernel.accessAllowed ? 'block' : 'none';\n",
              "    })();\n",
              "  </script>\n",
              "</div>\n",
              "    </div>\n",
              "  </div>\n"
            ]
          },
          "metadata": {},
          "execution_count": 10
        }
      ],
      "source": [
        "#Your code here to load the data - check previous examples if unsure how to do this\n",
        "data = pandas.read_csv('https://raw.githubusercontent.com/jillxoreilly/StatsCourseBook/main/data/peaches.csv')\n",
        "data"
      ]
    },
    {
      "cell_type": "markdown",
      "id": "cf39faa0",
      "metadata": {
        "id": "cf39faa0"
      },
      "source": [
        "b) Plot the data and comment.\n",
        "\n",
        "A Kernel desity estimate plot (to show the distribution) and rug plot (to show individual data points) would be a good choice here. You should comment on whether the data appear to be Normally distriubted and hence the suitability of the t-test."
      ]
    },
    {
      "cell_type": "code",
      "execution_count": 9,
      "id": "ecb9049b",
      "metadata": {
        "id": "ecb9049b",
        "outputId": "7aa984ca-458b-4fbb-ed9f-cf59aafb9d0b",
        "colab": {
          "base_uri": "https://localhost:8080/",
          "height": 448
        }
      },
      "outputs": [
        {
          "output_type": "execute_result",
          "data": {
            "text/plain": [
              "<Axes: ylabel='Density'>"
            ]
          },
          "metadata": {},
          "execution_count": 9
        },
        {
          "output_type": "display_data",
          "data": {
            "text/plain": [
              "<Figure size 640x480 with 1 Axes>"
            ],
            "image/png": "[encoded data removed]"
          },
          "metadata": {}
        }
      ],
      "source": [
        "sns.kdeplot(data)# your text here to plot the data\n",
        "sns.rugplot(data)"
      ]
    },
    {
      "cell_type": "markdown",
      "id": "8f940c21",
      "metadata": {
        "id": "8f940c21"
      },
      "source": [
        "d) We can assume (based on the Central Limit Theorem) that these data points are normally distributed."
      ]
    },
    {
      "cell_type": "markdown",
      "id": "0cb87fa8",
      "metadata": {
        "id": "0cb87fa8"
      },
      "source": [
        "This is because individual datapoints are the weight of each tray containing 50 peaches, therefore representing average peach weight and should be normally distributed."
      ]
    },
    {
      "cell_type": "markdown",
      "id": "8b701bfb",
      "metadata": {
        "id": "8b701bfb"
      },
      "source": [
        "e) Conduct a t-test to test Farmer McDonald's claim\n",
        "\n",
        "* State your hypotheses\n",
        "* State relevant descriptive statistics\n",
        "* Carry out the test using the built in function from <tt>scipy.stats</tt> with appropriate option choices\n",
        "* State your conclusions"
      ]
    },
    {
      "cell_type": "markdown",
      "id": "575a5400",
      "metadata": {
        "id": "575a5400"
      },
      "source": [
        "Ho: peaches from MacDonald's farm are on average not heavier than McGregor's.\n",
        "\n",
        "Ha: peaches from MacDonald's farm are on average heavier than McGregor's."
      ]
    },
    {
      "cell_type": "code",
      "source": [
        "stats.ttest_ind(data['MacDonald'], data['McGregor'], alternative='greater')\n",
        "\n"
      ],
      "metadata": {
        "id": "zRIh1aKQ1OnU",
        "outputId": "f7d642e7-05b5-4653-fa21-e00bc4c1f526",
        "colab": {
          "base_uri": "https://localhost:8080/"
        }
      },
      "id": "zRIh1aKQ1OnU",
      "execution_count": 24,
      "outputs": [
        {
          "output_type": "execute_result",
          "data": {
            "text/plain": [
              "TtestResult(statistic=1.7749776811588107, pvalue=0.04881876713074563, df=14.0)"
            ]
          },
          "metadata": {},
          "execution_count": 24
        }
      ]
    },
    {
      "cell_type": "markdown",
      "source": [
        "Conclusion: we may reject the null hypothesis with p<0.05, suggesting that MacDonald's farm does produce heavier peaches on average."
      ],
      "metadata": {
        "id": "uhfQ3EHd2Bab"
      },
      "id": "uhfQ3EHd2Bab"
    },
    {
      "cell_type": "markdown",
      "id": "be0c251b",
      "metadata": {
        "id": "be0c251b"
      },
      "source": [
        "f) Conduct an appropriate non-parametric test of Farmer McDonald's claim\n",
        "\n",
        "* State your hypotheses\n",
        "* State relevant descriptive statistics\n",
        "* Carry out the test using the ubilt in function from <tt>scipy.stats</tt> with appropriate option choices\n",
        "* State your conclusions"
      ]
    },
    {
      "cell_type": "markdown",
      "source": [
        "Hypotheses:\n",
        "\n",
        "Ho: the median peach basket from MacDonald's farm is not heavier than McGregor's.\n",
        "\n",
        "Ha: the median peach basket form MacDonald's farm is heavier than McGregor's."
      ],
      "metadata": {
        "id": "WucfzM-22Yz1"
      },
      "id": "WucfzM-22Yz1"
    },
    {
      "cell_type": "code",
      "source": [
        "stats.mannwhitneyu(data['MacDonald'], data['McGregor'], alternative='greater')"
      ],
      "metadata": {
        "id": "q-7DFN162X7j",
        "outputId": "9935a950-fceb-423d-d1bd-8bcdabb94310",
        "colab": {
          "base_uri": "https://localhost:8080/"
        }
      },
      "id": "q-7DFN162X7j",
      "execution_count": 26,
      "outputs": [
        {
          "output_type": "execute_result",
          "data": {
            "text/plain": [
              "MannwhitneyuResult(statistic=50.0, pvalue=0.032478632478632474)"
            ]
          },
          "metadata": {},
          "execution_count": 26
        }
      ]
    },
    {
      "cell_type": "markdown",
      "source": [
        "Having chosen the Mann Whintey-U test, as it is appropriate in a greater number of cases, we again may reject the null hypothesis with p<0.05.\n",
        "\n",
        "That is, the median basket of peaches from MacDonald's farm is heavier than the median basket of peaches from McGregor's farm."
      ],
      "metadata": {
        "id": "AOfdSdVX25u4"
      },
      "id": "AOfdSdVX25u4"
    },
    {
      "cell_type": "markdown",
      "id": "bf2702d0",
      "metadata": {
        "id": "bf2702d0"
      },
      "source": [
        "## 2. IQ and vitamins\n",
        "\n",
        "<img src=\"https://raw.githubusercontent.com/jillxoreilly/StatsCourseBook/main/images/vitamins.jpg\" width=50% alt=\"There should be a picture of some vitamin pills here\" >\n",
        "\n",
        "The VitalVit company claim that after taking their VitalVit supplement, IQ is increased.\n",
        "\n",
        "They run a trial in which 22 participants complete a baseline IQ test, then take VitalVit for six weeks, then complete another IQ test.\n",
        "\n",
        "The participants' scores can be found in the data file VitalVit.csv at https://raw.githubusercontent.com/jillxoreilly/StatsCourseBook/main/data/vitalVit.csv"
      ]
    },
    {
      "cell_type": "markdown",
      "id": "3ea0f132",
      "metadata": {
        "id": "3ea0f132"
      },
      "source": [
        "a. What kind of design is this."
      ]
    },
    {
      "cell_type": "markdown",
      "id": "d0f6401b",
      "metadata": {
        "id": "d0f6401b"
      },
      "source": [
        "Repeated measures design."
      ]
    },
    {
      "cell_type": "markdown",
      "id": "4c839052",
      "metadata": {
        "id": "4c839052"
      },
      "source": [
        "b. What are the advantages and possible disadvantages of this type of design? Should the company have done something different or additional to rule out confounding factors?"
      ]
    },
    {
      "cell_type": "markdown",
      "id": "2f1b84e7",
      "metadata": {
        "id": "2f1b84e7"
      },
      "source": [
        "One advantage is being able to track individuals pre- and post intervention.\n",
        "However, there is a risk of practice effects on IQ tests which may be a confound in the intervention.\n",
        "\n",
        "A control group should therefore be introduced to make sure that there is no confound in repeated testing within 6 weeks.\n",
        "\n",
        "A statistical test could then be done to check whether the difference in the intervention and control group was significant."
      ]
    },
    {
      "cell_type": "markdown",
      "id": "36be5eb5",
      "metadata": {
        "id": "36be5eb5"
      },
      "source": [
        "c. Load the data into a Pandas dataframe"
      ]
    },
    {
      "cell_type": "code",
      "execution_count": 28,
      "id": "864de087",
      "metadata": {
        "id": "864de087",
        "outputId": "e933b539-7b9e-44b5-ae34-11f2bb10c9a2",
        "colab": {
          "base_uri": "https://localhost:8080/",
          "height": 739
        }
      },
      "outputs": [
        {
          "output_type": "execute_result",
          "data": {
            "text/plain": [
              "    ID_code   before    after\n",
              "0    688870   82.596   83.437\n",
              "1    723650  117.200  119.810\n",
              "2    445960   85.861   83.976\n",
              "3    708780  125.640  127.680\n",
              "4    109960   96.751   99.103\n",
              "5    968530  105.680  106.890\n",
              "6    164930  142.410  145.550\n",
              "7    744410  109.650  109.320\n",
              "8    499380  128.210  125.110\n",
              "9    290560   84.773   87.249\n",
              "10   780690  110.470  112.650\n",
              "11   660820  100.870   99.074\n",
              "12   758780   94.117   95.951\n",
              "13   363320   96.952   96.801\n",
              "14   638840   86.280   87.669\n",
              "15   483930   89.413   94.379\n",
              "16   102800   85.283   88.316\n",
              "17   581620   94.477   96.300\n",
              "18   754980   90.649   94.158\n",
              "19   268960  103.190  104.300\n",
              "20   314040   92.880   94.556\n",
              "21   324960   97.843   97.969"
            ],
            "text/html": [
              "\n",
              "  <div id=\"df-fb9481c3-224b-456c-91fe-a990006f973e\" class=\"colab-df-container\">\n",
              "    <div>\n",
              "<style scoped>\n",
              "    .dataframe tbody tr th:only-of-type {\n",
              "        vertical-align: middle;\n",
              "    }\n",
              "\n",
              "    .dataframe tbody tr th {\n",
              "        vertical-align: top;\n",
              "    }\n",
              "\n",
              "    .dataframe thead th {\n",
              "        text-align: right;\n",
              "    }\n",
              "</style>\n",
              "<table border=\"1\" class=\"dataframe\">\n",
              "  <thead>\n",
              "    <tr style=\"text-align: right;\">\n",
              "      <th></th>\n",
              "      <th>ID_code</th>\n",
              "      <th>before</th>\n",
              "      <th>after</th>\n",
              "    </tr>\n",
              "  </thead>\n",
              "  <tbody>\n",
              "    <tr>\n",
              "      <th>0</th>\n",
              "      <td>688870</td>\n",
              "      <td>82.596</td>\n",
              "      <td>83.437</td>\n",
              "    </tr>\n",
              "    <tr>\n",
              "      <th>1</th>\n",
              "      <td>723650</td>\n",
              "      <td>117.200</td>\n",
              "      <td>119.810</td>\n",
              "    </tr>\n",
              "    <tr>\n",
              "      <th>2</th>\n",
              "      <td>445960</td>\n",
              "      <td>85.861</td>\n",
              "      <td>83.976</td>\n",
              "    </tr>\n",
              "    <tr>\n",
              "      <th>3</th>\n",
              "      <td>708780</td>\n",
              "      <td>125.640</td>\n",
              "      <td>127.680</td>\n",
              "    </tr>\n",
              "    <tr>\n",
              "      <th>4</th>\n",
              "      <td>109960</td>\n",
              "      <td>96.751</td>\n",
              "      <td>99.103</td>\n",
              "    </tr>\n",
              "    <tr>\n",
              "      <th>5</th>\n",
              "      <td>968530</td>\n",
              "      <td>105.680</td>\n",
              "      <td>106.890</td>\n",
              "    </tr>\n",
              "    <tr>\n",
              "      <th>6</th>\n",
              "      <td>164930</td>\n",
              "      <td>142.410</td>\n",
              "      <td>145.550</td>\n",
              "    </tr>\n",
              "    <tr>\n",
              "      <th>7</th>\n",
              "      <td>744410</td>\n",
              "      <td>109.650</td>\n",
              "      <td>109.320</td>\n",
              "    </tr>\n",
              "    <tr>\n",
              "      <th>8</th>\n",
              "      <td>499380</td>\n",
              "      <td>128.210</td>\n",
              "      <td>125.110</td>\n",
              "    </tr>\n",
              "    <tr>\n",
              "      <th>9</th>\n",
              "      <td>290560</td>\n",
              "      <td>84.773</td>\n",
              "      <td>87.249</td>\n",
              "    </tr>\n",
              "    <tr>\n",
              "      <th>10</th>\n",
              "      <td>780690</td>\n",
              "      <td>110.470</td>\n",
              "      <td>112.650</td>\n",
              "    </tr>\n",
              "    <tr>\n",
              "      <th>11</th>\n",
              "      <td>660820</td>\n",
              "      <td>100.870</td>\n",
              "      <td>99.074</td>\n",
              "    </tr>\n",
              "    <tr>\n",
              "      <th>12</th>\n",
              "      <td>758780</td>\n",
              "      <td>94.117</td>\n",
              "      <td>95.951</td>\n",
              "    </tr>\n",
              "    <tr>\n",
              "      <th>13</th>\n",
              "      <td>363320</td>\n",
              "      <td>96.952</td>\n",
              "      <td>96.801</td>\n",
              "    </tr>\n",
              "    <tr>\n",
              "      <th>14</th>\n",
              "      <td>638840</td>\n",
              "      <td>86.280</td>\n",
              "      <td>87.669</td>\n",
              "    </tr>\n",
              "    <tr>\n",
              "      <th>15</th>\n",
              "      <td>483930</td>\n",
              "      <td>89.413</td>\n",
              "      <td>94.379</td>\n",
              "    </tr>\n",
              "    <tr>\n",
              "      <th>16</th>\n",
              "      <td>102800</td>\n",
              "      <td>85.283</td>\n",
              "      <td>88.316</td>\n",
              "    </tr>\n",
              "    <tr>\n",
              "      <th>17</th>\n",
              "      <td>581620</td>\n",
              "      <td>94.477</td>\n",
              "      <td>96.300</td>\n",
              "    </tr>\n",
              "    <tr>\n",
              "      <th>18</th>\n",
              "      <td>754980</td>\n",
              "      <td>90.649</td>\n",
              "      <td>94.158</td>\n",
              "    </tr>\n",
              "    <tr>\n",
              "      <th>19</th>\n",
              "      <td>268960</td>\n",
              "      <td>103.190</td>\n",
              "      <td>104.300</td>\n",
              "    </tr>\n",
              "    <tr>\n",
              "      <th>20</th>\n",
              "      <td>314040</td>\n",
              "      <td>92.880</td>\n",
              "      <td>94.556</td>\n",
              "    </tr>\n",
              "    <tr>\n",
              "      <th>21</th>\n",
              "      <td>324960</td>\n",
              "      <td>97.843</td>\n",
              "      <td>97.969</td>\n",
              "    </tr>\n",
              "  </tbody>\n",
              "</table>\n",
              "</div>\n",
              "    <div class=\"colab-df-buttons\">\n",
              "\n",
              "  <div class=\"colab-df-container\">\n",
              "    <button class=\"colab-df-convert\" onclick=\"convertToInteractive('df-fb9481c3-224b-456c-91fe-a990006f973e')\"\n",
              "            title=\"Convert this dataframe to an interactive table.\"\n",
              "            style=\"display:none;\">\n",
              "\n",
              "  <svg xmlns=\"http://www.w3.org/2000/svg\" height=\"24px\" viewBox=\"0 -960 960 960\">\n",
              "    <path d=\"M120-120v-720h720v720H120Zm60-500h600v-160H180v160Zm220 220h160v-160H400v160Zm0 220h160v-160H400v160ZM180-400h160v-160H180v160Zm440 0h160v-160H620v160ZM180-180h160v-160H180v160Zm440 0h160v-160H620v160Z\"/>\n",
              "  </svg>\n",
              "    </button>\n",
              "\n",
              "  <style>\n",
              "    .colab-df-container {\n",
              "      display:flex;\n",
              "      gap: 12px;\n",
              "    }\n",
              "\n",
              "    .colab-df-convert {\n",
              "      background-color: #E8F0FE;\n",
              "      border: none;\n",
              "      border-radius: 50%;\n",
              "      cursor: pointer;\n",
              "      display: none;\n",
              "      fill: #1967D2;\n",
              "      height: 32px;\n",
              "      padding: 0 0 0 0;\n",
              "      width: 32px;\n",
              "    }\n",
              "\n",
              "    .colab-df-convert:hover {\n",
              "      background-color: #E2EBFA;\n",
              "      box-shadow: 0px 1px 2px rgba(60, 64, 67, 0.3), 0px 1px 3px 1px rgba(60, 64, 67, 0.15);\n",
              "      fill: #174EA6;\n",
              "    }\n",
              "\n",
              "    .colab-df-buttons div {\n",
              "      margin-bottom: 4px;\n",
              "    }\n",
              "\n",
              "    [theme=dark] .colab-df-convert {\n",
              "      background-color: #3B4455;\n",
              "      fill: #D2E3FC;\n",
              "    }\n",
              "\n",
              "    [theme=dark] .colab-df-convert:hover {\n",
              "      background-color: #434B5C;\n",
              "      box-shadow: 0px 1px 3px 1px rgba(0, 0, 0, 0.15);\n",
              "      filter: drop-shadow(0px 1px 2px rgba(0, 0, 0, 0.3));\n",
              "      fill: #FFFFFF;\n",
              "    }\n",
              "  </style>\n",
              "\n",
              "    <script>\n",
              "      const buttonEl =\n",
              "        document.querySelector('#df-fb9481c3-224b-456c-91fe-a990006f973e button.colab-df-convert');\n",
              "      buttonEl.style.display =\n",
              "        google.colab.kernel.accessAllowed ? 'block' : 'none';\n",
              "\n",
              "      async function convertToInteractive(key) {\n",
              "        const element = document.querySelector('#df-fb9481c3-224b-456c-91fe-a990006f973e');\n",
              "        const dataTable =\n",
              "          await google.colab.kernel.invokeFunction('convertToInteractive',\n",
              "                                                    [key], {});\n",
              "        if (!dataTable) return;\n",
              "\n",
              "        const docLinkHtml = 'Like what you see? Visit the ' +\n",
              "          '<a target=\"_blank\" href=https://colab.research.google.com/notebooks/data_table.ipynb>data table notebook</a>'\n",
              "          + ' to learn more about interactive tables.';\n",
              "        element.innerHTML = '';\n",
              "        dataTable['output_type'] = 'display_data';\n",
              "        await google.colab.output.renderOutput(dataTable, element);\n",
              "        const docLink = document.createElement('div');\n",
              "        docLink.innerHTML = docLinkHtml;\n",
              "        element.appendChild(docLink);\n",
              "      }\n",
              "    </script>\n",
              "  </div>\n",
              "\n",
              "\n",
              "<div id=\"df-d1c84e34-bb05-4885-abc1-13c51a4915ac\">\n",
              "  <button class=\"colab-df-quickchart\" onclick=\"quickchart('df-d1c84e34-bb05-4885-abc1-13c51a4915ac')\"\n",
              "            title=\"Suggest charts.\"\n",
              "            style=\"display:none;\">\n",
              "\n",
              "<svg xmlns=\"http://www.w3.org/2000/svg\" height=\"24px\"viewBox=\"0 0 24 24\"\n",
              "     width=\"24px\">\n",
              "    <g>\n",
              "        <path d=\"M19 3H5c-1.1 0-2 .9-2 2v14c0 1.1.9 2 2 2h14c1.1 0 2-.9 2-2V5c0-1.1-.9-2-2-2zM9 17H7v-7h2v7zm4 0h-2V7h2v10zm4 0h-2v-4h2v4z\"/>\n",
              "    </g>\n",
              "</svg>\n",
              "  </button>\n",
              "\n",
              "<style>\n",
              "  .colab-df-quickchart {\n",
              "      --bg-color: #E8F0FE;\n",
              "      --fill-color: #1967D2;\n",
              "      --hover-bg-color: #E2EBFA;\n",
              "      --hover-fill-color: #174EA6;\n",
              "      --disabled-fill-color: #AAA;\n",
              "      --disabled-bg-color: #DDD;\n",
              "  }\n",
              "\n",
              "  [theme=dark] .colab-df-quickchart {\n",
              "      --bg-color: #3B4455;\n",
              "      --fill-color: #D2E3FC;\n",
              "      --hover-bg-color: #434B5C;\n",
              "      --hover-fill-color: #FFFFFF;\n",
              "      --disabled-bg-color: #3B4455;\n",
              "      --disabled-fill-color: #666;\n",
              "  }\n",
              "\n",
              "  .colab-df-quickchart {\n",
              "    background-color: var(--bg-color);\n",
              "    border: none;\n",
              "    border-radius: 50%;\n",
              "    cursor: pointer;\n",
              "    display: none;\n",
              "    fill: var(--fill-color);\n",
              "    height: 32px;\n",
              "    padding: 0;\n",
              "    width: 32px;\n",
              "  }\n",
              "\n",
              "  .colab-df-quickchart:hover {\n",
              "    background-color: var(--hover-bg-color);\n",
              "    box-shadow: 0 1px 2px rgba(60, 64, 67, 0.3), 0 1px 3px 1px rgba(60, 64, 67, 0.15);\n",
              "    fill: var(--button-hover-fill-color);\n",
              "  }\n",
              "\n",
              "  .colab-df-quickchart-complete:disabled,\n",
              "  .colab-df-quickchart-complete:disabled:hover {\n",
              "    background-color: var(--disabled-bg-color);\n",
              "    fill: var(--disabled-fill-color);\n",
              "    box-shadow: none;\n",
              "  }\n",
              "\n",
              "  .colab-df-spinner {\n",
              "    border: 2px solid var(--fill-color);\n",
              "    border-color: transparent;\n",
              "    border-bottom-color: var(--fill-color);\n",
              "    animation:\n",
              "      spin 1s steps(1) infinite;\n",
              "  }\n",
              "\n",
              "  @keyframes spin {\n",
              "    0% {\n",
              "      border-color: transparent;\n",
              "      border-bottom-color: var(--fill-color);\n",
              "      border-left-color: var(--fill-color);\n",
              "    }\n",
              "    20% {\n",
              "      border-color: transparent;\n",
              "      border-left-color: var(--fill-color);\n",
              "      border-top-color: var(--fill-color);\n",
              "    }\n",
              "    30% {\n",
              "      border-color: transparent;\n",
              "      border-left-color: var(--fill-color);\n",
              "      border-top-color: var(--fill-color);\n",
              "      border-right-color: var(--fill-color);\n",
              "    }\n",
              "    40% {\n",
              "      border-color: transparent;\n",
              "      border-right-color: var(--fill-color);\n",
              "      border-top-color: var(--fill-color);\n",
              "    }\n",
              "    60% {\n",
              "      border-color: transparent;\n",
              "      border-right-color: var(--fill-color);\n",
              "    }\n",
              "    80% {\n",
              "      border-color: transparent;\n",
              "      border-right-color: var(--fill-color);\n",
              "      border-bottom-color: var(--fill-color);\n",
              "    }\n",
              "    90% {\n",
              "      border-color: transparent;\n",
              "      border-bottom-color: var(--fill-color);\n",
              "    }\n",
              "  }\n",
              "</style>\n",
              "\n",
              "  <script>\n",
              "    async function quickchart(key) {\n",
              "      const quickchartButtonEl =\n",
              "        document.querySelector('#' + key + ' button');\n",
              "      quickchartButtonEl.disabled = true;  // To prevent multiple clicks.\n",
              "      quickchartButtonEl.classList.add('colab-df-spinner');\n",
              "      try {\n",
              "        const charts = await google.colab.kernel.invokeFunction(\n",
              "            'suggestCharts', [key], {});\n",
              "      } catch (error) {\n",
              "        console.error('Error during call to suggestCharts:', error);\n",
              "      }\n",
              "      quickchartButtonEl.classList.remove('colab-df-spinner');\n",
              "      quickchartButtonEl.classList.add('colab-df-quickchart-complete');\n",
              "    }\n",
              "    (() => {\n",
              "      let quickchartButtonEl =\n",
              "        document.querySelector('#df-d1c84e34-bb05-4885-abc1-13c51a4915ac button');\n",
              "      quickchartButtonEl.style.display =\n",
              "        google.colab.kernel.accessAllowed ? 'block' : 'none';\n",
              "    })();\n",
              "  </script>\n",
              "</div>\n",
              "    </div>\n",
              "  </div>\n"
            ]
          },
          "metadata": {},
          "execution_count": 28
        }
      ],
      "source": [
        "vitamins = pandas.read_csv('https://raw.githubusercontent.com/jillxoreilly/StatsCourseBook/main/data/vitalVit.csv')#Your code here to load the data - check previous examples if unsure how to do this\n",
        "vitamins"
      ]
    },
    {
      "cell_type": "markdown",
      "id": "fa85f514",
      "metadata": {
        "id": "fa85f514"
      },
      "source": [
        "\n",
        "d. Plot the data and comment.\n",
        "A scatterplot would be a good choice as these are paired data.\n",
        "You could add the line of equality (line x=y) to the graph so we can see whether most people score higer on the IQ test before or after taking VitalVit"
      ]
    },
    {
      "cell_type": "code",
      "execution_count": 49,
      "id": "1ff48986",
      "metadata": {
        "id": "1ff48986",
        "outputId": "42b15dc2-c549-4fe0-f33c-52bf2ac5919f",
        "colab": {
          "base_uri": "https://localhost:8080/",
          "height": 467
        }
      },
      "outputs": [
        {
          "output_type": "execute_result",
          "data": {
            "text/plain": [
              "[<matplotlib.lines.Line2D at 0x7b88a8a912a0>]"
            ]
          },
          "metadata": {},
          "execution_count": 49
        },
        {
          "output_type": "display_data",
          "data": {
            "text/plain": [
              "<Figure size 640x480 with 1 Axes>"
            ],
            "image/png": "[encoded data removed]"
          },
          "metadata": {}
        }
      ],
      "source": [
        "sns.scatterplot(vitamins, x='before', y ='after')# Your code here for a scatter plot.\n",
        "plt.plot([80,140],[80,140],'k')\n"
      ]
    },
    {
      "cell_type": "markdown",
      "id": "300671b9",
      "metadata": {
        "id": "300671b9"
      },
      "source": [
        "IQ scores are normally distributed by design (the tests are designed to yield a normal distribution of scores). Therefore we should be able to use a t-test to compare the scores from before and after taking VitalVit. We will carry out both the (parametric) t-test and a suitable non-parametric test"
      ]
    },
    {
      "cell_type": "markdown",
      "id": "f289ad7d",
      "metadata": {
        "id": "f289ad7d"
      },
      "source": [
        "e) Conduct a t-test to test VitalVit's claim\n",
        "\n",
        "* State your hypotheses\n",
        "* State relevant descriptive statistics\n",
        "* Carry out the test using the ubilt in function from <tt>scipy.stats</tt> with appropriate option choices\n",
        "* State your conclusions"
      ]
    },
    {
      "cell_type": "markdown",
      "id": "84c9a8ed",
      "metadata": {
        "id": "84c9a8ed"
      },
      "source": [
        "Hypotheses:\n",
        "\n",
        "Ho: IQ scores are not greater on average after taking vitamins.\n",
        "\n",
        "Ha: IQ scoresm are on average greater after taking vitamins."
      ]
    },
    {
      "cell_type": "code",
      "source": [
        "stats.ttest_rel(vitamins['after'],vitamins['before'],alternative='greater')"
      ],
      "metadata": {
        "id": "QQEMBICu94zh",
        "outputId": "ce61146f-d763-4b9c-fd7d-a4eac266afe6",
        "colab": {
          "base_uri": "https://localhost:8080/"
        }
      },
      "id": "QQEMBICu94zh",
      "execution_count": 37,
      "outputs": [
        {
          "output_type": "execute_result",
          "data": {
            "text/plain": [
              "TtestResult(statistic=3.247037547947646, pvalue=0.0019289530228459733, df=21)"
            ]
          },
          "metadata": {},
          "execution_count": 37
        }
      ]
    },
    {
      "cell_type": "markdown",
      "source": [
        "Conclusions: we may reject our null-hypothesis with p<0.002, suggesting that IQ scores were on average greater when tested again after 6 weeks while taking vitamins."
      ],
      "metadata": {
        "id": "Yl7cFqgb_kpa"
      },
      "id": "Yl7cFqgb_kpa"
    },
    {
      "cell_type": "markdown",
      "id": "8a3f3840",
      "metadata": {
        "id": "8a3f3840"
      },
      "source": [
        "f) Conduct a suitable non-parametric test to test VitalVit's claim\n",
        "\n",
        "* State your hypotheses\n",
        "* State relevant descriptive statistics\n",
        "* Carry out the test using the ubilt in function from <tt>scipy.stats</tt> with appropriate option choices\n",
        "* State your conclusions"
      ]
    },
    {
      "cell_type": "markdown",
      "id": "8e2cd017",
      "metadata": {
        "id": "8e2cd017"
      },
      "source": [
        "Hypotheses:\n",
        "\n",
        "Ho: the median IQ score is not greater after taking vitamins.\n",
        "\n",
        "Ha: the median IQ score is greater after taking vitamins."
      ]
    },
    {
      "cell_type": "code",
      "source": [
        "stats.wilcoxon(vitamins['after'],vitamins['before'], alternative='greater')"
      ],
      "metadata": {
        "id": "GTcfbO07ALsm",
        "outputId": "f628eae3-8cc1-442d-b131-150d7c1069d7",
        "colab": {
          "base_uri": "https://localhost:8080/"
        }
      },
      "id": "GTcfbO07ALsm",
      "execution_count": 51,
      "outputs": [
        {
          "output_type": "execute_result",
          "data": {
            "text/plain": [
              "WilcoxonResult(statistic=208.0, pvalue=0.003324747085571289)"
            ]
          },
          "metadata": {},
          "execution_count": 51
        }
      ]
    },
    {
      "cell_type": "markdown",
      "source": [
        "Wilcoxon is appropriate as a non-parametric replacement for paired t-tests.\n",
        "\n",
        "Here we again reject the null hypothesis, suggesting that the median IQ score is greater after taking vitamins."
      ],
      "metadata": {
        "id": "tZbff9C4Al9f"
      },
      "id": "tZbff9C4Al9f"
    },
    {
      "cell_type": "markdown",
      "id": "6bf78ba2",
      "metadata": {
        "id": "6bf78ba2"
      },
      "source": [
        "## 3. Who has the tallest students?\n",
        "\n",
        "A student from Lonsdale college claims that Lonsdale students are taller than students from Beaufort college.\n",
        "\n",
        "Heights of 30 randomly selected male undergraduates from each college are found in the file heightsCollege.csv found at https://raw.githubusercontent.com/jillxoreilly/StatsCourseBook/main/data/heightsCollege.csv\n",
        "\n",
        "Test the student's hypothesis using a t-test (this is justified as heights are generally normally distributed) and write up your report as if for a scientific publication. Your report should include the following elements:\n",
        "\n",
        "<ul>\n",
        "    <li> A plot of the data to show the data distribution\n",
        "    <li> The relevant descriptive statistics\n",
        "    <li> The results of the t-test\n",
        "    <li> A conclusion\n",
        "</ul>\n",
        "\n",
        "You can use the write-up sections of the t-test example notebooks as a model"
      ]
    },
    {
      "cell_type": "code",
      "execution_count": 53,
      "id": "a0706fe2",
      "metadata": {
        "id": "a0706fe2",
        "outputId": "031cfdf1-aa7a-4c0e-f646-b2e74a28d8a0",
        "colab": {
          "base_uri": "https://localhost:8080/",
          "height": 990
        }
      },
      "outputs": [
        {
          "output_type": "execute_result",
          "data": {
            "text/plain": [
              "    lonsdale  beaufort\n",
              "0     183.76    182.64\n",
              "1     192.84    178.86\n",
              "2     164.19    178.76\n",
              "3     186.04    173.41\n",
              "4     182.23    186.13\n",
              "5     170.85    178.07\n",
              "6     176.96    174.00\n",
              "7     182.40    188.46\n",
              "8     205.05    177.43\n",
              "9     199.39    174.88\n",
              "10    170.55    176.94\n",
              "11    201.24    173.06\n",
              "12    185.08    171.16\n",
              "13    179.56    196.68\n",
              "14    185.00    190.59\n",
              "15    178.57    181.15\n",
              "16    179.13    170.20\n",
              "17    190.43    172.94\n",
              "18    189.86    177.76\n",
              "19    189.92    184.54\n",
              "20    184.70    169.68\n",
              "21    171.55    162.69\n",
              "22    185.02    168.86\n",
              "23    191.41    181.33\n",
              "24    183.42    181.74\n",
              "25    187.24    182.16\n",
              "26    185.09    178.09\n",
              "27    177.88    180.29\n",
              "28    182.06    175.67\n",
              "29    174.49    185.03"
            ],
            "text/html": [
              "\n",
              "  <div id=\"df-d8f570f2-e4c4-4d59-a221-f321b98afa11\" class=\"colab-df-container\">\n",
              "    <div>\n",
              "<style scoped>\n",
              "    .dataframe tbody tr th:only-of-type {\n",
              "        vertical-align: middle;\n",
              "    }\n",
              "\n",
              "    .dataframe tbody tr th {\n",
              "        vertical-align: top;\n",
              "    }\n",
              "\n",
              "    .dataframe thead th {\n",
              "        text-align: right;\n",
              "    }\n",
              "</style>\n",
              "<table border=\"1\" class=\"dataframe\">\n",
              "  <thead>\n",
              "    <tr style=\"text-align: right;\">\n",
              "      <th></th>\n",
              "      <th>lonsdale</th>\n",
              "      <th>beaufort</th>\n",
              "    </tr>\n",
              "  </thead>\n",
              "  <tbody>\n",
              "    <tr>\n",
              "      <th>0</th>\n",
              "      <td>183.76</td>\n",
              "      <td>182.64</td>\n",
              "    </tr>\n",
              "    <tr>\n",
              "      <th>1</th>\n",
              "      <td>192.84</td>\n",
              "      <td>178.86</td>\n",
              "    </tr>\n",
              "    <tr>\n",
              "      <th>2</th>\n",
              "      <td>164.19</td>\n",
              "      <td>178.76</td>\n",
              "    </tr>\n",
              "    <tr>\n",
              "      <th>3</th>\n",
              "      <td>186.04</td>\n",
              "      <td>173.41</td>\n",
              "    </tr>\n",
              "    <tr>\n",
              "      <th>4</th>\n",
              "      <td>182.23</td>\n",
              "      <td>186.13</td>\n",
              "    </tr>\n",
              "    <tr>\n",
              "      <th>5</th>\n",
              "      <td>170.85</td>\n",
              "      <td>178.07</td>\n",
              "    </tr>\n",
              "    <tr>\n",
              "      <th>6</th>\n",
              "      <td>176.96</td>\n",
              "      <td>174.00</td>\n",
              "    </tr>\n",
              "    <tr>\n",
              "      <th>7</th>\n",
              "      <td>182.40</td>\n",
              "      <td>188.46</td>\n",
              "    </tr>\n",
              "    <tr>\n",
              "      <th>8</th>\n",
              "      <td>205.05</td>\n",
              "      <td>177.43</td>\n",
              "    </tr>\n",
              "    <tr>\n",
              "      <th>9</th>\n",
              "      <td>199.39</td>\n",
              "      <td>174.88</td>\n",
              "    </tr>\n",
              "    <tr>\n",
              "      <th>10</th>\n",
              "      <td>170.55</td>\n",
              "      <td>176.94</td>\n",
              "    </tr>\n",
              "    <tr>\n",
              "      <th>11</th>\n",
              "      <td>201.24</td>\n",
              "      <td>173.06</td>\n",
              "    </tr>\n",
              "    <tr>\n",
              "      <th>12</th>\n",
              "      <td>185.08</td>\n",
              "      <td>171.16</td>\n",
              "    </tr>\n",
              "    <tr>\n",
              "      <th>13</th>\n",
              "      <td>179.56</td>\n",
              "      <td>196.68</td>\n",
              "    </tr>\n",
              "    <tr>\n",
              "      <th>14</th>\n",
              "      <td>185.00</td>\n",
              "      <td>190.59</td>\n",
              "    </tr>\n",
              "    <tr>\n",
              "      <th>15</th>\n",
              "      <td>178.57</td>\n",
              "      <td>181.15</td>\n",
              "    </tr>\n",
              "    <tr>\n",
              "      <th>16</th>\n",
              "      <td>179.13</td>\n",
              "      <td>170.20</td>\n",
              "    </tr>\n",
              "    <tr>\n",
              "      <th>17</th>\n",
              "      <td>190.43</td>\n",
              "      <td>172.94</td>\n",
              "    </tr>\n",
              "    <tr>\n",
              "      <th>18</th>\n",
              "      <td>189.86</td>\n",
              "      <td>177.76</td>\n",
              "    </tr>\n",
              "    <tr>\n",
              "      <th>19</th>\n",
              "      <td>189.92</td>\n",
              "      <td>184.54</td>\n",
              "    </tr>\n",
              "    <tr>\n",
              "      <th>20</th>\n",
              "      <td>184.70</td>\n",
              "      <td>169.68</td>\n",
              "    </tr>\n",
              "    <tr>\n",
              "      <th>21</th>\n",
              "      <td>171.55</td>\n",
              "      <td>162.69</td>\n",
              "    </tr>\n",
              "    <tr>\n",
              "      <th>22</th>\n",
              "      <td>185.02</td>\n",
              "      <td>168.86</td>\n",
              "    </tr>\n",
              "    <tr>\n",
              "      <th>23</th>\n",
              "      <td>191.41</td>\n",
              "      <td>181.33</td>\n",
              "    </tr>\n",
              "    <tr>\n",
              "      <th>24</th>\n",
              "      <td>183.42</td>\n",
              "      <td>181.74</td>\n",
              "    </tr>\n",
              "    <tr>\n",
              "      <th>25</th>\n",
              "      <td>187.24</td>\n",
              "      <td>182.16</td>\n",
              "    </tr>\n",
              "    <tr>\n",
              "      <th>26</th>\n",
              "      <td>185.09</td>\n",
              "      <td>178.09</td>\n",
              "    </tr>\n",
              "    <tr>\n",
              "      <th>27</th>\n",
              "      <td>177.88</td>\n",
              "      <td>180.29</td>\n",
              "    </tr>\n",
              "    <tr>\n",
              "      <th>28</th>\n",
              "      <td>182.06</td>\n",
              "      <td>175.67</td>\n",
              "    </tr>\n",
              "    <tr>\n",
              "      <th>29</th>\n",
              "      <td>174.49</td>\n",
              "      <td>185.03</td>\n",
              "    </tr>\n",
              "  </tbody>\n",
              "</table>\n",
              "</div>\n",
              "    <div class=\"colab-df-buttons\">\n",
              "\n",
              "  <div class=\"colab-df-container\">\n",
              "    <button class=\"colab-df-convert\" onclick=\"convertToInteractive('df-d8f570f2-e4c4-4d59-a221-f321b98afa11')\"\n",
              "            title=\"Convert this dataframe to an interactive table.\"\n",
              "            style=\"display:none;\">\n",
              "\n",
              "  <svg xmlns=\"http://www.w3.org/2000/svg\" height=\"24px\" viewBox=\"0 -960 960 960\">\n",
              "    <path d=\"M120-120v-720h720v720H120Zm60-500h600v-160H180v160Zm220 220h160v-160H400v160Zm0 220h160v-160H400v160ZM180-400h160v-160H180v160Zm440 0h160v-160H620v160ZM180-180h160v-160H180v160Zm440 0h160v-160H620v160Z\"/>\n",
              "  </svg>\n",
              "    </button>\n",
              "\n",
              "  <style>\n",
              "    .colab-df-container {\n",
              "      display:flex;\n",
              "      gap: 12px;\n",
              "    }\n",
              "\n",
              "    .colab-df-convert {\n",
              "      background-color: #E8F0FE;\n",
              "      border: none;\n",
              "      border-radius: 50%;\n",
              "      cursor: pointer;\n",
              "      display: none;\n",
              "      fill: #1967D2;\n",
              "      height: 32px;\n",
              "      padding: 0 0 0 0;\n",
              "      width: 32px;\n",
              "    }\n",
              "\n",
              "    .colab-df-convert:hover {\n",
              "      background-color: #E2EBFA;\n",
              "      box-shadow: 0px 1px 2px rgba(60, 64, 67, 0.3), 0px 1px 3px 1px rgba(60, 64, 67, 0.15);\n",
              "      fill: #174EA6;\n",
              "    }\n",
              "\n",
              "    .colab-df-buttons div {\n",
              "      margin-bottom: 4px;\n",
              "    }\n",
              "\n",
              "    [theme=dark] .colab-df-convert {\n",
              "      background-color: #3B4455;\n",
              "      fill: #D2E3FC;\n",
              "    }\n",
              "\n",
              "    [theme=dark] .colab-df-convert:hover {\n",
              "      background-color: #434B5C;\n",
              "      box-shadow: 0px 1px 3px 1px rgba(0, 0, 0, 0.15);\n",
              "      filter: drop-shadow(0px 1px 2px rgba(0, 0, 0, 0.3));\n",
              "      fill: #FFFFFF;\n",
              "    }\n",
              "  </style>\n",
              "\n",
              "    <script>\n",
              "      const buttonEl =\n",
              "        document.querySelector('#df-d8f570f2-e4c4-4d59-a221-f321b98afa11 button.colab-df-convert');\n",
              "      buttonEl.style.display =\n",
              "        google.colab.kernel.accessAllowed ? 'block' : 'none';\n",
              "\n",
              "      async function convertToInteractive(key) {\n",
              "        const element = document.querySelector('#df-d8f570f2-e4c4-4d59-a221-f321b98afa11');\n",
              "        const dataTable =\n",
              "          await google.colab.kernel.invokeFunction('convertToInteractive',\n",
              "                                                    [key], {});\n",
              "        if (!dataTable) return;\n",
              "\n",
              "        const docLinkHtml = 'Like what you see? Visit the ' +\n",
              "          '<a target=\"_blank\" href=https://colab.research.google.com/notebooks/data_table.ipynb>data table notebook</a>'\n",
              "          + ' to learn more about interactive tables.';\n",
              "        element.innerHTML = '';\n",
              "        dataTable['output_type'] = 'display_data';\n",
              "        await google.colab.output.renderOutput(dataTable, element);\n",
              "        const docLink = document.createElement('div');\n",
              "        docLink.innerHTML = docLinkHtml;\n",
              "        element.appendChild(docLink);\n",
              "      }\n",
              "    </script>\n",
              "  </div>\n",
              "\n",
              "\n",
              "<div id=\"df-c33953fa-2071-4fea-bd88-45b8b698ed6a\">\n",
              "  <button class=\"colab-df-quickchart\" onclick=\"quickchart('df-c33953fa-2071-4fea-bd88-45b8b698ed6a')\"\n",
              "            title=\"Suggest charts.\"\n",
              "            style=\"display:none;\">\n",
              "\n",
              "<svg xmlns=\"http://www.w3.org/2000/svg\" height=\"24px\"viewBox=\"0 0 24 24\"\n",
              "     width=\"24px\">\n",
              "    <g>\n",
              "        <path d=\"M19 3H5c-1.1 0-2 .9-2 2v14c0 1.1.9 2 2 2h14c1.1 0 2-.9 2-2V5c0-1.1-.9-2-2-2zM9 17H7v-7h2v7zm4 0h-2V7h2v10zm4 0h-2v-4h2v4z\"/>\n",
              "    </g>\n",
              "</svg>\n",
              "  </button>\n",
              "\n",
              "<style>\n",
              "  .colab-df-quickchart {\n",
              "      --bg-color: #E8F0FE;\n",
              "      --fill-color: #1967D2;\n",
              "      --hover-bg-color: #E2EBFA;\n",
              "      --hover-fill-color: #174EA6;\n",
              "      --disabled-fill-color: #AAA;\n",
              "      --disabled-bg-color: #DDD;\n",
              "  }\n",
              "\n",
              "  [theme=dark] .colab-df-quickchart {\n",
              "      --bg-color: #3B4455;\n",
              "      --fill-color: #D2E3FC;\n",
              "      --hover-bg-color: #434B5C;\n",
              "      --hover-fill-color: #FFFFFF;\n",
              "      --disabled-bg-color: #3B4455;\n",
              "      --disabled-fill-color: #666;\n",
              "  }\n",
              "\n",
              "  .colab-df-quickchart {\n",
              "    background-color: var(--bg-color);\n",
              "    border: none;\n",
              "    border-radius: 50%;\n",
              "    cursor: pointer;\n",
              "    display: none;\n",
              "    fill: var(--fill-color);\n",
              "    height: 32px;\n",
              "    padding: 0;\n",
              "    width: 32px;\n",
              "  }\n",
              "\n",
              "  .colab-df-quickchart:hover {\n",
              "    background-color: var(--hover-bg-color);\n",
              "    box-shadow: 0 1px 2px rgba(60, 64, 67, 0.3), 0 1px 3px 1px rgba(60, 64, 67, 0.15);\n",
              "    fill: var(--button-hover-fill-color);\n",
              "  }\n",
              "\n",
              "  .colab-df-quickchart-complete:disabled,\n",
              "  .colab-df-quickchart-complete:disabled:hover {\n",
              "    background-color: var(--disabled-bg-color);\n",
              "    fill: var(--disabled-fill-color);\n",
              "    box-shadow: none;\n",
              "  }\n",
              "\n",
              "  .colab-df-spinner {\n",
              "    border: 2px solid var(--fill-color);\n",
              "    border-color: transparent;\n",
              "    border-bottom-color: var(--fill-color);\n",
              "    animation:\n",
              "      spin 1s steps(1) infinite;\n",
              "  }\n",
              "\n",
              "  @keyframes spin {\n",
              "    0% {\n",
              "      border-color: transparent;\n",
              "      border-bottom-color: var(--fill-color);\n",
              "      border-left-color: var(--fill-color);\n",
              "    }\n",
              "    20% {\n",
              "      border-color: transparent;\n",
              "      border-left-color: var(--fill-color);\n",
              "      border-top-color: var(--fill-color);\n",
              "    }\n",
              "    30% {\n",
              "      border-color: transparent;\n",
              "      border-left-color: var(--fill-color);\n",
              "      border-top-color: var(--fill-color);\n",
              "      border-right-color: var(--fill-color);\n",
              "    }\n",
              "    40% {\n",
              "      border-color: transparent;\n",
              "      border-right-color: var(--fill-color);\n",
              "      border-top-color: var(--fill-color);\n",
              "    }\n",
              "    60% {\n",
              "      border-color: transparent;\n",
              "      border-right-color: var(--fill-color);\n",
              "    }\n",
              "    80% {\n",
              "      border-color: transparent;\n",
              "      border-right-color: var(--fill-color);\n",
              "      border-bottom-color: var(--fill-color);\n",
              "    }\n",
              "    90% {\n",
              "      border-color: transparent;\n",
              "      border-bottom-color: var(--fill-color);\n",
              "    }\n",
              "  }\n",
              "</style>\n",
              "\n",
              "  <script>\n",
              "    async function quickchart(key) {\n",
              "      const quickchartButtonEl =\n",
              "        document.querySelector('#' + key + ' button');\n",
              "      quickchartButtonEl.disabled = true;  // To prevent multiple clicks.\n",
              "      quickchartButtonEl.classList.add('colab-df-spinner');\n",
              "      try {\n",
              "        const charts = await google.colab.kernel.invokeFunction(\n",
              "            'suggestCharts', [key], {});\n",
              "      } catch (error) {\n",
              "        console.error('Error during call to suggestCharts:', error);\n",
              "      }\n",
              "      quickchartButtonEl.classList.remove('colab-df-spinner');\n",
              "      quickchartButtonEl.classList.add('colab-df-quickchart-complete');\n",
              "    }\n",
              "    (() => {\n",
              "      let quickchartButtonEl =\n",
              "        document.querySelector('#df-c33953fa-2071-4fea-bd88-45b8b698ed6a button');\n",
              "      quickchartButtonEl.style.display =\n",
              "        google.colab.kernel.accessAllowed ? 'block' : 'none';\n",
              "    })();\n",
              "  </script>\n",
              "</div>\n",
              "    </div>\n",
              "  </div>\n"
            ]
          },
          "metadata": {},
          "execution_count": 53
        }
      ],
      "source": [
        "students = pandas.read_csv('https://raw.githubusercontent.com/jillxoreilly/StatsCourseBook/main/data/heightsCollege.csv')\n",
        "#Your code here to load the data - check previous examples if unsure how to do this\n",
        "\n",
        "students"
      ]
    },
    {
      "cell_type": "code",
      "execution_count": 55,
      "id": "39dc24e1",
      "metadata": {
        "id": "39dc24e1",
        "outputId": "a201f460-adaf-4241-8032-f4615cdbc292",
        "colab": {
          "base_uri": "https://localhost:8080/",
          "height": 448
        }
      },
      "outputs": [
        {
          "output_type": "execute_result",
          "data": {
            "text/plain": [
              "<Axes: ylabel='Density'>"
            ]
          },
          "metadata": {},
          "execution_count": 55
        },
        {
          "output_type": "display_data",
          "data": {
            "text/plain": [
              "<Figure size 640x480 with 1 Axes>"
            ],
            "image/png": "[encoded data removed]"
          },
          "metadata": {}
        }
      ],
      "source": [
        "sns.kdeplot(students)\n",
        "sns.rugplot(students)"
      ]
    },
    {
      "cell_type": "markdown",
      "source": [],
      "metadata": {
        "id": "KXonVlihE5rL"
      },
      "id": "KXonVlihE5rL"
    },
    {
      "cell_type": "markdown",
      "source": [
        "We may expect heights to be normally distributed, therefore we perform a one-sided independent sample t-test with the following hypotheses:\n",
        "\n",
        "Ho: the average student is not taller in lonsdale than in beaufort.\n",
        "\n",
        "Ha: the average student is taller in lonsdale than in beaufort."
      ],
      "metadata": {
        "id": "jT9J8i77DTKU"
      },
      "id": "jT9J8i77DTKU"
    },
    {
      "cell_type": "code",
      "source": [
        "stats.ttest_ind(students['lonsdale'],students['beaufort'], alternative='greater')"
      ],
      "metadata": {
        "id": "ZPu4PEMnDxny",
        "outputId": "2f9df6c2-62da-498c-cf2c-7e0fb7caa625",
        "colab": {
          "base_uri": "https://localhost:8080/"
        }
      },
      "id": "ZPu4PEMnDxny",
      "execution_count": 57,
      "outputs": [
        {
          "output_type": "execute_result",
          "data": {
            "text/plain": [
              "TtestResult(statistic=2.5783308721106657, pvalue=0.006244458161479009, df=58.0)"
            ]
          },
          "metadata": {},
          "execution_count": 57
        }
      ]
    },
    {
      "cell_type": "markdown",
      "source": [
        "Conclusion: we may reject our null hypothesis with p<0.007, suggesting that the average student is taller in lonsdale than in beaufort."
      ],
      "metadata": {
        "id": "xoDMeg-qEqXc"
      },
      "id": "xoDMeg-qEqXc"
    }
  ],
  "metadata": {
    "kernelspec": {
      "display_name": "Python 3 (ipykernel)",
      "language": "python",
      "name": "python3"
    },
    "language_info": {
      "codemirror_mode": {
        "name": "ipython",
        "version": 3
      },
      "file_extension": ".py",
      "mimetype": "text/x-python",
      "name": "python",
      "nbconvert_exporter": "python",
      "pygments_lexer": "ipython3",
      "version": "3.9.13"
    },
    "colab": {
      "provenance": []
    }
  },
  "nbformat": 4,
  "nbformat_minor": 5
}